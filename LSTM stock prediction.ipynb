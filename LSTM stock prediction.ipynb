{
 "cells": [
  {
   "cell_type": "markdown",
   "metadata": {},
   "source": [
    "# Problem 1. \n",
    "\n",
    "Use code discussed in class and presented in the attached Jupyter notebook apple_stock_prediction.ipynb. Choose another company and run the code for somewhat extended test days ending on November 2nd, 2023. If a company does not have a history going back to January 2016, use whatever data are available. "
   ]
  },
  {
   "cell_type": "markdown",
   "metadata": {},
   "source": [
    "# Time Series Analysis of `MSFT` stock values"
   ]
  },
  {
   "cell_type": "markdown",
   "metadata": {},
   "source": [
    "For various manipulations we will need Numpy and will plot the results using matplotlib"
   ]
  },
  {
   "cell_type": "code",
   "execution_count": 1,
   "metadata": {},
   "outputs": [],
   "source": [
    "import numpy as np  \n",
    "import matplotlib.pyplot as plt  \n",
    "import pandas as pd  \n",
    "%matplotlib inline "
   ]
  },
  {
   "cell_type": "code",
   "execution_count": 2,
   "metadata": {},
   "outputs": [],
   "source": [
    "import tensorflow as tf"
   ]
  },
  {
   "cell_type": "code",
   "execution_count": 3,
   "metadata": {},
   "outputs": [
    {
     "name": "stdout",
     "output_type": "stream",
     "text": [
      "[name: \"/device:CPU:0\"\n",
      "device_type: \"CPU\"\n",
      "memory_limit: 268435456\n",
      "locality {\n",
      "}\n",
      "incarnation: 14402845962137347884\n",
      "xla_global_id: -1\n",
      "]\n"
     ]
    }
   ],
   "source": [
    "from tensorflow.python.client import device_lib \n",
    "print(device_lib.list_local_devices())"
   ]
  },
  {
   "cell_type": "markdown",
   "metadata": {},
   "source": [
    "Downloaded data are loaded in a panda. Besides the date index, downloaded data have 6 features: Open,\tHigh,\tLow,\tClose,\tAdj Close, and\tVolume.\n",
    "    At the moment, we do not care about all of those features. We will look only at the opening price and ignore the others."
   ]
  },
  {
   "cell_type": "code",
   "execution_count": 53,
   "metadata": {},
   "outputs": [],
   "source": [
    "msft_training_complete = pd.read_csv(r'MSFT.csv')  "
   ]
  },
  {
   "cell_type": "code",
   "execution_count": 54,
   "metadata": {},
   "outputs": [
    {
     "data": {
      "text/html": [
       "<div>\n",
       "<style scoped>\n",
       "    .dataframe tbody tr th:only-of-type {\n",
       "        vertical-align: middle;\n",
       "    }\n",
       "\n",
       "    .dataframe tbody tr th {\n",
       "        vertical-align: top;\n",
       "    }\n",
       "\n",
       "    .dataframe thead th {\n",
       "        text-align: right;\n",
       "    }\n",
       "</style>\n",
       "<table border=\"1\" class=\"dataframe\">\n",
       "  <thead>\n",
       "    <tr style=\"text-align: right;\">\n",
       "      <th></th>\n",
       "      <th>Date</th>\n",
       "      <th>Open</th>\n",
       "      <th>High</th>\n",
       "      <th>Low</th>\n",
       "      <th>Close</th>\n",
       "      <th>Adj Close</th>\n",
       "      <th>Volume</th>\n",
       "    </tr>\n",
       "  </thead>\n",
       "  <tbody>\n",
       "    <tr>\n",
       "      <th>1964</th>\n",
       "      <td>2023-10-23</td>\n",
       "      <td>325.470001</td>\n",
       "      <td>332.730011</td>\n",
       "      <td>324.390015</td>\n",
       "      <td>329.320007</td>\n",
       "      <td>329.320007</td>\n",
       "      <td>24374700</td>\n",
       "    </tr>\n",
       "    <tr>\n",
       "      <th>1965</th>\n",
       "      <td>2023-10-24</td>\n",
       "      <td>331.299988</td>\n",
       "      <td>331.839996</td>\n",
       "      <td>327.600006</td>\n",
       "      <td>330.529999</td>\n",
       "      <td>330.529999</td>\n",
       "      <td>31153600</td>\n",
       "    </tr>\n",
       "    <tr>\n",
       "      <th>1966</th>\n",
       "      <td>2023-10-25</td>\n",
       "      <td>345.019989</td>\n",
       "      <td>346.200012</td>\n",
       "      <td>337.619995</td>\n",
       "      <td>340.670013</td>\n",
       "      <td>340.670013</td>\n",
       "      <td>55053800</td>\n",
       "    </tr>\n",
       "    <tr>\n",
       "      <th>1967</th>\n",
       "      <td>2023-10-26</td>\n",
       "      <td>340.540009</td>\n",
       "      <td>341.630005</td>\n",
       "      <td>326.940002</td>\n",
       "      <td>327.890015</td>\n",
       "      <td>327.890015</td>\n",
       "      <td>37828500</td>\n",
       "    </tr>\n",
       "    <tr>\n",
       "      <th>1968</th>\n",
       "      <td>2023-10-27</td>\n",
       "      <td>330.429993</td>\n",
       "      <td>336.720001</td>\n",
       "      <td>328.399994</td>\n",
       "      <td>329.809998</td>\n",
       "      <td>329.809998</td>\n",
       "      <td>29835200</td>\n",
       "    </tr>\n",
       "  </tbody>\n",
       "</table>\n",
       "</div>"
      ],
      "text/plain": [
       "            Date        Open        High         Low       Close   Adj Close  \\\n",
       "1964  2023-10-23  325.470001  332.730011  324.390015  329.320007  329.320007   \n",
       "1965  2023-10-24  331.299988  331.839996  327.600006  330.529999  330.529999   \n",
       "1966  2023-10-25  345.019989  346.200012  337.619995  340.670013  340.670013   \n",
       "1967  2023-10-26  340.540009  341.630005  326.940002  327.890015  327.890015   \n",
       "1968  2023-10-27  330.429993  336.720001  328.399994  329.809998  329.809998   \n",
       "\n",
       "        Volume  \n",
       "1964  24374700  \n",
       "1965  31153600  \n",
       "1966  55053800  \n",
       "1967  37828500  \n",
       "1968  29835200  "
      ]
     },
     "execution_count": 54,
     "metadata": {},
     "output_type": "execute_result"
    }
   ],
   "source": [
    "msft_training_complete.tail()"
   ]
  },
  {
   "cell_type": "code",
   "execution_count": 55,
   "metadata": {},
   "outputs": [],
   "source": [
    "msft_training_complete['Date'] = pd.to_datetime(msft_training_complete['Date'])"
   ]
  },
  {
   "cell_type": "code",
   "execution_count": 56,
   "metadata": {},
   "outputs": [],
   "source": [
    "filter = (msft_training_complete['Date'] > '2023-08-31')"
   ]
  },
  {
   "cell_type": "code",
   "execution_count": 57,
   "metadata": {},
   "outputs": [],
   "source": [
    "msft_test = msft_training_complete[filter]"
   ]
  },
  {
   "cell_type": "code",
   "execution_count": 58,
   "metadata": {},
   "outputs": [
    {
     "data": {
      "text/html": [
       "<div>\n",
       "<style scoped>\n",
       "    .dataframe tbody tr th:only-of-type {\n",
       "        vertical-align: middle;\n",
       "    }\n",
       "\n",
       "    .dataframe tbody tr th {\n",
       "        vertical-align: top;\n",
       "    }\n",
       "\n",
       "    .dataframe thead th {\n",
       "        text-align: right;\n",
       "    }\n",
       "</style>\n",
       "<table border=\"1\" class=\"dataframe\">\n",
       "  <thead>\n",
       "    <tr style=\"text-align: right;\">\n",
       "      <th></th>\n",
       "      <th>Date</th>\n",
       "      <th>Open</th>\n",
       "      <th>High</th>\n",
       "      <th>Low</th>\n",
       "      <th>Close</th>\n",
       "      <th>Adj Close</th>\n",
       "      <th>Volume</th>\n",
       "    </tr>\n",
       "  </thead>\n",
       "  <tbody>\n",
       "    <tr>\n",
       "      <th>1929</th>\n",
       "      <td>2023-09-01</td>\n",
       "      <td>331.309998</td>\n",
       "      <td>331.989990</td>\n",
       "      <td>326.779999</td>\n",
       "      <td>328.660004</td>\n",
       "      <td>328.660004</td>\n",
       "      <td>14931200</td>\n",
       "    </tr>\n",
       "    <tr>\n",
       "      <th>1930</th>\n",
       "      <td>2023-09-05</td>\n",
       "      <td>329.000000</td>\n",
       "      <td>334.850006</td>\n",
       "      <td>328.660004</td>\n",
       "      <td>333.549988</td>\n",
       "      <td>333.549988</td>\n",
       "      <td>18553900</td>\n",
       "    </tr>\n",
       "    <tr>\n",
       "      <th>1931</th>\n",
       "      <td>2023-09-06</td>\n",
       "      <td>333.380005</td>\n",
       "      <td>334.459991</td>\n",
       "      <td>330.179993</td>\n",
       "      <td>332.880005</td>\n",
       "      <td>332.880005</td>\n",
       "      <td>17535800</td>\n",
       "    </tr>\n",
       "    <tr>\n",
       "      <th>1932</th>\n",
       "      <td>2023-09-07</td>\n",
       "      <td>331.290009</td>\n",
       "      <td>333.079987</td>\n",
       "      <td>329.029999</td>\n",
       "      <td>329.910004</td>\n",
       "      <td>329.910004</td>\n",
       "      <td>18381000</td>\n",
       "    </tr>\n",
       "    <tr>\n",
       "      <th>1933</th>\n",
       "      <td>2023-09-08</td>\n",
       "      <td>330.089996</td>\n",
       "      <td>336.160004</td>\n",
       "      <td>329.459991</td>\n",
       "      <td>334.269989</td>\n",
       "      <td>334.269989</td>\n",
       "      <td>19530100</td>\n",
       "    </tr>\n",
       "  </tbody>\n",
       "</table>\n",
       "</div>"
      ],
      "text/plain": [
       "           Date        Open        High         Low       Close   Adj Close  \\\n",
       "1929 2023-09-01  331.309998  331.989990  326.779999  328.660004  328.660004   \n",
       "1930 2023-09-05  329.000000  334.850006  328.660004  333.549988  333.549988   \n",
       "1931 2023-09-06  333.380005  334.459991  330.179993  332.880005  332.880005   \n",
       "1932 2023-09-07  331.290009  333.079987  329.029999  329.910004  329.910004   \n",
       "1933 2023-09-08  330.089996  336.160004  329.459991  334.269989  334.269989   \n",
       "\n",
       "        Volume  \n",
       "1929  14931200  \n",
       "1930  18553900  \n",
       "1931  17535800  \n",
       "1932  18381000  \n",
       "1933  19530100  "
      ]
     },
     "execution_count": 58,
     "metadata": {},
     "output_type": "execute_result"
    }
   ],
   "source": [
    "msft_test.head()"
   ]
  },
  {
   "cell_type": "code",
   "execution_count": 59,
   "metadata": {},
   "outputs": [],
   "source": [
    "filter1 = (msft_training_complete['Date'] <= '2023-08-31')"
   ]
  },
  {
   "cell_type": "code",
   "execution_count": 60,
   "metadata": {},
   "outputs": [],
   "source": [
    "msft_training_complete = msft_training_complete[filter1]"
   ]
  },
  {
   "cell_type": "code",
   "execution_count": 61,
   "metadata": {},
   "outputs": [],
   "source": [
    "msft_training_complete.to_csv('msft_train')\n",
    "msft_test.to_csv('msft_test')"
   ]
  },
  {
   "cell_type": "code",
   "execution_count": 62,
   "metadata": {
    "scrolled": true
   },
   "outputs": [
    {
     "data": {
      "text/plain": [
       "<Axes: xlabel='Date'>"
      ]
     },
     "execution_count": 62,
     "metadata": {},
     "output_type": "execute_result"
    },
    {
     "data": {
      "image/png": "[encoded data removed]",
      "text/plain": [
       "<Figure size 640x480 with 1 Axes>"
      ]
     },
     "metadata": {},
     "output_type": "display_data"
    }
   ],
   "source": [
    "msft_training_complete.plot(x='Date',y='Open')"
   ]
  },
  {
   "cell_type": "code",
   "execution_count": 63,
   "metadata": {},
   "outputs": [],
   "source": [
    "msft_training_processed = msft_training_complete.iloc[:, 1:2].values  "
   ]
  },
  {
   "cell_type": "code",
   "execution_count": 64,
   "metadata": {},
   "outputs": [
    {
     "name": "stdout",
     "output_type": "stream",
     "text": [
      "[[ 54.32    ]\n",
      " [ 54.93    ]\n",
      " [ 54.32    ]\n",
      " ...\n",
      " [321.880005]\n",
      " [328.670013]\n",
      " [329.200012]]\n",
      "length of the dataset:  1929\n"
     ]
    }
   ],
   "source": [
    "print(msft_training_processed)\n",
    "print(\"length of the dataset: \", msft_training_processed.size)"
   ]
  },
  {
   "cell_type": "markdown",
   "metadata": {},
   "source": [
    "We want to normilize our data and will use SciKitLearn `MinMaxScaler` from sklearn.preprocessing libary. All values of `Open`(ing) price will be scaled to the interval between 0 and 1."
   ]
  },
  {
   "cell_type": "code",
   "execution_count": 255,
   "metadata": {},
   "outputs": [],
   "source": [
    "from sklearn.preprocessing import MinMaxScaler  \n",
    "scaler = MinMaxScaler(feature_range = (0, 1))\n",
    "\n",
    "msft_training_scaled = scaler.fit_transform(msft_training_processed)  \n"
   ]
  },
  {
   "cell_type": "markdown",
   "metadata": {},
   "source": [
    "In a time series problem, we usually predict a value at time T, based on the data from the previous N time steps. In our case, we will predict `Open` price on day T, based on `Open` prices on days T-1,T-2,..., T-N. The number of steps (days), N, could be arbitray. Concretely, we will predict the opening stock price of the data based on the opening stock prices for the past 30 days. One presumes that larger N will give higher prediction. However, larger N will most probably result in longer training and possibly some loss of numerical precision. "
   ]
  },
  {
   "cell_type": "code",
   "execution_count": 69,
   "metadata": {},
   "outputs": [
    {
     "name": "stdout",
     "output_type": "stream",
     "text": [
      "(1929, 1)\n",
      "[[0.01801514]\n",
      " [0.01996359]\n",
      " [0.01801514]\n",
      " ...\n",
      " [0.87264831]\n",
      " [0.89433677]\n",
      " [0.89602968]]\n"
     ]
    }
   ],
   "source": [
    "print(msft_training_scaled.shape)\n",
    "print(msft_training_scaled)"
   ]
  },
  {
   "cell_type": "markdown",
   "metadata": {},
   "source": [
    "In the script below we create two lists: feature_set and labels. There are 1928 records in the training data. We execute a loop that starts from 61st record and stores 60 records at the beginning to the feature_set list. The 61st record is stored in the labels list. Then we move the cursor by one point and repeate the mapping. "
   ]
  },
  {
   "cell_type": "code",
   "execution_count": 70,
   "metadata": {},
   "outputs": [],
   "source": [
    "features_set = []  \n",
    "labels = []  \n",
    "for i in range(60, 1929):  \n",
    "    features_set.append(msft_training_scaled[i-60:i,0])\n",
    "    labels.append(msft_training_scaled[i,0])"
   ]
  },
  {
   "cell_type": "code",
   "execution_count": 71,
   "metadata": {},
   "outputs": [
    {
     "name": "stdout",
     "output_type": "stream",
     "text": [
      "1869\n",
      "1869\n",
      "60\n",
      "0.020027473089085507\n"
     ]
    }
   ],
   "source": [
    "print(len(features_set))\n",
    "print(len(labels))\n",
    "print(len(features_set[0]))\n",
    "#print(features_set)\n",
    "print(labels[0])"
   ]
  },
  {
   "cell_type": "markdown",
   "metadata": {},
   "source": [
    "We need to convert both the `feature_set` and the `labels list` to numpy arrays before we could use them for training. Execute the following code:"
   ]
  },
  {
   "cell_type": "code",
   "execution_count": 72,
   "metadata": {},
   "outputs": [],
   "source": [
    "features_set, labels = np.array(features_set), np.array(labels)  "
   ]
  },
  {
   "cell_type": "markdown",
   "metadata": {},
   "source": [
    "What are the dimensions of the feature set?"
   ]
  },
  {
   "cell_type": "code",
   "execution_count": 147,
   "metadata": {},
   "outputs": [
    {
     "name": "stdout",
     "output_type": "stream",
     "text": [
      "(1869, 60, 1)\n",
      "1869 60\n"
     ]
    }
   ],
   "source": [
    "print(features_set.shape)\n",
    "print(features_set.shape[0], features_set.shape[1])"
   ]
  },
  {
   "cell_type": "code",
   "execution_count": 74,
   "metadata": {},
   "outputs": [
    {
     "name": "stdout",
     "output_type": "stream",
     "text": [
      "(1869,)\n",
      "[0.02002747 0.02034688 0.02156067 ... 0.87264831 0.89433677 0.89602968]\n"
     ]
    }
   ],
   "source": [
    "print(labels.shape)\n",
    "print(labels)"
   ]
  },
  {
   "cell_type": "markdown",
   "metadata": {},
   "source": [
    "## Convert Training Data to Right Shape\n",
    "In order to train LSTM, we need to convert our data into the shape accepted by the LSTM. \n",
    "LSTM expects a three-dimensional format. \n",
    "The first dimension is the number of records or rows in the dataset which is 1868 in our case. \n",
    "The second dimension is the number of time steps which is 60.\n",
    "The last dimension is the number of indicators. Since we are only using one feature, i.e Open, the number of indicators will be 1. Execute the following:"
   ]
  },
  {
   "cell_type": "code",
   "execution_count": 75,
   "metadata": {},
   "outputs": [],
   "source": [
    "features_set = np.reshape(features_set, (features_set.shape[0], features_set.shape[1], 1))  "
   ]
  },
  {
   "cell_type": "code",
   "execution_count": 76,
   "metadata": {},
   "outputs": [
    {
     "name": "stdout",
     "output_type": "stream",
     "text": [
      "(1869, 60, 1)\n"
     ]
    }
   ],
   "source": [
    "print(features_set.shape)"
   ]
  },
  {
   "cell_type": "markdown",
   "metadata": {},
   "source": [
    "## Traning the LSTM\n",
    "We will use Keras API.  \n",
    "The LSTM model we will create is sequential model with multiple layers. We will use four LSTM layers followed by a dense layer that predicts the future stock price.\n",
    "Let's first import the libraries that we will need in order to create our model:"
   ]
  },
  {
   "cell_type": "code",
   "execution_count": 77,
   "metadata": {},
   "outputs": [],
   "source": [
    "import tensorflow as tf\n",
    "from tensorflow import keras\n",
    "from tensorflow.keras.models import Sequential  \n",
    "from tensorflow.keras.layers import Dense  \n",
    "from tensorflow.keras.layers import LSTM  \n",
    "from tensorflow.keras.layers import Dropout  "
   ]
  },
  {
   "cell_type": "markdown",
   "metadata": {},
   "source": [
    "## Building the Model\n",
    "\n",
    "As a first step, we need to instantiate the Sequential class. This is our model class. We will add LSTM, Dropout and Dense layers to this model. The first parameter to the LSTM layer is the number of neurons or nodes that we want in the layer. The second parameter is `return_sequences`, which is set to `True` since we will add more layers to the model. The first parameter to the `input_shape` is the number of time steps while the last parameter is the number of indicators.\n",
    "\n",
    "`return_sequences`=`True`: `Boolean`. Whether to return the last output in the output sequence, or the full sequence. That return sequences return the hidden state output for each input time step. When stacking LSTM layers you must set `return_sequnce` to `True`\n",
    "We are leaving \n",
    "`unroll=False`: `Boolean` (default `False`). If `True`, the network will be unrolled, else a symbolic loop will be used. Unrolling can speed-up a RNN, although it tends to be more memory-intensive. Unrolling is only suitable for short sequences."
   ]
  },
  {
   "cell_type": "code",
   "execution_count": 78,
   "metadata": {},
   "outputs": [
    {
     "name": "stderr",
     "output_type": "stream",
     "text": [
      "2023-10-30 15:05:16.481539: I tensorflow/core/common_runtime/executor.cc:1197] [/device:CPU:0] (DEBUG INFO) Executor start aborting (this does not indicate an error and you can ignore this message): INVALID_ARGUMENT: You must feed a value for placeholder tensor 'gradients/split_2_grad/concat/split_2/split_dim' with dtype int32\n",
      "\t [[{{node gradients/split_2_grad/concat/split_2/split_dim}}]]\n",
      "2023-10-30 15:05:16.482347: I tensorflow/core/common_runtime/executor.cc:1197] [/device:CPU:0] (DEBUG INFO) Executor start aborting (this does not indicate an error and you can ignore this message): INVALID_ARGUMENT: You must feed a value for placeholder tensor 'gradients/split_grad/concat/split/split_dim' with dtype int32\n",
      "\t [[{{node gradients/split_grad/concat/split/split_dim}}]]\n",
      "2023-10-30 15:05:16.482910: I tensorflow/core/common_runtime/executor.cc:1197] [/device:CPU:0] (DEBUG INFO) Executor start aborting (this does not indicate an error and you can ignore this message): INVALID_ARGUMENT: You must feed a value for placeholder tensor 'gradients/split_1_grad/concat/split_1/split_dim' with dtype int32\n",
      "\t [[{{node gradients/split_1_grad/concat/split_1/split_dim}}]]\n"
     ]
    }
   ],
   "source": [
    "model = Sequential()  \n",
    "model.add(LSTM(units=50, return_sequences=True, input_shape=(features_set.shape[1], 1),unroll=False))  "
   ]
  },
  {
   "cell_type": "markdown",
   "metadata": {},
   "source": [
    "To avoid over-fitting, we will add Dropout layers after every LSTM layer."
   ]
  },
  {
   "cell_type": "code",
   "execution_count": 79,
   "metadata": {},
   "outputs": [],
   "source": [
    "model.add(Dropout(0.2))  "
   ]
  },
  {
   "cell_type": "code",
   "execution_count": 80,
   "metadata": {},
   "outputs": [
    {
     "name": "stderr",
     "output_type": "stream",
     "text": [
      "2023-10-30 15:05:18.932259: I tensorflow/core/common_runtime/executor.cc:1197] [/device:CPU:0] (DEBUG INFO) Executor start aborting (this does not indicate an error and you can ignore this message): INVALID_ARGUMENT: You must feed a value for placeholder tensor 'gradients/split_2_grad/concat/split_2/split_dim' with dtype int32\n",
      "\t [[{{node gradients/split_2_grad/concat/split_2/split_dim}}]]\n",
      "2023-10-30 15:05:18.932872: I tensorflow/core/common_runtime/executor.cc:1197] [/device:CPU:0] (DEBUG INFO) Executor start aborting (this does not indicate an error and you can ignore this message): INVALID_ARGUMENT: You must feed a value for placeholder tensor 'gradients/split_grad/concat/split/split_dim' with dtype int32\n",
      "\t [[{{node gradients/split_grad/concat/split/split_dim}}]]\n",
      "2023-10-30 15:05:18.933445: I tensorflow/core/common_runtime/executor.cc:1197] [/device:CPU:0] (DEBUG INFO) Executor start aborting (this does not indicate an error and you can ignore this message): INVALID_ARGUMENT: You must feed a value for placeholder tensor 'gradients/split_1_grad/concat/split_1/split_dim' with dtype int32\n",
      "\t [[{{node gradients/split_1_grad/concat/split_1/split_dim}}]]\n",
      "2023-10-30 15:05:18.999535: I tensorflow/core/common_runtime/executor.cc:1197] [/device:CPU:0] (DEBUG INFO) Executor start aborting (this does not indicate an error and you can ignore this message): INVALID_ARGUMENT: You must feed a value for placeholder tensor 'gradients/split_2_grad/concat/split_2/split_dim' with dtype int32\n",
      "\t [[{{node gradients/split_2_grad/concat/split_2/split_dim}}]]\n",
      "2023-10-30 15:05:19.000034: I tensorflow/core/common_runtime/executor.cc:1197] [/device:CPU:0] (DEBUG INFO) Executor start aborting (this does not indicate an error and you can ignore this message): INVALID_ARGUMENT: You must feed a value for placeholder tensor 'gradients/split_grad/concat/split/split_dim' with dtype int32\n",
      "\t [[{{node gradients/split_grad/concat/split/split_dim}}]]\n",
      "2023-10-30 15:05:19.000518: I tensorflow/core/common_runtime/executor.cc:1197] [/device:CPU:0] (DEBUG INFO) Executor start aborting (this does not indicate an error and you can ignore this message): INVALID_ARGUMENT: You must feed a value for placeholder tensor 'gradients/split_1_grad/concat/split_1/split_dim' with dtype int32\n",
      "\t [[{{node gradients/split_1_grad/concat/split_1/split_dim}}]]\n",
      "2023-10-30 15:05:19.062080: I tensorflow/core/common_runtime/executor.cc:1197] [/device:CPU:0] (DEBUG INFO) Executor start aborting (this does not indicate an error and you can ignore this message): INVALID_ARGUMENT: You must feed a value for placeholder tensor 'gradients/split_2_grad/concat/split_2/split_dim' with dtype int32\n",
      "\t [[{{node gradients/split_2_grad/concat/split_2/split_dim}}]]\n",
      "2023-10-30 15:05:19.062532: I tensorflow/core/common_runtime/executor.cc:1197] [/device:CPU:0] (DEBUG INFO) Executor start aborting (this does not indicate an error and you can ignore this message): INVALID_ARGUMENT: You must feed a value for placeholder tensor 'gradients/split_grad/concat/split/split_dim' with dtype int32\n",
      "\t [[{{node gradients/split_grad/concat/split/split_dim}}]]\n",
      "2023-10-30 15:05:19.062993: I tensorflow/core/common_runtime/executor.cc:1197] [/device:CPU:0] (DEBUG INFO) Executor start aborting (this does not indicate an error and you can ignore this message): INVALID_ARGUMENT: You must feed a value for placeholder tensor 'gradients/split_1_grad/concat/split_1/split_dim' with dtype int32\n",
      "\t [[{{node gradients/split_1_grad/concat/split_1/split_dim}}]]\n"
     ]
    }
   ],
   "source": [
    "model.add(LSTM(units=50, return_sequences=True))  \n",
    "model.add(Dropout(0.2))\n",
    "\n",
    "model.add(LSTM(units=50, return_sequences=True))  \n",
    "model.add(Dropout(0.2))\n",
    "\n",
    "model.add(LSTM(units=50))  \n",
    "model.add(Dropout(0.2))  \n"
   ]
  },
  {
   "cell_type": "markdown",
   "metadata": {},
   "source": [
    "The number of neurons, units = 50, in every LSTM subcell is somewhat arbitrary. You should play with that parameter and find an optimal value"
   ]
  },
  {
   "cell_type": "markdown",
   "metadata": {},
   "source": [
    "## Creating a Dense Layer\n",
    "\n",
    "To make our model more robust, we add a Dense layer at the end of the model. The number of neurons in the Dense layer will be set to 1 since we want to predict a single value in the output.\n"
   ]
  },
  {
   "cell_type": "code",
   "execution_count": 81,
   "metadata": {},
   "outputs": [],
   "source": [
    "model.add(Dense(units = 1))  "
   ]
  },
  {
   "cell_type": "code",
   "execution_count": 82,
   "metadata": {},
   "outputs": [
    {
     "name": "stdout",
     "output_type": "stream",
     "text": [
      "Model: \"sequential_1\"\n",
      "_________________________________________________________________\n",
      " Layer (type)                Output Shape              Param #   \n",
      "=================================================================\n",
      " lstm_4 (LSTM)               (None, 60, 50)            10400     \n",
      "                                                                 \n",
      " dropout_4 (Dropout)         (None, 60, 50)            0         \n",
      "                                                                 \n",
      " lstm_5 (LSTM)               (None, 60, 50)            20200     \n",
      "                                                                 \n",
      " dropout_5 (Dropout)         (None, 60, 50)            0         \n",
      "                                                                 \n",
      " lstm_6 (LSTM)               (None, 60, 50)            20200     \n",
      "                                                                 \n",
      " dropout_6 (Dropout)         (None, 60, 50)            0         \n",
      "                                                                 \n",
      " lstm_7 (LSTM)               (None, 50)                20200     \n",
      "                                                                 \n",
      " dropout_7 (Dropout)         (None, 50)                0         \n",
      "                                                                 \n",
      " dense_1 (Dense)             (None, 1)                 51        \n",
      "                                                                 \n",
      "=================================================================\n",
      "Total params: 71,051\n",
      "Trainable params: 71,051\n",
      "Non-trainable params: 0\n",
      "_________________________________________________________________\n"
     ]
    }
   ],
   "source": [
    "model.summary()"
   ]
  },
  {
   "cell_type": "markdown",
   "metadata": {},
   "source": [
    "## Model Compilation\n",
    "Finally, we need to compile our LSTM model before we can train it on the training data. "
   ]
  },
  {
   "cell_type": "code",
   "execution_count": 83,
   "metadata": {},
   "outputs": [],
   "source": [
    "model.compile(optimizer = 'adam', loss = 'mean_squared_error')  "
   ]
  },
  {
   "cell_type": "markdown",
   "metadata": {},
   "source": [
    "## Model Training\n",
    "Now is the time to train the model that we defined in the previous few steps. To do so, we call the `fit` method on the model and pass it our training features and labels as shown below:\n"
   ]
  },
  {
   "cell_type": "code",
   "execution_count": 84,
   "metadata": {},
   "outputs": [
    {
     "name": "stdout",
     "output_type": "stream",
     "text": [
      "Epoch 1/100\n"
     ]
    },
    {
     "name": "stderr",
     "output_type": "stream",
     "text": [
      "2023-10-30 15:05:31.126272: I tensorflow/core/common_runtime/executor.cc:1197] [/device:CPU:0] (DEBUG INFO) Executor start aborting (this does not indicate an error and you can ignore this message): INVALID_ARGUMENT: You must feed a value for placeholder tensor 'gradients/split_2_grad/concat/split_2/split_dim' with dtype int32\n",
      "\t [[{{node gradients/split_2_grad/concat/split_2/split_dim}}]]\n",
      "2023-10-30 15:05:31.127152: I tensorflow/core/common_runtime/executor.cc:1197] [/device:CPU:0] (DEBUG INFO) Executor start aborting (this does not indicate an error and you can ignore this message): INVALID_ARGUMENT: You must feed a value for placeholder tensor 'gradients/split_grad/concat/split/split_dim' with dtype int32\n",
      "\t [[{{node gradients/split_grad/concat/split/split_dim}}]]\n",
      "2023-10-30 15:05:31.127573: I tensorflow/core/common_runtime/executor.cc:1197] [/device:CPU:0] (DEBUG INFO) Executor start aborting (this does not indicate an error and you can ignore this message): INVALID_ARGUMENT: You must feed a value for placeholder tensor 'gradients/split_1_grad/concat/split_1/split_dim' with dtype int32\n",
      "\t [[{{node gradients/split_1_grad/concat/split_1/split_dim}}]]\n",
      "2023-10-30 15:05:31.186431: I tensorflow/core/common_runtime/executor.cc:1197] [/device:CPU:0] (DEBUG INFO) Executor start aborting (this does not indicate an error and you can ignore this message): INVALID_ARGUMENT: You must feed a value for placeholder tensor 'gradients/split_2_grad/concat/split_2/split_dim' with dtype int32\n",
      "\t [[{{node gradients/split_2_grad/concat/split_2/split_dim}}]]\n",
      "2023-10-30 15:05:31.186864: I tensorflow/core/common_runtime/executor.cc:1197] [/device:CPU:0] (DEBUG INFO) Executor start aborting (this does not indicate an error and you can ignore this message): INVALID_ARGUMENT: You must feed a value for placeholder tensor 'gradients/split_grad/concat/split/split_dim' with dtype int32\n",
      "\t [[{{node gradients/split_grad/concat/split/split_dim}}]]\n",
      "2023-10-30 15:05:31.187236: I tensorflow/core/common_runtime/executor.cc:1197] [/device:CPU:0] (DEBUG INFO) Executor start aborting (this does not indicate an error and you can ignore this message): INVALID_ARGUMENT: You must feed a value for placeholder tensor 'gradients/split_1_grad/concat/split_1/split_dim' with dtype int32\n",
      "\t [[{{node gradients/split_1_grad/concat/split_1/split_dim}}]]\n",
      "2023-10-30 15:05:31.245477: I tensorflow/core/common_runtime/executor.cc:1197] [/device:CPU:0] (DEBUG INFO) Executor start aborting (this does not indicate an error and you can ignore this message): INVALID_ARGUMENT: You must feed a value for placeholder tensor 'gradients/split_2_grad/concat/split_2/split_dim' with dtype int32\n",
      "\t [[{{node gradients/split_2_grad/concat/split_2/split_dim}}]]\n",
      "2023-10-30 15:05:31.245906: I tensorflow/core/common_runtime/executor.cc:1197] [/device:CPU:0] (DEBUG INFO) Executor start aborting (this does not indicate an error and you can ignore this message): INVALID_ARGUMENT: You must feed a value for placeholder tensor 'gradients/split_grad/concat/split/split_dim' with dtype int32\n",
      "\t [[{{node gradients/split_grad/concat/split/split_dim}}]]\n",
      "2023-10-30 15:05:31.246447: I tensorflow/core/common_runtime/executor.cc:1197] [/device:CPU:0] (DEBUG INFO) Executor start aborting (this does not indicate an error and you can ignore this message): INVALID_ARGUMENT: You must feed a value for placeholder tensor 'gradients/split_1_grad/concat/split_1/split_dim' with dtype int32\n",
      "\t [[{{node gradients/split_1_grad/concat/split_1/split_dim}}]]\n",
      "2023-10-30 15:05:31.305771: I tensorflow/core/common_runtime/executor.cc:1197] [/device:CPU:0] (DEBUG INFO) Executor start aborting (this does not indicate an error and you can ignore this message): INVALID_ARGUMENT: You must feed a value for placeholder tensor 'gradients/split_2_grad/concat/split_2/split_dim' with dtype int32\n",
      "\t [[{{node gradients/split_2_grad/concat/split_2/split_dim}}]]\n",
      "2023-10-30 15:05:31.306301: I tensorflow/core/common_runtime/executor.cc:1197] [/device:CPU:0] (DEBUG INFO) Executor start aborting (this does not indicate an error and you can ignore this message): INVALID_ARGUMENT: You must feed a value for placeholder tensor 'gradients/split_grad/concat/split/split_dim' with dtype int32\n",
      "\t [[{{node gradients/split_grad/concat/split/split_dim}}]]\n",
      "2023-10-30 15:05:31.306777: I tensorflow/core/common_runtime/executor.cc:1197] [/device:CPU:0] (DEBUG INFO) Executor start aborting (this does not indicate an error and you can ignore this message): INVALID_ARGUMENT: You must feed a value for placeholder tensor 'gradients/split_1_grad/concat/split_1/split_dim' with dtype int32\n",
      "\t [[{{node gradients/split_1_grad/concat/split_1/split_dim}}]]\n",
      "2023-10-30 15:05:31.678403: I tensorflow/core/common_runtime/executor.cc:1197] [/device:CPU:0] (DEBUG INFO) Executor start aborting (this does not indicate an error and you can ignore this message): INVALID_ARGUMENT: You must feed a value for placeholder tensor 'gradients/split_2_grad/concat/split_2/split_dim' with dtype int32\n",
      "\t [[{{node gradients/split_2_grad/concat/split_2/split_dim}}]]\n",
      "2023-10-30 15:05:31.679158: I tensorflow/core/common_runtime/executor.cc:1197] [/device:CPU:0] (DEBUG INFO) Executor start aborting (this does not indicate an error and you can ignore this message): INVALID_ARGUMENT: You must feed a value for placeholder tensor 'gradients/split_grad/concat/split/split_dim' with dtype int32\n",
      "\t [[{{node gradients/split_grad/concat/split/split_dim}}]]\n",
      "2023-10-30 15:05:31.679728: I tensorflow/core/common_runtime/executor.cc:1197] [/device:CPU:0] (DEBUG INFO) Executor start aborting (this does not indicate an error and you can ignore this message): INVALID_ARGUMENT: You must feed a value for placeholder tensor 'gradients/split_1_grad/concat/split_1/split_dim' with dtype int32\n",
      "\t [[{{node gradients/split_1_grad/concat/split_1/split_dim}}]]\n",
      "2023-10-30 15:05:31.738946: I tensorflow/core/common_runtime/executor.cc:1197] [/device:CPU:0] (DEBUG INFO) Executor start aborting (this does not indicate an error and you can ignore this message): INVALID_ARGUMENT: You must feed a value for placeholder tensor 'gradients/split_2_grad/concat/split_2/split_dim' with dtype int32\n",
      "\t [[{{node gradients/split_2_grad/concat/split_2/split_dim}}]]\n",
      "2023-10-30 15:05:31.739372: I tensorflow/core/common_runtime/executor.cc:1197] [/device:CPU:0] (DEBUG INFO) Executor start aborting (this does not indicate an error and you can ignore this message): INVALID_ARGUMENT: You must feed a value for placeholder tensor 'gradients/split_grad/concat/split/split_dim' with dtype int32\n",
      "\t [[{{node gradients/split_grad/concat/split/split_dim}}]]\n",
      "2023-10-30 15:05:31.739882: I tensorflow/core/common_runtime/executor.cc:1197] [/device:CPU:0] (DEBUG INFO) Executor start aborting (this does not indicate an error and you can ignore this message): INVALID_ARGUMENT: You must feed a value for placeholder tensor 'gradients/split_1_grad/concat/split_1/split_dim' with dtype int32\n",
      "\t [[{{node gradients/split_1_grad/concat/split_1/split_dim}}]]\n",
      "2023-10-30 15:05:31.798388: I tensorflow/core/common_runtime/executor.cc:1197] [/device:CPU:0] (DEBUG INFO) Executor start aborting (this does not indicate an error and you can ignore this message): INVALID_ARGUMENT: You must feed a value for placeholder tensor 'gradients/split_2_grad/concat/split_2/split_dim' with dtype int32\n",
      "\t [[{{node gradients/split_2_grad/concat/split_2/split_dim}}]]\n",
      "2023-10-30 15:05:31.798831: I tensorflow/core/common_runtime/executor.cc:1197] [/device:CPU:0] (DEBUG INFO) Executor start aborting (this does not indicate an error and you can ignore this message): INVALID_ARGUMENT: You must feed a value for placeholder tensor 'gradients/split_grad/concat/split/split_dim' with dtype int32\n",
      "\t [[{{node gradients/split_grad/concat/split/split_dim}}]]\n",
      "2023-10-30 15:05:31.799291: I tensorflow/core/common_runtime/executor.cc:1197] [/device:CPU:0] (DEBUG INFO) Executor start aborting (this does not indicate an error and you can ignore this message): INVALID_ARGUMENT: You must feed a value for placeholder tensor 'gradients/split_1_grad/concat/split_1/split_dim' with dtype int32\n",
      "\t [[{{node gradients/split_1_grad/concat/split_1/split_dim}}]]\n",
      "2023-10-30 15:05:31.857522: I tensorflow/core/common_runtime/executor.cc:1197] [/device:CPU:0] (DEBUG INFO) Executor start aborting (this does not indicate an error and you can ignore this message): INVALID_ARGUMENT: You must feed a value for placeholder tensor 'gradients/split_2_grad/concat/split_2/split_dim' with dtype int32\n",
      "\t [[{{node gradients/split_2_grad/concat/split_2/split_dim}}]]\n",
      "2023-10-30 15:05:31.858021: I tensorflow/core/common_runtime/executor.cc:1197] [/device:CPU:0] (DEBUG INFO) Executor start aborting (this does not indicate an error and you can ignore this message): INVALID_ARGUMENT: You must feed a value for placeholder tensor 'gradients/split_grad/concat/split/split_dim' with dtype int32\n",
      "\t [[{{node gradients/split_grad/concat/split/split_dim}}]]\n",
      "2023-10-30 15:05:31.858496: I tensorflow/core/common_runtime/executor.cc:1197] [/device:CPU:0] (DEBUG INFO) Executor start aborting (this does not indicate an error and you can ignore this message): INVALID_ARGUMENT: You must feed a value for placeholder tensor 'gradients/split_1_grad/concat/split_1/split_dim' with dtype int32\n",
      "\t [[{{node gradients/split_1_grad/concat/split_1/split_dim}}]]\n"
     ]
    },
    {
     "name": "stdout",
     "output_type": "stream",
     "text": [
      "59/59 [==============================] - 4s 35ms/step - loss: 0.0199\n",
      "Epoch 2/100\n",
      "59/59 [==============================] - 2s 40ms/step - loss: 0.0039\n",
      "Epoch 3/100\n",
      "59/59 [==============================] - 2s 42ms/step - loss: 0.0035\n",
      "Epoch 4/100\n",
      "59/59 [==============================] - 2s 40ms/step - loss: 0.0036\n",
      "Epoch 5/100\n",
      "59/59 [==============================] - 2s 39ms/step - loss: 0.0029\n",
      "Epoch 6/100\n",
      "59/59 [==============================] - 2s 39ms/step - loss: 0.0032\n",
      "Epoch 7/100\n",
      "59/59 [==============================] - 2s 42ms/step - loss: 0.0028\n",
      "Epoch 8/100\n",
      "59/59 [==============================] - 2s 39ms/step - loss: 0.0030\n",
      "Epoch 9/100\n",
      "59/59 [==============================] - 2s 39ms/step - loss: 0.0032\n",
      "Epoch 10/100\n",
      "59/59 [==============================] - 2s 40ms/step - loss: 0.0026\n",
      "Epoch 11/100\n",
      "59/59 [==============================] - 2s 40ms/step - loss: 0.0034\n",
      "Epoch 12/100\n",
      "59/59 [==============================] - 2s 39ms/step - loss: 0.0024\n",
      "Epoch 13/100\n",
      "59/59 [==============================] - 2s 39ms/step - loss: 0.0024\n",
      "Epoch 14/100\n",
      "59/59 [==============================] - 2s 42ms/step - loss: 0.0027\n",
      "Epoch 15/100\n",
      "59/59 [==============================] - 2s 40ms/step - loss: 0.0022\n",
      "Epoch 16/100\n",
      "59/59 [==============================] - 2s 41ms/step - loss: 0.0023\n",
      "Epoch 17/100\n",
      "59/59 [==============================] - 2s 42ms/step - loss: 0.0025\n",
      "Epoch 18/100\n",
      "59/59 [==============================] - 2s 41ms/step - loss: 0.0022\n",
      "Epoch 19/100\n",
      "59/59 [==============================] - 2s 40ms/step - loss: 0.0020\n",
      "Epoch 20/100\n",
      "59/59 [==============================] - 2s 41ms/step - loss: 0.0022\n",
      "Epoch 21/100\n",
      "59/59 [==============================] - 2s 39ms/step - loss: 0.0020\n",
      "Epoch 22/100\n",
      "59/59 [==============================] - 2s 39ms/step - loss: 0.0020\n",
      "Epoch 23/100\n",
      "59/59 [==============================] - 2s 39ms/step - loss: 0.0019\n",
      "Epoch 24/100\n",
      "59/59 [==============================] - 2s 41ms/step - loss: 0.0018\n",
      "Epoch 25/100\n",
      "59/59 [==============================] - 2s 39ms/step - loss: 0.0020\n",
      "Epoch 26/100\n",
      "59/59 [==============================] - 2s 42ms/step - loss: 0.0019\n",
      "Epoch 27/100\n",
      "59/59 [==============================] - 2s 39ms/step - loss: 0.0020\n",
      "Epoch 28/100\n",
      "59/59 [==============================] - 2s 39ms/step - loss: 0.0017\n",
      "Epoch 29/100\n",
      "59/59 [==============================] - 2s 40ms/step - loss: 0.0016\n",
      "Epoch 30/100\n",
      "59/59 [==============================] - 2s 40ms/step - loss: 0.0016\n",
      "Epoch 31/100\n",
      "59/59 [==============================] - 2s 39ms/step - loss: 0.0016\n",
      "Epoch 32/100\n",
      "59/59 [==============================] - 2s 39ms/step - loss: 0.0016\n",
      "Epoch 33/100\n",
      "59/59 [==============================] - 2s 39ms/step - loss: 0.0015\n",
      "Epoch 34/100\n",
      "59/59 [==============================] - 2s 39ms/step - loss: 0.0016\n",
      "Epoch 35/100\n",
      "59/59 [==============================] - 2s 41ms/step - loss: 0.0015\n",
      "Epoch 36/100\n",
      "59/59 [==============================] - 2s 39ms/step - loss: 0.0017\n",
      "Epoch 37/100\n",
      "59/59 [==============================] - 2s 40ms/step - loss: 0.0017\n",
      "Epoch 38/100\n",
      "59/59 [==============================] - 2s 42ms/step - loss: 0.0018\n",
      "Epoch 39/100\n",
      "59/59 [==============================] - 2s 42ms/step - loss: 0.0015\n",
      "Epoch 40/100\n",
      "59/59 [==============================] - 2s 40ms/step - loss: 0.0015\n",
      "Epoch 41/100\n",
      "59/59 [==============================] - 2s 39ms/step - loss: 0.0015\n",
      "Epoch 42/100\n",
      "59/59 [==============================] - 2s 39ms/step - loss: 0.0014\n",
      "Epoch 43/100\n",
      "59/59 [==============================] - 2s 39ms/step - loss: 0.0013\n",
      "Epoch 44/100\n",
      "59/59 [==============================] - 2s 40ms/step - loss: 0.0013\n",
      "Epoch 45/100\n",
      "59/59 [==============================] - 2s 40ms/step - loss: 0.0015\n",
      "Epoch 46/100\n",
      "59/59 [==============================] - 2s 39ms/step - loss: 0.0014\n",
      "Epoch 47/100\n",
      "59/59 [==============================] - 2s 40ms/step - loss: 0.0014\n",
      "Epoch 48/100\n",
      "59/59 [==============================] - 2s 40ms/step - loss: 0.0013\n",
      "Epoch 49/100\n",
      "59/59 [==============================] - 2s 39ms/step - loss: 0.0016\n",
      "Epoch 50/100\n",
      "59/59 [==============================] - 2s 39ms/step - loss: 0.0013\n",
      "Epoch 51/100\n",
      "59/59 [==============================] - 2s 39ms/step - loss: 0.0013\n",
      "Epoch 52/100\n",
      "59/59 [==============================] - 2s 39ms/step - loss: 0.0012\n",
      "Epoch 53/100\n",
      "59/59 [==============================] - 2s 42ms/step - loss: 0.0013\n",
      "Epoch 54/100\n",
      "59/59 [==============================] - 2s 40ms/step - loss: 0.0013\n",
      "Epoch 55/100\n",
      "59/59 [==============================] - 2s 39ms/step - loss: 0.0013\n",
      "Epoch 56/100\n",
      "59/59 [==============================] - 2s 39ms/step - loss: 0.0011\n",
      "Epoch 57/100\n",
      "59/59 [==============================] - 2s 39ms/step - loss: 0.0012\n",
      "Epoch 58/100\n",
      "59/59 [==============================] - 2s 42ms/step - loss: 0.0012\n",
      "Epoch 59/100\n",
      "59/59 [==============================] - 2s 41ms/step - loss: 0.0012\n",
      "Epoch 60/100\n",
      "59/59 [==============================] - 2s 39ms/step - loss: 0.0012\n",
      "Epoch 61/100\n",
      "59/59 [==============================] - 2s 39ms/step - loss: 0.0011\n",
      "Epoch 62/100\n",
      "59/59 [==============================] - 2s 42ms/step - loss: 0.0012\n",
      "Epoch 63/100\n",
      "59/59 [==============================] - 2s 40ms/step - loss: 0.0012\n",
      "Epoch 64/100\n",
      "59/59 [==============================] - 3s 43ms/step - loss: 0.0011\n",
      "Epoch 65/100\n",
      "59/59 [==============================] - 2s 41ms/step - loss: 0.0013\n",
      "Epoch 66/100\n",
      "59/59 [==============================] - 2s 40ms/step - loss: 0.0012\n",
      "Epoch 67/100\n",
      "59/59 [==============================] - 2s 40ms/step - loss: 0.0012\n",
      "Epoch 68/100\n",
      "59/59 [==============================] - 2s 41ms/step - loss: 0.0011\n",
      "Epoch 69/100\n",
      "59/59 [==============================] - 2s 42ms/step - loss: 0.0012\n",
      "Epoch 70/100\n",
      "59/59 [==============================] - 2s 40ms/step - loss: 0.0012\n",
      "Epoch 71/100\n",
      "59/59 [==============================] - 2s 39ms/step - loss: 0.0011\n",
      "Epoch 72/100\n",
      "59/59 [==============================] - 2s 40ms/step - loss: 0.0011\n",
      "Epoch 73/100\n",
      "59/59 [==============================] - 2s 40ms/step - loss: 0.0011\n",
      "Epoch 74/100\n",
      "59/59 [==============================] - 2s 42ms/step - loss: 0.0011\n",
      "Epoch 75/100\n",
      "59/59 [==============================] - 2s 39ms/step - loss: 0.0010\n",
      "Epoch 76/100\n",
      "59/59 [==============================] - 3s 44ms/step - loss: 0.0011\n",
      "Epoch 77/100\n",
      "59/59 [==============================] - 3s 43ms/step - loss: 0.0012\n",
      "Epoch 78/100\n",
      "59/59 [==============================] - 3s 52ms/step - loss: 0.0012\n",
      "Epoch 79/100\n",
      "59/59 [==============================] - 3s 44ms/step - loss: 0.0011\n",
      "Epoch 80/100\n",
      "59/59 [==============================] - 2s 40ms/step - loss: 0.0011\n",
      "Epoch 81/100\n",
      "59/59 [==============================] - 2s 39ms/step - loss: 9.5667e-04\n",
      "Epoch 82/100\n",
      "59/59 [==============================] - 2s 42ms/step - loss: 0.0010\n",
      "Epoch 83/100\n",
      "59/59 [==============================] - 2s 40ms/step - loss: 0.0010\n",
      "Epoch 84/100\n",
      "59/59 [==============================] - 2s 42ms/step - loss: 0.0011\n",
      "Epoch 85/100\n",
      "59/59 [==============================] - 2s 42ms/step - loss: 0.0011\n",
      "Epoch 86/100\n",
      "59/59 [==============================] - 2s 42ms/step - loss: 0.0011\n",
      "Epoch 87/100\n",
      "59/59 [==============================] - 2s 41ms/step - loss: 0.0010\n",
      "Epoch 88/100\n",
      "59/59 [==============================] - 2s 41ms/step - loss: 0.0012\n",
      "Epoch 89/100\n",
      "59/59 [==============================] - 2s 42ms/step - loss: 0.0011\n",
      "Epoch 90/100\n",
      "59/59 [==============================] - 2s 40ms/step - loss: 0.0010\n",
      "Epoch 91/100\n",
      "59/59 [==============================] - 2s 39ms/step - loss: 0.0012\n",
      "Epoch 92/100\n",
      "59/59 [==============================] - 2s 42ms/step - loss: 0.0010\n",
      "Epoch 93/100\n",
      "59/59 [==============================] - 2s 42ms/step - loss: 0.0011\n",
      "Epoch 94/100\n",
      "59/59 [==============================] - 2s 40ms/step - loss: 0.0010\n",
      "Epoch 95/100\n",
      "59/59 [==============================] - 2s 39ms/step - loss: 9.7620e-04\n",
      "Epoch 96/100\n",
      "59/59 [==============================] - 2s 39ms/step - loss: 0.0011\n",
      "Epoch 97/100\n",
      "59/59 [==============================] - 2s 39ms/step - loss: 9.4908e-04\n",
      "Epoch 98/100\n",
      "59/59 [==============================] - 2s 39ms/step - loss: 9.1874e-04\n",
      "Epoch 99/100\n",
      "59/59 [==============================] - 2s 40ms/step - loss: 9.5172e-04\n",
      "Epoch 100/100\n",
      "59/59 [==============================] - 3s 43ms/step - loss: 0.0010\n"
     ]
    }
   ],
   "source": [
    "history = model.fit(features_set, labels, epochs = 100, batch_size = 32)  \n",
    "model.save('msft.h5')"
   ]
  },
  {
   "cell_type": "code",
   "execution_count": 85,
   "metadata": {},
   "outputs": [
    {
     "data": {
      "text/plain": [
       "dict_keys(['loss'])"
      ]
     },
     "execution_count": 85,
     "metadata": {},
     "output_type": "execute_result"
    }
   ],
   "source": [
    "from tensorflow.keras.models import load_model\n",
    "history_dict = history.history\n",
    "history_dict.keys()"
   ]
  },
  {
   "cell_type": "markdown",
   "metadata": {},
   "source": [
    "From the above, we see that our model history contains information only on the training loss. Had we had validation data passed to the training process we would have had validation loss and perhaps accuracy available as well."
   ]
  },
  {
   "cell_type": "code",
   "execution_count": 86,
   "metadata": {},
   "outputs": [
    {
     "data": {
      "image/png": "[encoded data removed]",
      "text/plain": [
       "<Figure size 640x480 with 1 Axes>"
      ]
     },
     "metadata": {},
     "output_type": "display_data"
    }
   ],
   "source": [
    "import matplotlib.pyplot as plt\n",
    "\n",
    "loss = history.history['loss']\n",
    "\n",
    "epochs = range(1, len(loss) + 1)\n",
    "\n",
    "# \"bo\" is for \"blue dot\"\n",
    "plt.plot(epochs, loss, 'bo', label='Training loss')\n",
    "\n",
    "plt.title('Training loss')\n",
    "plt.xlabel('Epochs')\n",
    "plt.ylabel('Loss')\n",
    "plt.legend()\n",
    "\n",
    "plt.show()\n"
   ]
  },
  {
   "cell_type": "markdown",
   "metadata": {},
   "source": [
    "## Testing our LSTM\n",
    "We have successfully trained our LSTM, now we will test the performance of our network on the test set containing the opening stock prices for the month of September and a part of October 2023. \n",
    "\n",
    "As we did with the training data, we need to convert our test data to the right format. We first import our test data. The test data contain only prices for 34 days and has no overlap with the training data. \n",
    "\n",
    "Execute the following:\n"
   ]
  },
  {
   "cell_type": "code",
   "execution_count": 87,
   "metadata": {},
   "outputs": [
    {
     "name": "stdout",
     "output_type": "stream",
     "text": [
      "Number of data points in test data:  40\n"
     ]
    }
   ],
   "source": [
    "msft_testing_processed = msft_test.iloc[:, 1:2].values  \n",
    "msft_testing_processed\n",
    "print(\"Number of data points in test data: \", msft_testing_processed.size)"
   ]
  },
  {
   "cell_type": "markdown",
   "metadata": {},
   "source": [
    "## Converting Test Data to Right Format\n",
    "\n",
    "For each day in the test set, we want our feature set to contain the opening stock prices for the previous 60 days, what is almost 3 months. To do so, we need to concatenate our training data and test data before preprocessing. Execute the following:\n"
   ]
  },
  {
   "cell_type": "code",
   "execution_count": 88,
   "metadata": {},
   "outputs": [],
   "source": [
    "msft_total = pd.concat((msft_training_complete['Open'], msft_test['Open']), axis=0)  "
   ]
  },
  {
   "cell_type": "markdown",
   "metadata": {},
   "source": [
    "Now let's prepare our test inputs. The input for each day should contain the opening stock prices for the previous 60 days. That means we need opening stock prices for the 34 test days and stock prices from the last 60 days from the training set. Execute the following code to fetch those 94 values."
   ]
  },
  {
   "cell_type": "code",
   "execution_count": 90,
   "metadata": {},
   "outputs": [],
   "source": [
    "test_inputs = msft_total[len(msft_total) - len(msft_test) - 60:].values  "
   ]
  },
  {
   "cell_type": "code",
   "execution_count": 91,
   "metadata": {
    "collapsed": true
   },
   "outputs": [
    {
     "name": "stdout",
     "output_type": "stream",
     "text": [
      "(100,)\n",
      "100\n",
      "[331.649994 323.940002 324.98999  328.579987 334.470001 334.339996\n",
      " 337.480011 351.320007 339.309998 336.369995 334.119995 334.359985\n",
      " 333.720001 331.859985 334.660004 334.709991 337.75     339.190002\n",
      " 335.089996 337.299988 339.320007 334.600006 331.059998 336.600006\n",
      " 339.559998 347.589996 345.679993 345.829987 361.75     353.570007\n",
      " 349.149994 345.850006 347.109985 341.440002 340.480011 333.670013\n",
      " 336.920013 335.190002 333.630005 326.       331.880005 328.369995\n",
      " 326.959991 326.470001 326.019989 320.26001  321.390015 323.\n",
      " 320.799988 320.540009 314.48999  317.929993 325.5      323.820007\n",
      " 332.850006 321.470001 325.660004 321.880005 328.670013 329.200012\n",
      " 331.309998 329.       333.380005 331.290009 330.089996 337.23999\n",
      " 335.820007 331.309998 339.149994 336.920013 327.799988 326.170013\n",
      " 329.51001  319.26001  321.320007 316.589996 315.130005 312.299988\n",
      " 310.98999  317.75     316.279999 320.829987 314.029999 319.089996\n",
      " 316.549988 324.75     330.959991 331.209991 330.570007 332.380005\n",
      " 331.049988 329.589996 332.48999  332.149994 331.720001 325.470001\n",
      " 331.299988 345.019989 340.540009 330.429993]\n"
     ]
    }
   ],
   "source": [
    "print(test_inputs.shape)\n",
    "print(len(test_inputs))\n",
    "print(test_inputs)"
   ]
  },
  {
   "cell_type": "markdown",
   "metadata": {},
   "source": [
    "As we did for the training set, we need to scale our test data. We will use already defined `scalar` object. Execute the following:"
   ]
  },
  {
   "cell_type": "code",
   "execution_count": 92,
   "metadata": {
    "collapsed": true
   },
   "outputs": [
    {
     "name": "stdout",
     "output_type": "stream",
     "text": [
      "(100, 1)\n",
      "[[0.90385535]\n",
      " [0.87922829]\n",
      " [0.88258214]\n",
      " [0.89404921]\n",
      " [0.91286294]\n",
      " [0.91244768]\n",
      " [0.92247744]\n",
      " [0.96668479]\n",
      " [0.92832273]\n",
      " [0.91893185]\n",
      " [0.91174496]\n",
      " [0.91251153]\n",
      " [0.91046731]\n",
      " [0.9045261 ]\n",
      " [0.91346984]\n",
      " [0.91362951]\n",
      " [0.92333983]\n",
      " [0.92793944]\n",
      " [0.91484331]\n",
      " [0.92190241]\n",
      " [0.9283547 ]\n",
      " [0.9132782 ]\n",
      " [0.9019708 ]\n",
      " [0.91966655]\n",
      " [0.92912128]\n",
      " [0.95477049]\n",
      " [0.9486696 ]\n",
      " [0.94914871]\n",
      " [1.        ]\n",
      " [0.97387168]\n",
      " [0.95975339]\n",
      " [0.94921266]\n",
      " [0.95323725]\n",
      " [0.93512634]\n",
      " [0.93205996]\n",
      " [0.91030764]\n",
      " [0.92068871]\n",
      " [0.91516275]\n",
      " [0.91017985]\n",
      " [0.88580829]\n",
      " [0.90459004]\n",
      " [0.89337846]\n",
      " [0.88887466]\n",
      " [0.88730955]\n",
      " [0.88587213]\n",
      " [0.86747376]\n",
      " [0.87108319]\n",
      " [0.87622576]\n",
      " [0.86919854]\n",
      " [0.86836813]\n",
      " [0.84904331]\n",
      " [0.86003128]\n",
      " [0.8842112 ]\n",
      " [0.87884501]\n",
      " [0.9076884 ]\n",
      " [0.87133868]\n",
      " [0.88472228]\n",
      " [0.87264831]\n",
      " [0.89433677]\n",
      " [0.89602968]\n",
      " [0.90276934]\n",
      " [0.89539081]\n",
      " [0.9093813 ]\n",
      " [0.90270549]\n",
      " [0.89887244]\n",
      " [0.92171077]\n",
      " [0.9171751 ]\n",
      " [0.90276934]\n",
      " [0.92781165]\n",
      " [0.92068871]\n",
      " [0.89155776]\n",
      " [0.88635134]\n",
      " [0.89701987]\n",
      " [0.86427959]\n",
      " [0.87085957]\n",
      " [0.8557511 ]\n",
      " [0.85108763]\n",
      " [0.84204807]\n",
      " [0.8378637 ]\n",
      " [0.85945635]\n",
      " [0.85476091]\n",
      " [0.86929437]\n",
      " [0.84757402]\n",
      " [0.86373653]\n",
      " [0.8556233 ]\n",
      " [0.88181557]\n",
      " [0.90165136]\n",
      " [0.9024499 ]\n",
      " [0.90040568]\n",
      " [0.90618713]\n",
      " [0.90193883]\n",
      " [0.89727536]\n",
      " [0.90653844]\n",
      " [0.90545244]\n",
      " [0.90407896]\n",
      " [0.88411538]\n",
      " [0.90273737]\n",
      " [0.94656144]\n",
      " [0.9322516 ]\n",
      " [0.89995845]]\n"
     ]
    }
   ],
   "source": [
    "test_inputs = test_inputs.reshape(-1,1)  \n",
    "print(test_inputs.shape)\n",
    "test_inputs = scaler.transform(test_inputs)  \n",
    "print(test_inputs)"
   ]
  },
  {
   "cell_type": "markdown",
   "metadata": {},
   "source": [
    "We scaled our data, now let's prepare our final test input set that will contain previous 60 stock prices from the training_set. Execute the following:"
   ]
  },
  {
   "cell_type": "code",
   "execution_count": 93,
   "metadata": {},
   "outputs": [],
   "source": [
    "test_features = []  \n",
    "for i in range(60, 94):  \n",
    "    test_features.append(test_inputs[i-60:i, 0])\n"
   ]
  },
  {
   "cell_type": "markdown",
   "metadata": {},
   "source": [
    "Finally, we need to convert our data into the three-dimensional format which can be used as input to the LSTM. Execute the following code"
   ]
  },
  {
   "cell_type": "code",
   "execution_count": 94,
   "metadata": {},
   "outputs": [
    {
     "name": "stdout",
     "output_type": "stream",
     "text": [
      "(34, 60, 1)\n"
     ]
    }
   ],
   "source": [
    "test_features = np.array(test_features)  \n",
    "test_features = np.reshape(test_features, (test_features.shape[0], test_features.shape[1], 1))  \n",
    "print(test_features.shape)"
   ]
  },
  {
   "cell_type": "code",
   "execution_count": 103,
   "metadata": {
    "collapsed": true
   },
   "outputs": [
    {
     "data": {
      "text/plain": [
       "array([[[0.90385535],\n",
       "        [0.87922829],\n",
       "        [0.88258214],\n",
       "        ...,\n",
       "        [0.87264831],\n",
       "        [0.89433677],\n",
       "        [0.89602968]],\n",
       "\n",
       "       [[0.87922829],\n",
       "        [0.88258214],\n",
       "        [0.89404921],\n",
       "        ...,\n",
       "        [0.89433677],\n",
       "        [0.89602968],\n",
       "        [0.90276934]],\n",
       "\n",
       "       [[0.88258214],\n",
       "        [0.89404921],\n",
       "        [0.91286294],\n",
       "        ...,\n",
       "        [0.89602968],\n",
       "        [0.90276934],\n",
       "        [0.89539081]],\n",
       "\n",
       "       ...,\n",
       "\n",
       "       [[0.94921266],\n",
       "        [0.95323725],\n",
       "        [0.93512634],\n",
       "        ...,\n",
       "        [0.90040568],\n",
       "        [0.90618713],\n",
       "        [0.90193883]],\n",
       "\n",
       "       [[0.95323725],\n",
       "        [0.93512634],\n",
       "        [0.93205996],\n",
       "        ...,\n",
       "        [0.90618713],\n",
       "        [0.90193883],\n",
       "        [0.89727536]],\n",
       "\n",
       "       [[0.93512634],\n",
       "        [0.93205996],\n",
       "        [0.91030764],\n",
       "        ...,\n",
       "        [0.90193883],\n",
       "        [0.89727536],\n",
       "        [0.90653844]]])"
      ]
     },
     "execution_count": 103,
     "metadata": {},
     "output_type": "execute_result"
    }
   ],
   "source": [
    "test_features"
   ]
  },
  {
   "cell_type": "markdown",
   "metadata": {},
   "source": [
    "## Making Predictions\n",
    "We preprocessed our test data and now we can use it to make predictions. To do so, we simply need to call the `predict()` method on the model that we trained. Execute the following\n"
   ]
  },
  {
   "cell_type": "code",
   "execution_count": 95,
   "metadata": {
    "collapsed": true
   },
   "outputs": [
    {
     "name": "stderr",
     "output_type": "stream",
     "text": [
      "2023-10-30 15:22:35.810089: I tensorflow/core/common_runtime/executor.cc:1197] [/device:CPU:0] (DEBUG INFO) Executor start aborting (this does not indicate an error and you can ignore this message): INVALID_ARGUMENT: You must feed a value for placeholder tensor 'gradients/split_2_grad/concat/split_2/split_dim' with dtype int32\n",
      "\t [[{{node gradients/split_2_grad/concat/split_2/split_dim}}]]\n",
      "2023-10-30 15:22:35.810582: I tensorflow/core/common_runtime/executor.cc:1197] [/device:CPU:0] (DEBUG INFO) Executor start aborting (this does not indicate an error and you can ignore this message): INVALID_ARGUMENT: You must feed a value for placeholder tensor 'gradients/split_grad/concat/split/split_dim' with dtype int32\n",
      "\t [[{{node gradients/split_grad/concat/split/split_dim}}]]\n",
      "2023-10-30 15:22:35.811211: I tensorflow/core/common_runtime/executor.cc:1197] [/device:CPU:0] (DEBUG INFO) Executor start aborting (this does not indicate an error and you can ignore this message): INVALID_ARGUMENT: You must feed a value for placeholder tensor 'gradients/split_1_grad/concat/split_1/split_dim' with dtype int32\n",
      "\t [[{{node gradients/split_1_grad/concat/split_1/split_dim}}]]\n",
      "2023-10-30 15:22:35.871372: I tensorflow/core/common_runtime/executor.cc:1197] [/device:CPU:0] (DEBUG INFO) Executor start aborting (this does not indicate an error and you can ignore this message): INVALID_ARGUMENT: You must feed a value for placeholder tensor 'gradients/split_2_grad/concat/split_2/split_dim' with dtype int32\n",
      "\t [[{{node gradients/split_2_grad/concat/split_2/split_dim}}]]\n",
      "2023-10-30 15:22:35.871862: I tensorflow/core/common_runtime/executor.cc:1197] [/device:CPU:0] (DEBUG INFO) Executor start aborting (this does not indicate an error and you can ignore this message): INVALID_ARGUMENT: You must feed a value for placeholder tensor 'gradients/split_grad/concat/split/split_dim' with dtype int32\n",
      "\t [[{{node gradients/split_grad/concat/split/split_dim}}]]\n",
      "2023-10-30 15:22:35.872313: I tensorflow/core/common_runtime/executor.cc:1197] [/device:CPU:0] (DEBUG INFO) Executor start aborting (this does not indicate an error and you can ignore this message): INVALID_ARGUMENT: You must feed a value for placeholder tensor 'gradients/split_1_grad/concat/split_1/split_dim' with dtype int32\n",
      "\t [[{{node gradients/split_1_grad/concat/split_1/split_dim}}]]\n",
      "2023-10-30 15:22:35.930032: I tensorflow/core/common_runtime/executor.cc:1197] [/device:CPU:0] (DEBUG INFO) Executor start aborting (this does not indicate an error and you can ignore this message): INVALID_ARGUMENT: You must feed a value for placeholder tensor 'gradients/split_2_grad/concat/split_2/split_dim' with dtype int32\n",
      "\t [[{{node gradients/split_2_grad/concat/split_2/split_dim}}]]\n",
      "2023-10-30 15:22:35.930508: I tensorflow/core/common_runtime/executor.cc:1197] [/device:CPU:0] (DEBUG INFO) Executor start aborting (this does not indicate an error and you can ignore this message): INVALID_ARGUMENT: You must feed a value for placeholder tensor 'gradients/split_grad/concat/split/split_dim' with dtype int32\n",
      "\t [[{{node gradients/split_grad/concat/split/split_dim}}]]\n",
      "2023-10-30 15:22:35.930979: I tensorflow/core/common_runtime/executor.cc:1197] [/device:CPU:0] (DEBUG INFO) Executor start aborting (this does not indicate an error and you can ignore this message): INVALID_ARGUMENT: You must feed a value for placeholder tensor 'gradients/split_1_grad/concat/split_1/split_dim' with dtype int32\n",
      "\t [[{{node gradients/split_1_grad/concat/split_1/split_dim}}]]\n",
      "2023-10-30 15:22:35.994621: I tensorflow/core/common_runtime/executor.cc:1197] [/device:CPU:0] (DEBUG INFO) Executor start aborting (this does not indicate an error and you can ignore this message): INVALID_ARGUMENT: You must feed a value for placeholder tensor 'gradients/split_2_grad/concat/split_2/split_dim' with dtype int32\n",
      "\t [[{{node gradients/split_2_grad/concat/split_2/split_dim}}]]\n",
      "2023-10-30 15:22:35.995035: I tensorflow/core/common_runtime/executor.cc:1197] [/device:CPU:0] (DEBUG INFO) Executor start aborting (this does not indicate an error and you can ignore this message): INVALID_ARGUMENT: You must feed a value for placeholder tensor 'gradients/split_grad/concat/split/split_dim' with dtype int32\n",
      "\t [[{{node gradients/split_grad/concat/split/split_dim}}]]\n",
      "2023-10-30 15:22:35.995509: I tensorflow/core/common_runtime/executor.cc:1197] [/device:CPU:0] (DEBUG INFO) Executor start aborting (this does not indicate an error and you can ignore this message): INVALID_ARGUMENT: You must feed a value for placeholder tensor 'gradients/split_1_grad/concat/split_1/split_dim' with dtype int32\n",
      "\t [[{{node gradients/split_1_grad/concat/split_1/split_dim}}]]\n"
     ]
    },
    {
     "name": "stdout",
     "output_type": "stream",
     "text": [
      "2/2 [==============================] - 1s 7ms/step\n"
     ]
    }
   ],
   "source": [
    "predictions = model.predict(test_features)  "
   ]
  },
  {
   "cell_type": "markdown",
   "metadata": {},
   "source": [
    "Since we scaled our data, the predictions made by the LSTM are also scaled. We need to reverse the scaled prediction back to their actual values. To do so, we use the `ìnverse_transform` method of the `scaler` object we created during training. This is accomplished with the following: "
   ]
  },
  {
   "cell_type": "code",
   "execution_count": 96,
   "metadata": {},
   "outputs": [],
   "source": [
    "predictions = scaler.inverse_transform(predictions)  "
   ]
  },
  {
   "cell_type": "markdown",
   "metadata": {},
   "source": [
    "Finally, let's see how well did our algorithm predicted the future stock prices. On the same diagram we will present original Open prices in the test data (blue) and predictions in red."
   ]
  },
  {
   "cell_type": "code",
   "execution_count": 98,
   "metadata": {},
   "outputs": [
    {
     "data": {
      "image/png": "[encoded data removed]",
      "text/plain": [
       "<Figure size 1000x600 with 1 Axes>"
      ]
     },
     "metadata": {},
     "output_type": "display_data"
    }
   ],
   "source": [
    "plt.figure(figsize=(10,6))  \n",
    "plt.plot(msft_testing_processed, color='blue', label='Actual MSFT Stock Price')  \n",
    "plt.plot(predictions , color='red', label='Predicted MSFT Stock Price')  \n",
    "plt.title('MSFT Stock Price Prediction')  \n",
    "plt.xlabel('Date')  \n",
    "plt.ylabel('MSFT Stock Price')  \n",
    "plt.legend()  \n",
    "plt.show()  \n"
   ]
  },
  {
   "cell_type": "markdown",
   "metadata": {},
   "source": [
    "# Problem 2. \n",
    "\n",
    "Start with the formulation in Problem 1 above. Modify your code so that instead of “manually” constructing train_features and test_features you use tf.keras.utils.timeseries_dataset_from_array(). That should make you code more robust and versatile. Usage of tf.keras.utils.timeseries_dataset_from_array() is illustrated at the end of the lecture notes an in the notebook: chapter10_dl-for-timeseries.ipynb. Demonstrate that you are getting the same results as in Problem 1."
   ]
  },
  {
   "cell_type": "code",
   "execution_count": 236,
   "metadata": {},
   "outputs": [],
   "source": [
    "#construct the training dataset\n",
    "sampling_rate = 1\n",
    "sequence_length = 60\n",
    "delay = sampling_rate * (sequence_length + 24 - 1)\n",
    "batch_size = 1929\n",
    "\n",
    "train_dataset = keras.utils.timeseries_dataset_from_array(\n",
    "    msft_training_scaled,\n",
    "    targets=msft_training_scaled,\n",
    "    sampling_rate=sampling_rate,\n",
    "    sequence_length=sequence_length,\n",
    "    shuffle=True,\n",
    "    batch_size=batch_size,\n",
    "    start_index=0,\n",
    "    end_index=1928)"
   ]
  },
  {
   "cell_type": "code",
   "execution_count": 253,
   "metadata": {},
   "outputs": [
    {
     "name": "stdout",
     "output_type": "stream",
     "text": [
      "samples shape: (1869, 60, 1)\n",
      "targets shape: (1869, 1)\n"
     ]
    }
   ],
   "source": [
    "#display training dataset output shapes\n",
    "for samples, targets in train_dataset:\n",
    "    print(\"samples shape:\", samples.shape)\n",
    "    print(\"targets shape:\", targets.shape)\n",
    "    break"
   ]
  },
  {
   "cell_type": "code",
   "execution_count": 153,
   "metadata": {},
   "outputs": [
    {
     "name": "stdout",
     "output_type": "stream",
     "text": [
      "(1869, 60, 1)\n"
     ]
    }
   ],
   "source": [
    "# this is the identical result with what we obtained above by previous methods\n",
    "print(features_set.shape)"
   ]
  },
  {
   "cell_type": "code",
   "execution_count": 237,
   "metadata": {},
   "outputs": [],
   "source": [
    "#construct the test dataset\n",
    "sampling_rate = 1\n",
    "sequence_length = 60\n",
    "delay =  sampling_rate * (sequence_length + 24 - 1)\n",
    "batch_size = 34\n",
    "\n",
    "test_dataset = keras.utils.timeseries_dataset_from_array(\n",
    "    test_inputs,\n",
    "    targets=test_inputs,\n",
    "    sampling_rate=sampling_rate,\n",
    "    sequence_length=sequence_length,\n",
    "    shuffle=True,\n",
    "    batch_size=batch_size,\n",
    "    start_index=0)"
   ]
  },
  {
   "cell_type": "code",
   "execution_count": 251,
   "metadata": {},
   "outputs": [
    {
     "name": "stdout",
     "output_type": "stream",
     "text": [
      "samples shape: (34, 60, 1)\n",
      "targets shape: (34, 1)\n"
     ]
    }
   ],
   "source": [
    "#diplay test dataset output shapes\n",
    "for samples, targets in test_dataset:\n",
    "    print(\"samples shape:\", samples.shape)\n",
    "    print(\"targets shape:\", targets.shape)\n",
    "    break"
   ]
  },
  {
   "cell_type": "code",
   "execution_count": 252,
   "metadata": {},
   "outputs": [
    {
     "name": "stdout",
     "output_type": "stream",
     "text": [
      "(34, 60, 1)\n"
     ]
    }
   ],
   "source": [
    "# this is the same result as we obtained above\n",
    "print(test_features.shape)"
   ]
  },
  {
   "cell_type": "code",
   "execution_count": 239,
   "metadata": {
    "collapsed": true
   },
   "outputs": [
    {
     "name": "stderr",
     "output_type": "stream",
     "text": [
      "2023-11-04 10:14:14.739224: I tensorflow/core/common_runtime/executor.cc:1197] [/device:CPU:0] (DEBUG INFO) Executor start aborting (this does not indicate an error and you can ignore this message): INVALID_ARGUMENT: You must feed a value for placeholder tensor 'gradients/split_2_grad/concat/split_2/split_dim' with dtype int32\n",
      "\t [[{{node gradients/split_2_grad/concat/split_2/split_dim}}]]\n",
      "2023-11-04 10:14:14.739802: I tensorflow/core/common_runtime/executor.cc:1197] [/device:CPU:0] (DEBUG INFO) Executor start aborting (this does not indicate an error and you can ignore this message): INVALID_ARGUMENT: You must feed a value for placeholder tensor 'gradients/split_grad/concat/split/split_dim' with dtype int32\n",
      "\t [[{{node gradients/split_grad/concat/split/split_dim}}]]\n",
      "2023-11-04 10:14:14.740575: I tensorflow/core/common_runtime/executor.cc:1197] [/device:CPU:0] (DEBUG INFO) Executor start aborting (this does not indicate an error and you can ignore this message): INVALID_ARGUMENT: You must feed a value for placeholder tensor 'gradients/split_1_grad/concat/split_1/split_dim' with dtype int32\n",
      "\t [[{{node gradients/split_1_grad/concat/split_1/split_dim}}]]\n",
      "2023-11-04 10:14:14.840314: I tensorflow/core/common_runtime/executor.cc:1197] [/device:CPU:0] (DEBUG INFO) Executor start aborting (this does not indicate an error and you can ignore this message): INVALID_ARGUMENT: You must feed a value for placeholder tensor 'gradients/split_2_grad/concat/split_2/split_dim' with dtype int32\n",
      "\t [[{{node gradients/split_2_grad/concat/split_2/split_dim}}]]\n",
      "2023-11-04 10:14:14.841007: I tensorflow/core/common_runtime/executor.cc:1197] [/device:CPU:0] (DEBUG INFO) Executor start aborting (this does not indicate an error and you can ignore this message): INVALID_ARGUMENT: You must feed a value for placeholder tensor 'gradients/split_grad/concat/split/split_dim' with dtype int32\n",
      "\t [[{{node gradients/split_grad/concat/split/split_dim}}]]\n",
      "2023-11-04 10:14:14.841503: I tensorflow/core/common_runtime/executor.cc:1197] [/device:CPU:0] (DEBUG INFO) Executor start aborting (this does not indicate an error and you can ignore this message): INVALID_ARGUMENT: You must feed a value for placeholder tensor 'gradients/split_1_grad/concat/split_1/split_dim' with dtype int32\n",
      "\t [[{{node gradients/split_1_grad/concat/split_1/split_dim}}]]\n",
      "2023-11-04 10:14:14.912472: I tensorflow/core/common_runtime/executor.cc:1197] [/device:CPU:0] (DEBUG INFO) Executor start aborting (this does not indicate an error and you can ignore this message): INVALID_ARGUMENT: You must feed a value for placeholder tensor 'gradients/split_2_grad/concat/split_2/split_dim' with dtype int32\n",
      "\t [[{{node gradients/split_2_grad/concat/split_2/split_dim}}]]\n",
      "2023-11-04 10:14:14.913099: I tensorflow/core/common_runtime/executor.cc:1197] [/device:CPU:0] (DEBUG INFO) Executor start aborting (this does not indicate an error and you can ignore this message): INVALID_ARGUMENT: You must feed a value for placeholder tensor 'gradients/split_grad/concat/split/split_dim' with dtype int32\n",
      "\t [[{{node gradients/split_grad/concat/split/split_dim}}]]\n",
      "2023-11-04 10:14:14.913551: I tensorflow/core/common_runtime/executor.cc:1197] [/device:CPU:0] (DEBUG INFO) Executor start aborting (this does not indicate an error and you can ignore this message): INVALID_ARGUMENT: You must feed a value for placeholder tensor 'gradients/split_1_grad/concat/split_1/split_dim' with dtype int32\n",
      "\t [[{{node gradients/split_1_grad/concat/split_1/split_dim}}]]\n",
      "2023-11-04 10:14:14.991952: I tensorflow/core/common_runtime/executor.cc:1197] [/device:CPU:0] (DEBUG INFO) Executor start aborting (this does not indicate an error and you can ignore this message): INVALID_ARGUMENT: You must feed a value for placeholder tensor 'gradients/split_2_grad/concat/split_2/split_dim' with dtype int32\n",
      "\t [[{{node gradients/split_2_grad/concat/split_2/split_dim}}]]\n",
      "2023-11-04 10:14:14.992789: I tensorflow/core/common_runtime/executor.cc:1197] [/device:CPU:0] (DEBUG INFO) Executor start aborting (this does not indicate an error and you can ignore this message): INVALID_ARGUMENT: You must feed a value for placeholder tensor 'gradients/split_grad/concat/split/split_dim' with dtype int32\n",
      "\t [[{{node gradients/split_grad/concat/split/split_dim}}]]\n",
      "2023-11-04 10:14:14.993343: I tensorflow/core/common_runtime/executor.cc:1197] [/device:CPU:0] (DEBUG INFO) Executor start aborting (this does not indicate an error and you can ignore this message): INVALID_ARGUMENT: You must feed a value for placeholder tensor 'gradients/split_1_grad/concat/split_1/split_dim' with dtype int32\n",
      "\t [[{{node gradients/split_1_grad/concat/split_1/split_dim}}]]\n"
     ]
    }
   ],
   "source": [
    "#create model\n",
    "model2 = Sequential()  \n",
    "model2.add(LSTM(units=50, return_sequences=True, input_shape=(sequence_length, 1),unroll=False))  \n",
    "model2.add(Dropout(0.2))  \n",
    "model2.add(LSTM(units=50, return_sequences=True))  \n",
    "model2.add(Dropout(0.2))\n",
    "model2.add(LSTM(units=50, return_sequences=True))  \n",
    "model2.add(Dropout(0.2))\n",
    "model2.add(LSTM(units=50))  \n",
    "model2.add(Dropout(0.2))  \n",
    "model2.add(Dense(units = 1))  \n"
   ]
  },
  {
   "cell_type": "code",
   "execution_count": 240,
   "metadata": {},
   "outputs": [
    {
     "name": "stdout",
     "output_type": "stream",
     "text": [
      "Model: \"sequential_8\"\n",
      "_________________________________________________________________\n",
      " Layer (type)                Output Shape              Param #   \n",
      "=================================================================\n",
      " lstm_25 (LSTM)              (None, 60, 50)            10400     \n",
      "                                                                 \n",
      " dropout_24 (Dropout)        (None, 60, 50)            0         \n",
      "                                                                 \n",
      " lstm_26 (LSTM)              (None, 60, 50)            20200     \n",
      "                                                                 \n",
      " dropout_25 (Dropout)        (None, 60, 50)            0         \n",
      "                                                                 \n",
      " lstm_27 (LSTM)              (None, 60, 50)            20200     \n",
      "                                                                 \n",
      " dropout_26 (Dropout)        (None, 60, 50)            0         \n",
      "                                                                 \n",
      " lstm_28 (LSTM)              (None, 50)                20200     \n",
      "                                                                 \n",
      " dropout_27 (Dropout)        (None, 50)                0         \n",
      "                                                                 \n",
      " dense_6 (Dense)             (None, 1)                 51        \n",
      "                                                                 \n",
      "=================================================================\n",
      "Total params: 71,051\n",
      "Trainable params: 71,051\n",
      "Non-trainable params: 0\n",
      "_________________________________________________________________\n"
     ]
    }
   ],
   "source": [
    "model2.summary()"
   ]
  },
  {
   "cell_type": "code",
   "execution_count": 241,
   "metadata": {},
   "outputs": [],
   "source": [
    "model2.compile(optimizer = 'adam', loss = 'mean_squared_error')  "
   ]
  },
  {
   "cell_type": "code",
   "execution_count": 242,
   "metadata": {
    "collapsed": true
   },
   "outputs": [
    {
     "name": "stdout",
     "output_type": "stream",
     "text": [
      "Epoch 1/100\n"
     ]
    },
    {
     "name": "stderr",
     "output_type": "stream",
     "text": [
      "2023-11-04 10:14:22.116697: I tensorflow/core/common_runtime/executor.cc:1197] [/device:CPU:0] (DEBUG INFO) Executor start aborting (this does not indicate an error and you can ignore this message): INVALID_ARGUMENT: You must feed a value for placeholder tensor 'gradients/split_2_grad/concat/split_2/split_dim' with dtype int32\n",
      "\t [[{{node gradients/split_2_grad/concat/split_2/split_dim}}]]\n",
      "2023-11-04 10:14:22.117637: I tensorflow/core/common_runtime/executor.cc:1197] [/device:CPU:0] (DEBUG INFO) Executor start aborting (this does not indicate an error and you can ignore this message): INVALID_ARGUMENT: You must feed a value for placeholder tensor 'gradients/split_grad/concat/split/split_dim' with dtype int32\n",
      "\t [[{{node gradients/split_grad/concat/split/split_dim}}]]\n",
      "2023-11-04 10:14:22.118108: I tensorflow/core/common_runtime/executor.cc:1197] [/device:CPU:0] (DEBUG INFO) Executor start aborting (this does not indicate an error and you can ignore this message): INVALID_ARGUMENT: You must feed a value for placeholder tensor 'gradients/split_1_grad/concat/split_1/split_dim' with dtype int32\n",
      "\t [[{{node gradients/split_1_grad/concat/split_1/split_dim}}]]\n",
      "2023-11-04 10:14:22.200775: I tensorflow/core/common_runtime/executor.cc:1197] [/device:CPU:0] (DEBUG INFO) Executor start aborting (this does not indicate an error and you can ignore this message): INVALID_ARGUMENT: You must feed a value for placeholder tensor 'gradients/split_2_grad/concat/split_2/split_dim' with dtype int32\n",
      "\t [[{{node gradients/split_2_grad/concat/split_2/split_dim}}]]\n",
      "2023-11-04 10:14:22.201376: I tensorflow/core/common_runtime/executor.cc:1197] [/device:CPU:0] (DEBUG INFO) Executor start aborting (this does not indicate an error and you can ignore this message): INVALID_ARGUMENT: You must feed a value for placeholder tensor 'gradients/split_grad/concat/split/split_dim' with dtype int32\n",
      "\t [[{{node gradients/split_grad/concat/split/split_dim}}]]\n",
      "2023-11-04 10:14:22.201919: I tensorflow/core/common_runtime/executor.cc:1197] [/device:CPU:0] (DEBUG INFO) Executor start aborting (this does not indicate an error and you can ignore this message): INVALID_ARGUMENT: You must feed a value for placeholder tensor 'gradients/split_1_grad/concat/split_1/split_dim' with dtype int32\n",
      "\t [[{{node gradients/split_1_grad/concat/split_1/split_dim}}]]\n",
      "2023-11-04 10:14:22.272662: I tensorflow/core/common_runtime/executor.cc:1197] [/device:CPU:0] (DEBUG INFO) Executor start aborting (this does not indicate an error and you can ignore this message): INVALID_ARGUMENT: You must feed a value for placeholder tensor 'gradients/split_2_grad/concat/split_2/split_dim' with dtype int32\n",
      "\t [[{{node gradients/split_2_grad/concat/split_2/split_dim}}]]\n",
      "2023-11-04 10:14:22.273389: I tensorflow/core/common_runtime/executor.cc:1197] [/device:CPU:0] (DEBUG INFO) Executor start aborting (this does not indicate an error and you can ignore this message): INVALID_ARGUMENT: You must feed a value for placeholder tensor 'gradients/split_grad/concat/split/split_dim' with dtype int32\n",
      "\t [[{{node gradients/split_grad/concat/split/split_dim}}]]\n",
      "2023-11-04 10:14:22.274019: I tensorflow/core/common_runtime/executor.cc:1197] [/device:CPU:0] (DEBUG INFO) Executor start aborting (this does not indicate an error and you can ignore this message): INVALID_ARGUMENT: You must feed a value for placeholder tensor 'gradients/split_1_grad/concat/split_1/split_dim' with dtype int32\n",
      "\t [[{{node gradients/split_1_grad/concat/split_1/split_dim}}]]\n",
      "2023-11-04 10:14:22.349257: I tensorflow/core/common_runtime/executor.cc:1197] [/device:CPU:0] (DEBUG INFO) Executor start aborting (this does not indicate an error and you can ignore this message): INVALID_ARGUMENT: You must feed a value for placeholder tensor 'gradients/split_2_grad/concat/split_2/split_dim' with dtype int32\n",
      "\t [[{{node gradients/split_2_grad/concat/split_2/split_dim}}]]\n",
      "2023-11-04 10:14:22.349911: I tensorflow/core/common_runtime/executor.cc:1197] [/device:CPU:0] (DEBUG INFO) Executor start aborting (this does not indicate an error and you can ignore this message): INVALID_ARGUMENT: You must feed a value for placeholder tensor 'gradients/split_grad/concat/split/split_dim' with dtype int32\n",
      "\t [[{{node gradients/split_grad/concat/split/split_dim}}]]\n",
      "2023-11-04 10:14:22.350594: I tensorflow/core/common_runtime/executor.cc:1197] [/device:CPU:0] (DEBUG INFO) Executor start aborting (this does not indicate an error and you can ignore this message): INVALID_ARGUMENT: You must feed a value for placeholder tensor 'gradients/split_1_grad/concat/split_1/split_dim' with dtype int32\n",
      "\t [[{{node gradients/split_1_grad/concat/split_1/split_dim}}]]\n",
      "2023-11-04 10:14:22.797254: I tensorflow/core/common_runtime/executor.cc:1197] [/device:CPU:0] (DEBUG INFO) Executor start aborting (this does not indicate an error and you can ignore this message): INVALID_ARGUMENT: You must feed a value for placeholder tensor 'gradients/split_2_grad/concat/split_2/split_dim' with dtype int32\n",
      "\t [[{{node gradients/split_2_grad/concat/split_2/split_dim}}]]\n",
      "2023-11-04 10:14:22.798144: I tensorflow/core/common_runtime/executor.cc:1197] [/device:CPU:0] (DEBUG INFO) Executor start aborting (this does not indicate an error and you can ignore this message): INVALID_ARGUMENT: You must feed a value for placeholder tensor 'gradients/split_grad/concat/split/split_dim' with dtype int32\n",
      "\t [[{{node gradients/split_grad/concat/split/split_dim}}]]\n",
      "2023-11-04 10:14:22.798654: I tensorflow/core/common_runtime/executor.cc:1197] [/device:CPU:0] (DEBUG INFO) Executor start aborting (this does not indicate an error and you can ignore this message): INVALID_ARGUMENT: You must feed a value for placeholder tensor 'gradients/split_1_grad/concat/split_1/split_dim' with dtype int32\n",
      "\t [[{{node gradients/split_1_grad/concat/split_1/split_dim}}]]\n",
      "2023-11-04 10:14:22.867430: I tensorflow/core/common_runtime/executor.cc:1197] [/device:CPU:0] (DEBUG INFO) Executor start aborting (this does not indicate an error and you can ignore this message): INVALID_ARGUMENT: You must feed a value for placeholder tensor 'gradients/split_2_grad/concat/split_2/split_dim' with dtype int32\n",
      "\t [[{{node gradients/split_2_grad/concat/split_2/split_dim}}]]\n",
      "2023-11-04 10:14:22.868004: I tensorflow/core/common_runtime/executor.cc:1197] [/device:CPU:0] (DEBUG INFO) Executor start aborting (this does not indicate an error and you can ignore this message): INVALID_ARGUMENT: You must feed a value for placeholder tensor 'gradients/split_grad/concat/split/split_dim' with dtype int32\n",
      "\t [[{{node gradients/split_grad/concat/split/split_dim}}]]\n",
      "2023-11-04 10:14:22.868572: I tensorflow/core/common_runtime/executor.cc:1197] [/device:CPU:0] (DEBUG INFO) Executor start aborting (this does not indicate an error and you can ignore this message): INVALID_ARGUMENT: You must feed a value for placeholder tensor 'gradients/split_1_grad/concat/split_1/split_dim' with dtype int32\n",
      "\t [[{{node gradients/split_1_grad/concat/split_1/split_dim}}]]\n",
      "2023-11-04 10:14:22.936049: I tensorflow/core/common_runtime/executor.cc:1197] [/device:CPU:0] (DEBUG INFO) Executor start aborting (this does not indicate an error and you can ignore this message): INVALID_ARGUMENT: You must feed a value for placeholder tensor 'gradients/split_2_grad/concat/split_2/split_dim' with dtype int32\n",
      "\t [[{{node gradients/split_2_grad/concat/split_2/split_dim}}]]\n",
      "2023-11-04 10:14:22.936669: I tensorflow/core/common_runtime/executor.cc:1197] [/device:CPU:0] (DEBUG INFO) Executor start aborting (this does not indicate an error and you can ignore this message): INVALID_ARGUMENT: You must feed a value for placeholder tensor 'gradients/split_grad/concat/split/split_dim' with dtype int32\n",
      "\t [[{{node gradients/split_grad/concat/split/split_dim}}]]\n",
      "2023-11-04 10:14:22.937168: I tensorflow/core/common_runtime/executor.cc:1197] [/device:CPU:0] (DEBUG INFO) Executor start aborting (this does not indicate an error and you can ignore this message): INVALID_ARGUMENT: You must feed a value for placeholder tensor 'gradients/split_1_grad/concat/split_1/split_dim' with dtype int32\n",
      "\t [[{{node gradients/split_1_grad/concat/split_1/split_dim}}]]\n",
      "2023-11-04 10:14:23.009288: I tensorflow/core/common_runtime/executor.cc:1197] [/device:CPU:0] (DEBUG INFO) Executor start aborting (this does not indicate an error and you can ignore this message): INVALID_ARGUMENT: You must feed a value for placeholder tensor 'gradients/split_2_grad/concat/split_2/split_dim' with dtype int32\n",
      "\t [[{{node gradients/split_2_grad/concat/split_2/split_dim}}]]\n",
      "2023-11-04 10:14:23.010090: I tensorflow/core/common_runtime/executor.cc:1197] [/device:CPU:0] (DEBUG INFO) Executor start aborting (this does not indicate an error and you can ignore this message): INVALID_ARGUMENT: You must feed a value for placeholder tensor 'gradients/split_grad/concat/split/split_dim' with dtype int32\n",
      "\t [[{{node gradients/split_grad/concat/split/split_dim}}]]\n",
      "2023-11-04 10:14:23.010651: I tensorflow/core/common_runtime/executor.cc:1197] [/device:CPU:0] (DEBUG INFO) Executor start aborting (this does not indicate an error and you can ignore this message): INVALID_ARGUMENT: You must feed a value for placeholder tensor 'gradients/split_1_grad/concat/split_1/split_dim' with dtype int32\n",
      "\t [[{{node gradients/split_1_grad/concat/split_1/split_dim}}]]\n"
     ]
    },
    {
     "name": "stdout",
     "output_type": "stream",
     "text": [
      "1/1 [==============================] - 3s 3s/step - loss: 0.2141\n",
      "Epoch 2/100\n",
      "1/1 [==============================] - 1s 766ms/step - loss: 0.1703\n",
      "Epoch 3/100\n",
      "1/1 [==============================] - 1s 1s/step - loss: 0.1278\n",
      "Epoch 4/100\n",
      "1/1 [==============================] - 1s 895ms/step - loss: 0.0820\n",
      "Epoch 5/100\n",
      "1/1 [==============================] - 1s 1s/step - loss: 0.0387\n",
      "Epoch 6/100\n",
      "1/1 [==============================] - 1s 1s/step - loss: 0.0141\n",
      "Epoch 7/100\n",
      "1/1 [==============================] - 1s 947ms/step - loss: 0.0432\n",
      "Epoch 8/100\n",
      "1/1 [==============================] - 1s 945ms/step - loss: 0.0478\n",
      "Epoch 9/100\n",
      "1/1 [==============================] - 1s 1s/step - loss: 0.0263\n",
      "Epoch 10/100\n",
      "1/1 [==============================] - 1s 1s/step - loss: 0.0141\n",
      "Epoch 11/100\n",
      "1/1 [==============================] - 1s 1s/step - loss: 0.0149\n",
      "Epoch 12/100\n",
      "1/1 [==============================] - 1s 1s/step - loss: 0.0209\n",
      "Epoch 13/100\n",
      "1/1 [==============================] - 1s 1s/step - loss: 0.0261\n",
      "Epoch 14/100\n",
      "1/1 [==============================] - 1s 1s/step - loss: 0.0276\n",
      "Epoch 15/100\n",
      "1/1 [==============================] - 1s 953ms/step - loss: 0.0257\n",
      "Epoch 16/100\n",
      "1/1 [==============================] - 1s 846ms/step - loss: 0.0204\n",
      "Epoch 17/100\n",
      "1/1 [==============================] - 1s 797ms/step - loss: 0.0143\n",
      "Epoch 18/100\n",
      "1/1 [==============================] - 1s 998ms/step - loss: 0.0103\n",
      "Epoch 19/100\n",
      "1/1 [==============================] - 1s 946ms/step - loss: 0.0088\n",
      "Epoch 20/100\n",
      "1/1 [==============================] - 1s 818ms/step - loss: 0.0111\n",
      "Epoch 21/100\n",
      "1/1 [==============================] - 1s 782ms/step - loss: 0.0139\n",
      "Epoch 22/100\n",
      "1/1 [==============================] - 1s 771ms/step - loss: 0.0132\n",
      "Epoch 23/100\n",
      "1/1 [==============================] - 1s 775ms/step - loss: 0.0102\n",
      "Epoch 24/100\n",
      "1/1 [==============================] - 1s 940ms/step - loss: 0.0071\n",
      "Epoch 25/100\n",
      "1/1 [==============================] - 1s 788ms/step - loss: 0.0054\n",
      "Epoch 26/100\n",
      "1/1 [==============================] - 1s 752ms/step - loss: 0.0060\n",
      "Epoch 27/100\n",
      "1/1 [==============================] - 1s 912ms/step - loss: 0.0075\n",
      "Epoch 28/100\n",
      "1/1 [==============================] - 1s 858ms/step - loss: 0.0083\n",
      "Epoch 29/100\n",
      "1/1 [==============================] - 1s 799ms/step - loss: 0.0083\n",
      "Epoch 30/100\n",
      "1/1 [==============================] - 1s 824ms/step - loss: 0.0070\n",
      "Epoch 31/100\n",
      "1/1 [==============================] - 1s 804ms/step - loss: 0.0059\n",
      "Epoch 32/100\n",
      "1/1 [==============================] - 1s 821ms/step - loss: 0.0051\n",
      "Epoch 33/100\n",
      "1/1 [==============================] - 1s 1s/step - loss: 0.0049\n",
      "Epoch 34/100\n",
      "1/1 [==============================] - 1s 1s/step - loss: 0.0061\n",
      "Epoch 35/100\n",
      "1/1 [==============================] - 1s 1s/step - loss: 0.0075\n",
      "Epoch 36/100\n",
      "1/1 [==============================] - 1s 1s/step - loss: 0.0069\n",
      "Epoch 37/100\n",
      "1/1 [==============================] - 1s 913ms/step - loss: 0.0054\n",
      "Epoch 38/100\n",
      "1/1 [==============================] - 1s 1s/step - loss: 0.0048\n",
      "Epoch 39/100\n",
      "1/1 [==============================] - 1s 960ms/step - loss: 0.0051\n",
      "Epoch 40/100\n",
      "1/1 [==============================] - 1s 848ms/step - loss: 0.0053\n",
      "Epoch 41/100\n",
      "1/1 [==============================] - 1s 936ms/step - loss: 0.0061\n",
      "Epoch 42/100\n",
      "1/1 [==============================] - 1s 1s/step - loss: 0.0060\n",
      "Epoch 43/100\n",
      "1/1 [==============================] - 1s 789ms/step - loss: 0.0055\n",
      "Epoch 44/100\n",
      "1/1 [==============================] - 1s 1s/step - loss: 0.0051\n",
      "Epoch 45/100\n",
      "1/1 [==============================] - 1s 1s/step - loss: 0.0049\n",
      "Epoch 46/100\n",
      "1/1 [==============================] - 1s 1s/step - loss: 0.0048\n",
      "Epoch 47/100\n",
      "1/1 [==============================] - 1s 1s/step - loss: 0.0054\n",
      "Epoch 48/100\n",
      "1/1 [==============================] - 2s 2s/step - loss: 0.0053\n",
      "Epoch 49/100\n",
      "1/1 [==============================] - 3s 3s/step - loss: 0.0046\n",
      "Epoch 50/100\n",
      "1/1 [==============================] - 2s 2s/step - loss: 0.0050\n",
      "Epoch 51/100\n",
      "1/1 [==============================] - 2s 2s/step - loss: 0.0050\n",
      "Epoch 52/100\n",
      "1/1 [==============================] - 1s 1s/step - loss: 0.0048\n",
      "Epoch 53/100\n",
      "1/1 [==============================] - 1s 909ms/step - loss: 0.0048\n",
      "Epoch 54/100\n",
      "1/1 [==============================] - 1s 913ms/step - loss: 0.0053\n",
      "Epoch 55/100\n",
      "1/1 [==============================] - 1s 876ms/step - loss: 0.0050\n",
      "Epoch 56/100\n",
      "1/1 [==============================] - 1s 801ms/step - loss: 0.0048\n",
      "Epoch 57/100\n",
      "1/1 [==============================] - 1s 783ms/step - loss: 0.0046\n",
      "Epoch 58/100\n",
      "1/1 [==============================] - 1s 774ms/step - loss: 0.0043\n",
      "Epoch 59/100\n",
      "1/1 [==============================] - 1s 783ms/step - loss: 0.0045\n",
      "Epoch 60/100\n",
      "1/1 [==============================] - 1s 816ms/step - loss: 0.0043\n",
      "Epoch 61/100\n",
      "1/1 [==============================] - 1s 840ms/step - loss: 0.0046\n",
      "Epoch 62/100\n",
      "1/1 [==============================] - 1s 805ms/step - loss: 0.0048\n",
      "Epoch 63/100\n",
      "1/1 [==============================] - 1s 862ms/step - loss: 0.0045\n",
      "Epoch 64/100\n",
      "1/1 [==============================] - 1s 1s/step - loss: 0.0046\n",
      "Epoch 65/100\n",
      "1/1 [==============================] - 1s 903ms/step - loss: 0.0045\n",
      "Epoch 66/100\n",
      "1/1 [==============================] - 1s 776ms/step - loss: 0.0043\n",
      "Epoch 67/100\n",
      "1/1 [==============================] - 1s 869ms/step - loss: 0.0045\n",
      "Epoch 68/100\n",
      "1/1 [==============================] - 1s 852ms/step - loss: 0.0045\n",
      "Epoch 69/100\n",
      "1/1 [==============================] - 1s 847ms/step - loss: 0.0046\n",
      "Epoch 70/100\n",
      "1/1 [==============================] - 1s 1s/step - loss: 0.0045\n",
      "Epoch 71/100\n",
      "1/1 [==============================] - 1s 1s/step - loss: 0.0047\n",
      "Epoch 72/100\n",
      "1/1 [==============================] - 1s 868ms/step - loss: 0.0048\n",
      "Epoch 73/100\n",
      "1/1 [==============================] - 1s 973ms/step - loss: 0.0044\n",
      "Epoch 74/100\n",
      "1/1 [==============================] - 1s 975ms/step - loss: 0.0048\n",
      "Epoch 75/100\n",
      "1/1 [==============================] - 1s 787ms/step - loss: 0.0044\n",
      "Epoch 76/100\n",
      "1/1 [==============================] - 1s 765ms/step - loss: 0.0044\n",
      "Epoch 77/100\n",
      "1/1 [==============================] - 1s 774ms/step - loss: 0.0046\n",
      "Epoch 78/100\n",
      "1/1 [==============================] - 1s 753ms/step - loss: 0.0049\n",
      "Epoch 79/100\n",
      "1/1 [==============================] - 1s 742ms/step - loss: 0.0043\n",
      "Epoch 80/100\n",
      "1/1 [==============================] - 1s 733ms/step - loss: 0.0043\n",
      "Epoch 81/100\n",
      "1/1 [==============================] - 1s 746ms/step - loss: 0.0046\n",
      "Epoch 82/100\n",
      "1/1 [==============================] - 1s 731ms/step - loss: 0.0041\n",
      "Epoch 83/100\n",
      "1/1 [==============================] - 1s 762ms/step - loss: 0.0043\n",
      "Epoch 84/100\n",
      "1/1 [==============================] - 1s 733ms/step - loss: 0.0046\n",
      "Epoch 85/100\n",
      "1/1 [==============================] - 1s 715ms/step - loss: 0.0046\n",
      "Epoch 86/100\n",
      "1/1 [==============================] - 1s 814ms/step - loss: 0.0041\n",
      "Epoch 87/100\n",
      "1/1 [==============================] - 1s 726ms/step - loss: 0.0045\n",
      "Epoch 88/100\n",
      "1/1 [==============================] - 1s 760ms/step - loss: 0.0041\n",
      "Epoch 89/100\n",
      "1/1 [==============================] - 1s 729ms/step - loss: 0.0043\n",
      "Epoch 90/100\n",
      "1/1 [==============================] - 1s 760ms/step - loss: 0.0044\n",
      "Epoch 91/100\n",
      "1/1 [==============================] - 1s 769ms/step - loss: 0.0042\n",
      "Epoch 92/100\n",
      "1/1 [==============================] - 1s 783ms/step - loss: 0.0045\n",
      "Epoch 93/100\n",
      "1/1 [==============================] - 1s 805ms/step - loss: 0.0045\n",
      "Epoch 94/100\n",
      "1/1 [==============================] - 1s 782ms/step - loss: 0.0045\n",
      "Epoch 95/100\n",
      "1/1 [==============================] - 1s 768ms/step - loss: 0.0046\n",
      "Epoch 96/100\n",
      "1/1 [==============================] - 1s 756ms/step - loss: 0.0044\n",
      "Epoch 97/100\n",
      "1/1 [==============================] - 1s 766ms/step - loss: 0.0045\n",
      "Epoch 98/100\n",
      "1/1 [==============================] - 1s 725ms/step - loss: 0.0045\n",
      "Epoch 99/100\n",
      "1/1 [==============================] - 1s 861ms/step - loss: 0.0043\n",
      "Epoch 100/100\n",
      "1/1 [==============================] - 1s 905ms/step - loss: 0.0042\n"
     ]
    }
   ],
   "source": [
    "history2 = model2.fit(train_dataset, epochs = 100, batch_size = 32)  \n",
    "model2.save('msft2.h5')"
   ]
  },
  {
   "cell_type": "code",
   "execution_count": 243,
   "metadata": {},
   "outputs": [
    {
     "data": {
      "image/png": "[encoded data removed]",
      "text/plain": [
       "<Figure size 640x480 with 1 Axes>"
      ]
     },
     "metadata": {},
     "output_type": "display_data"
    }
   ],
   "source": [
    "import matplotlib.pyplot as plt\n",
    "\n",
    "loss = history2.history['loss']\n",
    "\n",
    "epochs = range(1, len(loss) + 1)\n",
    "\n",
    "# \"bo\" is for \"blue dot\"\n",
    "plt.plot(epochs, loss, 'bo', label='Training loss')\n",
    "\n",
    "plt.title('Training loss')\n",
    "plt.xlabel('Epochs')\n",
    "plt.ylabel('Loss')\n",
    "plt.legend()\n",
    "\n",
    "plt.show()"
   ]
  },
  {
   "cell_type": "code",
   "execution_count": 244,
   "metadata": {
    "collapsed": true
   },
   "outputs": [
    {
     "name": "stderr",
     "output_type": "stream",
     "text": [
      "2023-11-04 10:18:03.109673: I tensorflow/core/common_runtime/executor.cc:1197] [/device:CPU:0] (DEBUG INFO) Executor start aborting (this does not indicate an error and you can ignore this message): INVALID_ARGUMENT: You must feed a value for placeholder tensor 'Placeholder/_8' with dtype int32 and shape [41]\n",
      "\t [[{{node Placeholder/_8}}]]\n",
      "2023-11-04 10:18:03.110128: I tensorflow/core/common_runtime/executor.cc:1197] [/device:CPU:0] (DEBUG INFO) Executor start aborting (this does not indicate an error and you can ignore this message): INVALID_ARGUMENT: You must feed a value for placeholder tensor 'Placeholder/_20' with dtype double and shape [100,1]\n",
      "\t [[{{node Placeholder/_20}}]]\n",
      "2023-11-04 10:18:03.230757: I tensorflow/core/common_runtime/executor.cc:1197] [/device:CPU:0] (DEBUG INFO) Executor start aborting (this does not indicate an error and you can ignore this message): INVALID_ARGUMENT: You must feed a value for placeholder tensor 'gradients/split_2_grad/concat/split_2/split_dim' with dtype int32\n",
      "\t [[{{node gradients/split_2_grad/concat/split_2/split_dim}}]]\n",
      "2023-11-04 10:18:03.231419: I tensorflow/core/common_runtime/executor.cc:1197] [/device:CPU:0] (DEBUG INFO) Executor start aborting (this does not indicate an error and you can ignore this message): INVALID_ARGUMENT: You must feed a value for placeholder tensor 'gradients/split_grad/concat/split/split_dim' with dtype int32\n",
      "\t [[{{node gradients/split_grad/concat/split/split_dim}}]]\n",
      "2023-11-04 10:18:03.231882: I tensorflow/core/common_runtime/executor.cc:1197] [/device:CPU:0] (DEBUG INFO) Executor start aborting (this does not indicate an error and you can ignore this message): INVALID_ARGUMENT: You must feed a value for placeholder tensor 'gradients/split_1_grad/concat/split_1/split_dim' with dtype int32\n",
      "\t [[{{node gradients/split_1_grad/concat/split_1/split_dim}}]]\n",
      "2023-11-04 10:18:03.309897: I tensorflow/core/common_runtime/executor.cc:1197] [/device:CPU:0] (DEBUG INFO) Executor start aborting (this does not indicate an error and you can ignore this message): INVALID_ARGUMENT: You must feed a value for placeholder tensor 'gradients/split_2_grad/concat/split_2/split_dim' with dtype int32\n",
      "\t [[{{node gradients/split_2_grad/concat/split_2/split_dim}}]]\n",
      "2023-11-04 10:18:03.310435: I tensorflow/core/common_runtime/executor.cc:1197] [/device:CPU:0] (DEBUG INFO) Executor start aborting (this does not indicate an error and you can ignore this message): INVALID_ARGUMENT: You must feed a value for placeholder tensor 'gradients/split_grad/concat/split/split_dim' with dtype int32\n",
      "\t [[{{node gradients/split_grad/concat/split/split_dim}}]]\n",
      "2023-11-04 10:18:03.311052: I tensorflow/core/common_runtime/executor.cc:1197] [/device:CPU:0] (DEBUG INFO) Executor start aborting (this does not indicate an error and you can ignore this message): INVALID_ARGUMENT: You must feed a value for placeholder tensor 'gradients/split_1_grad/concat/split_1/split_dim' with dtype int32\n",
      "\t [[{{node gradients/split_1_grad/concat/split_1/split_dim}}]]\n",
      "2023-11-04 10:18:03.386647: I tensorflow/core/common_runtime/executor.cc:1197] [/device:CPU:0] (DEBUG INFO) Executor start aborting (this does not indicate an error and you can ignore this message): INVALID_ARGUMENT: You must feed a value for placeholder tensor 'gradients/split_2_grad/concat/split_2/split_dim' with dtype int32\n",
      "\t [[{{node gradients/split_2_grad/concat/split_2/split_dim}}]]\n",
      "2023-11-04 10:18:03.387279: I tensorflow/core/common_runtime/executor.cc:1197] [/device:CPU:0] (DEBUG INFO) Executor start aborting (this does not indicate an error and you can ignore this message): INVALID_ARGUMENT: You must feed a value for placeholder tensor 'gradients/split_grad/concat/split/split_dim' with dtype int32\n",
      "\t [[{{node gradients/split_grad/concat/split/split_dim}}]]\n",
      "2023-11-04 10:18:03.387958: I tensorflow/core/common_runtime/executor.cc:1197] [/device:CPU:0] (DEBUG INFO) Executor start aborting (this does not indicate an error and you can ignore this message): INVALID_ARGUMENT: You must feed a value for placeholder tensor 'gradients/split_1_grad/concat/split_1/split_dim' with dtype int32\n",
      "\t [[{{node gradients/split_1_grad/concat/split_1/split_dim}}]]\n",
      "2023-11-04 10:18:03.450538: I tensorflow/core/common_runtime/executor.cc:1197] [/device:CPU:0] (DEBUG INFO) Executor start aborting (this does not indicate an error and you can ignore this message): INVALID_ARGUMENT: You must feed a value for placeholder tensor 'gradients/split_2_grad/concat/split_2/split_dim' with dtype int32\n",
      "\t [[{{node gradients/split_2_grad/concat/split_2/split_dim}}]]\n",
      "2023-11-04 10:18:03.451031: I tensorflow/core/common_runtime/executor.cc:1197] [/device:CPU:0] (DEBUG INFO) Executor start aborting (this does not indicate an error and you can ignore this message): INVALID_ARGUMENT: You must feed a value for placeholder tensor 'gradients/split_grad/concat/split/split_dim' with dtype int32\n",
      "\t [[{{node gradients/split_grad/concat/split/split_dim}}]]\n",
      "2023-11-04 10:18:03.451453: I tensorflow/core/common_runtime/executor.cc:1197] [/device:CPU:0] (DEBUG INFO) Executor start aborting (this does not indicate an error and you can ignore this message): INVALID_ARGUMENT: You must feed a value for placeholder tensor 'gradients/split_1_grad/concat/split_1/split_dim' with dtype int32\n",
      "\t [[{{node gradients/split_1_grad/concat/split_1/split_dim}}]]\n"
     ]
    },
    {
     "name": "stdout",
     "output_type": "stream",
     "text": [
      "2/2 [==============================] - 1s 9ms/step\n"
     ]
    }
   ],
   "source": [
    "predictions2 = model2.predict(test_dataset)  "
   ]
  },
  {
   "cell_type": "code",
   "execution_count": 256,
   "metadata": {},
   "outputs": [],
   "source": [
    "predictions_inv2 = scaler.inverse_transform(predictions2) "
   ]
  },
  {
   "cell_type": "code",
   "execution_count": 257,
   "metadata": {},
   "outputs": [
    {
     "data": {
      "image/png": "[encoded data removed]",
      "text/plain": [
       "<Figure size 1000x600 with 1 Axes>"
      ]
     },
     "metadata": {},
     "output_type": "display_data"
    }
   ],
   "source": [
    "plt.figure(figsize=(10,6))  \n",
    "plt.plot(msft_testing_processed, color='blue', label='Actual MSFT Stock Price')  \n",
    "plt.plot(predictions_inv2 , color='red', label='Predicted MSFT Stock Price')  \n",
    "plt.title('MSFT Stock Price Prediction')  \n",
    "plt.xlabel('Date')  \n",
    "plt.ylabel('MSFT Stock Price')  \n",
    "plt.legend()  \n",
    "plt.show()  "
   ]
  },
  {
   "cell_type": "markdown",
   "metadata": {},
   "source": [
    "# Problem 3 \n",
    "\n",
    "Let us treat the problem of stock price prediction as a “Multivariate Time Series Forecasting”. Rather than predicting the opening stock price on the 61st day based on 60 previous Open prices, as the elements of the input sequence use 5-dimensional vectors made of (Open, High, Low, Close, Volume). Keep the length of the input sequence to 60. Your label data still contain only the Open stock prices, and you are forecasting only the Open prices. Report on the loss behavior during the training process. Compare test results with those obtained in Problem 1."
   ]
  },
  {
   "cell_type": "code",
   "execution_count": 263,
   "metadata": {},
   "outputs": [],
   "source": [
    "#prepare training dataset by scaling original data with additional fields\n",
    "scaler1 = MinMaxScaler(feature_range = (0, 1))\n",
    "msft_train_processed = msft_training_complete.iloc[:, 1:].values  \n",
    "msft_train_complete_scaled = scaler1.fit_transform(msft_train_processed)"
   ]
  },
  {
   "cell_type": "code",
   "execution_count": 264,
   "metadata": {},
   "outputs": [
    {
     "data": {
      "text/plain": [
       "(1929, 6)"
      ]
     },
     "execution_count": 264,
     "metadata": {},
     "output_type": "execute_result"
    }
   ],
   "source": [
    "msft_train_complete_scaled.shape"
   ]
  },
  {
   "cell_type": "code",
   "execution_count": 305,
   "metadata": {},
   "outputs": [],
   "source": [
    "#construct the training dataset\n",
    "sampling_rate = 1\n",
    "sequence_length = 60\n",
    "delay = sampling_rate * (sequence_length + 24 - 1)\n",
    "batch_size = 1929\n",
    "\n",
    "train_dataset = keras.utils.timeseries_dataset_from_array(\n",
    "    msft_train_complete_scaled,\n",
    "    targets=msft_train_complete_scaled[:,1:2],\n",
    "    sampling_rate=sampling_rate,\n",
    "    sequence_length=sequence_length,\n",
    "    shuffle=True,\n",
    "    batch_size=batch_size,\n",
    "    start_index=0,\n",
    "    end_index=1928)"
   ]
  },
  {
   "cell_type": "code",
   "execution_count": 306,
   "metadata": {},
   "outputs": [
    {
     "name": "stdout",
     "output_type": "stream",
     "text": [
      "samples shape: (1869, 60, 6)\n",
      "targets shape: (1869, 1)\n"
     ]
    },
    {
     "name": "stderr",
     "output_type": "stream",
     "text": [
      "2023-11-04 11:33:03.643524: I tensorflow/core/common_runtime/executor.cc:1197] [/device:CPU:0] (DEBUG INFO) Executor start aborting (this does not indicate an error and you can ignore this message): INVALID_ARGUMENT: You must feed a value for placeholder tensor 'Placeholder/_13' with dtype int32\n",
      "\t [[{{node Placeholder/_13}}]]\n",
      "2023-11-04 11:33:03.644515: I tensorflow/core/common_runtime/executor.cc:1197] [/device:CPU:0] (DEBUG INFO) Executor start aborting (this does not indicate an error and you can ignore this message): INVALID_ARGUMENT: You must feed a value for placeholder tensor 'Placeholder/_20' with dtype double and shape [1928,1]\n",
      "\t [[{{node Placeholder/_20}}]]\n"
     ]
    }
   ],
   "source": [
    "#display training dataset output shapes\n",
    "for samples, targets in train_dataset:\n",
    "    print(\"samples shape:\", samples.shape)\n",
    "    print(\"targets shape:\", targets.shape)\n",
    "    break"
   ]
  },
  {
   "cell_type": "code",
   "execution_count": 281,
   "metadata": {},
   "outputs": [],
   "source": [
    "msft_testing_processed1 = msft_test.iloc[:, 1:].values  "
   ]
  },
  {
   "cell_type": "code",
   "execution_count": 288,
   "metadata": {},
   "outputs": [],
   "source": [
    "msft_testing_scaled1 = scaler1.fit_transform(msft_testing_processed1)"
   ]
  },
  {
   "cell_type": "code",
   "execution_count": 267,
   "metadata": {},
   "outputs": [],
   "source": [
    "#construct the test dataset\n",
    "sampling_rate = 1\n",
    "sequence_length = 60\n",
    "delay =  sampling_rate * (sequence_length + 24 - 1)\n",
    "batch_size = 34\n",
    "\n",
    "test_dataset = keras.utils.timeseries_dataset_from_array(\n",
    "    test_inputs,\n",
    "    targets=test_inputs,\n",
    "    sampling_rate=sampling_rate,\n",
    "    sequence_length=sequence_length,\n",
    "    shuffle=True,\n",
    "    batch_size=batch_size,\n",
    "    start_index=0)"
   ]
  },
  {
   "cell_type": "code",
   "execution_count": 307,
   "metadata": {},
   "outputs": [],
   "source": [
    "#construct the test dataset\n",
    "sampling_rate = 1\n",
    "sequence_length = 60\n",
    "delay =  sampling_rate * (sequence_length + 24 - 1)\n",
    "batch_size = 34\n",
    "\n",
    "test_dataset1 = keras.utils.timeseries_dataset_from_array(\n",
    "    msft_testing_scaled1,\n",
    "    targets=msft_testing_scaled1[:,1:2],\n",
    "    sampling_rate=sampling_rate,\n",
    "    sequence_length=sequence_length,\n",
    "    shuffle=True,\n",
    "    batch_size=batch_size,\n",
    "    start_index=0)"
   ]
  },
  {
   "cell_type": "code",
   "execution_count": 308,
   "metadata": {},
   "outputs": [
    {
     "name": "stderr",
     "output_type": "stream",
     "text": [
      "2023-11-04 11:33:20.990004: I tensorflow/core/common_runtime/executor.cc:1197] [/device:CPU:0] (DEBUG INFO) Executor start aborting (this does not indicate an error and you can ignore this message): INVALID_ARGUMENT: You must feed a value for placeholder tensor 'Placeholder/_20' with dtype double and shape [40,1]\n",
      "\t [[{{node Placeholder/_20}}]]\n",
      "2023-11-04 11:33:20.990878: I tensorflow/core/common_runtime/executor.cc:1197] [/device:CPU:0] (DEBUG INFO) Executor start aborting (this does not indicate an error and you can ignore this message): INVALID_ARGUMENT: You must feed a value for placeholder tensor 'Placeholder/_8' with dtype int32 and shape [0]\n",
      "\t [[{{node Placeholder/_8}}]]\n"
     ]
    }
   ],
   "source": [
    "#diplay test dataset output shapes\n",
    "for samples, targets in test_dataset1:\n",
    "    print(\"samples shape:\", samples.shape)\n",
    "    print(\"targets shape:\", targets.shape)\n",
    "    break"
   ]
  },
  {
   "cell_type": "code",
   "execution_count": 269,
   "metadata": {},
   "outputs": [
    {
     "name": "stdout",
     "output_type": "stream",
     "text": [
      "samples shape: (34, 60, 1)\n",
      "targets shape: (34, 1)\n"
     ]
    }
   ],
   "source": [
    "for samples, targets in test_dataset:\n",
    "    print(\"samples shape:\", samples.shape)\n",
    "    print(\"targets shape:\", targets.shape)\n",
    "    break"
   ]
  },
  {
   "cell_type": "code",
   "execution_count": 270,
   "metadata": {
    "collapsed": true
   },
   "outputs": [
    {
     "name": "stderr",
     "output_type": "stream",
     "text": [
      "2023-11-04 10:32:28.676842: I tensorflow/core/common_runtime/executor.cc:1197] [/device:CPU:0] (DEBUG INFO) Executor start aborting (this does not indicate an error and you can ignore this message): INVALID_ARGUMENT: You must feed a value for placeholder tensor 'gradients/split_2_grad/concat/split_2/split_dim' with dtype int32\n",
      "\t [[{{node gradients/split_2_grad/concat/split_2/split_dim}}]]\n",
      "2023-11-04 10:32:28.677774: I tensorflow/core/common_runtime/executor.cc:1197] [/device:CPU:0] (DEBUG INFO) Executor start aborting (this does not indicate an error and you can ignore this message): INVALID_ARGUMENT: You must feed a value for placeholder tensor 'gradients/split_grad/concat/split/split_dim' with dtype int32\n",
      "\t [[{{node gradients/split_grad/concat/split/split_dim}}]]\n",
      "2023-11-04 10:32:28.678672: I tensorflow/core/common_runtime/executor.cc:1197] [/device:CPU:0] (DEBUG INFO) Executor start aborting (this does not indicate an error and you can ignore this message): INVALID_ARGUMENT: You must feed a value for placeholder tensor 'gradients/split_1_grad/concat/split_1/split_dim' with dtype int32\n",
      "\t [[{{node gradients/split_1_grad/concat/split_1/split_dim}}]]\n",
      "2023-11-04 10:32:28.764039: I tensorflow/core/common_runtime/executor.cc:1197] [/device:CPU:0] (DEBUG INFO) Executor start aborting (this does not indicate an error and you can ignore this message): INVALID_ARGUMENT: You must feed a value for placeholder tensor 'gradients/split_2_grad/concat/split_2/split_dim' with dtype int32\n",
      "\t [[{{node gradients/split_2_grad/concat/split_2/split_dim}}]]\n",
      "2023-11-04 10:32:28.764519: I tensorflow/core/common_runtime/executor.cc:1197] [/device:CPU:0] (DEBUG INFO) Executor start aborting (this does not indicate an error and you can ignore this message): INVALID_ARGUMENT: You must feed a value for placeholder tensor 'gradients/split_grad/concat/split/split_dim' with dtype int32\n",
      "\t [[{{node gradients/split_grad/concat/split/split_dim}}]]\n",
      "2023-11-04 10:32:28.764963: I tensorflow/core/common_runtime/executor.cc:1197] [/device:CPU:0] (DEBUG INFO) Executor start aborting (this does not indicate an error and you can ignore this message): INVALID_ARGUMENT: You must feed a value for placeholder tensor 'gradients/split_1_grad/concat/split_1/split_dim' with dtype int32\n",
      "\t [[{{node gradients/split_1_grad/concat/split_1/split_dim}}]]\n",
      "2023-11-04 10:32:28.838731: I tensorflow/core/common_runtime/executor.cc:1197] [/device:CPU:0] (DEBUG INFO) Executor start aborting (this does not indicate an error and you can ignore this message): INVALID_ARGUMENT: You must feed a value for placeholder tensor 'gradients/split_2_grad/concat/split_2/split_dim' with dtype int32\n",
      "\t [[{{node gradients/split_2_grad/concat/split_2/split_dim}}]]\n",
      "2023-11-04 10:32:28.839267: I tensorflow/core/common_runtime/executor.cc:1197] [/device:CPU:0] (DEBUG INFO) Executor start aborting (this does not indicate an error and you can ignore this message): INVALID_ARGUMENT: You must feed a value for placeholder tensor 'gradients/split_grad/concat/split/split_dim' with dtype int32\n",
      "\t [[{{node gradients/split_grad/concat/split/split_dim}}]]\n",
      "2023-11-04 10:32:28.839681: I tensorflow/core/common_runtime/executor.cc:1197] [/device:CPU:0] (DEBUG INFO) Executor start aborting (this does not indicate an error and you can ignore this message): INVALID_ARGUMENT: You must feed a value for placeholder tensor 'gradients/split_1_grad/concat/split_1/split_dim' with dtype int32\n",
      "\t [[{{node gradients/split_1_grad/concat/split_1/split_dim}}]]\n",
      "2023-11-04 10:32:29.464928: I tensorflow/core/common_runtime/executor.cc:1197] [/device:CPU:0] (DEBUG INFO) Executor start aborting (this does not indicate an error and you can ignore this message): INVALID_ARGUMENT: You must feed a value for placeholder tensor 'gradients/split_2_grad/concat/split_2/split_dim' with dtype int32\n",
      "\t [[{{node gradients/split_2_grad/concat/split_2/split_dim}}]]\n",
      "2023-11-04 10:32:29.465444: I tensorflow/core/common_runtime/executor.cc:1197] [/device:CPU:0] (DEBUG INFO) Executor start aborting (this does not indicate an error and you can ignore this message): INVALID_ARGUMENT: You must feed a value for placeholder tensor 'gradients/split_grad/concat/split/split_dim' with dtype int32\n",
      "\t [[{{node gradients/split_grad/concat/split/split_dim}}]]\n",
      "2023-11-04 10:32:29.465962: I tensorflow/core/common_runtime/executor.cc:1197] [/device:CPU:0] (DEBUG INFO) Executor start aborting (this does not indicate an error and you can ignore this message): INVALID_ARGUMENT: You must feed a value for placeholder tensor 'gradients/split_1_grad/concat/split_1/split_dim' with dtype int32\n",
      "\t [[{{node gradients/split_1_grad/concat/split_1/split_dim}}]]\n"
     ]
    }
   ],
   "source": [
    "model1 = Sequential()  \n",
    "model1.add(LSTM(units=50, return_sequences=True, input_shape=(sequence_length, 6),unroll=False))  \n",
    "model1.add(Dropout(0.2))  \n",
    "model1.add(LSTM(units=50, return_sequences=True))  \n",
    "model1.add(Dropout(0.2))\n",
    "model1.add(LSTM(units=50, return_sequences=True))  \n",
    "model1.add(Dropout(0.2))\n",
    "model1.add(LSTM(units=50))  \n",
    "model1.add(Dropout(0.2))  \n",
    "model1.add(Dense(units = 1))  \n"
   ]
  },
  {
   "cell_type": "code",
   "execution_count": 271,
   "metadata": {},
   "outputs": [
    {
     "name": "stdout",
     "output_type": "stream",
     "text": [
      "Model: \"sequential_11\"\n",
      "_________________________________________________________________\n",
      " Layer (type)                Output Shape              Param #   \n",
      "=================================================================\n",
      " lstm_37 (LSTM)              (None, 60, 50)            11400     \n",
      "                                                                 \n",
      " dropout_36 (Dropout)        (None, 60, 50)            0         \n",
      "                                                                 \n",
      " lstm_38 (LSTM)              (None, 60, 50)            20200     \n",
      "                                                                 \n",
      " dropout_37 (Dropout)        (None, 60, 50)            0         \n",
      "                                                                 \n",
      " lstm_39 (LSTM)              (None, 60, 50)            20200     \n",
      "                                                                 \n",
      " dropout_38 (Dropout)        (None, 60, 50)            0         \n",
      "                                                                 \n",
      " lstm_40 (LSTM)              (None, 50)                20200     \n",
      "                                                                 \n",
      " dropout_39 (Dropout)        (None, 50)                0         \n",
      "                                                                 \n",
      " dense_9 (Dense)             (None, 1)                 51        \n",
      "                                                                 \n",
      "=================================================================\n",
      "Total params: 72,051\n",
      "Trainable params: 72,051\n",
      "Non-trainable params: 0\n",
      "_________________________________________________________________\n"
     ]
    }
   ],
   "source": [
    "model1.summary()"
   ]
  },
  {
   "cell_type": "code",
   "execution_count": 272,
   "metadata": {},
   "outputs": [],
   "source": [
    "model1.compile(optimizer = 'adam', loss = 'mean_squared_error')  "
   ]
  },
  {
   "cell_type": "code",
   "execution_count": 273,
   "metadata": {},
   "outputs": [
    {
     "name": "stdout",
     "output_type": "stream",
     "text": [
      "Epoch 1/100\n"
     ]
    },
    {
     "name": "stderr",
     "output_type": "stream",
     "text": [
      "2023-11-04 10:32:35.586473: I tensorflow/core/common_runtime/executor.cc:1197] [/device:CPU:0] (DEBUG INFO) Executor start aborting (this does not indicate an error and you can ignore this message): INVALID_ARGUMENT: You must feed a value for placeholder tensor 'gradients/split_2_grad/concat/split_2/split_dim' with dtype int32\n",
      "\t [[{{node gradients/split_2_grad/concat/split_2/split_dim}}]]\n",
      "2023-11-04 10:32:35.587406: I tensorflow/core/common_runtime/executor.cc:1197] [/device:CPU:0] (DEBUG INFO) Executor start aborting (this does not indicate an error and you can ignore this message): INVALID_ARGUMENT: You must feed a value for placeholder tensor 'gradients/split_grad/concat/split/split_dim' with dtype int32\n",
      "\t [[{{node gradients/split_grad/concat/split/split_dim}}]]\n",
      "2023-11-04 10:32:35.587889: I tensorflow/core/common_runtime/executor.cc:1197] [/device:CPU:0] (DEBUG INFO) Executor start aborting (this does not indicate an error and you can ignore this message): INVALID_ARGUMENT: You must feed a value for placeholder tensor 'gradients/split_1_grad/concat/split_1/split_dim' with dtype int32\n",
      "\t [[{{node gradients/split_1_grad/concat/split_1/split_dim}}]]\n",
      "2023-11-04 10:32:35.654323: I tensorflow/core/common_runtime/executor.cc:1197] [/device:CPU:0] (DEBUG INFO) Executor start aborting (this does not indicate an error and you can ignore this message): INVALID_ARGUMENT: You must feed a value for placeholder tensor 'gradients/split_2_grad/concat/split_2/split_dim' with dtype int32\n",
      "\t [[{{node gradients/split_2_grad/concat/split_2/split_dim}}]]\n",
      "2023-11-04 10:32:35.655011: I tensorflow/core/common_runtime/executor.cc:1197] [/device:CPU:0] (DEBUG INFO) Executor start aborting (this does not indicate an error and you can ignore this message): INVALID_ARGUMENT: You must feed a value for placeholder tensor 'gradients/split_grad/concat/split/split_dim' with dtype int32\n",
      "\t [[{{node gradients/split_grad/concat/split/split_dim}}]]\n",
      "2023-11-04 10:32:35.655453: I tensorflow/core/common_runtime/executor.cc:1197] [/device:CPU:0] (DEBUG INFO) Executor start aborting (this does not indicate an error and you can ignore this message): INVALID_ARGUMENT: You must feed a value for placeholder tensor 'gradients/split_1_grad/concat/split_1/split_dim' with dtype int32\n",
      "\t [[{{node gradients/split_1_grad/concat/split_1/split_dim}}]]\n",
      "2023-11-04 10:32:35.719819: I tensorflow/core/common_runtime/executor.cc:1197] [/device:CPU:0] (DEBUG INFO) Executor start aborting (this does not indicate an error and you can ignore this message): INVALID_ARGUMENT: You must feed a value for placeholder tensor 'gradients/split_2_grad/concat/split_2/split_dim' with dtype int32\n",
      "\t [[{{node gradients/split_2_grad/concat/split_2/split_dim}}]]\n",
      "2023-11-04 10:32:35.720371: I tensorflow/core/common_runtime/executor.cc:1197] [/device:CPU:0] (DEBUG INFO) Executor start aborting (this does not indicate an error and you can ignore this message): INVALID_ARGUMENT: You must feed a value for placeholder tensor 'gradients/split_grad/concat/split/split_dim' with dtype int32\n",
      "\t [[{{node gradients/split_grad/concat/split/split_dim}}]]\n",
      "2023-11-04 10:32:35.720892: I tensorflow/core/common_runtime/executor.cc:1197] [/device:CPU:0] (DEBUG INFO) Executor start aborting (this does not indicate an error and you can ignore this message): INVALID_ARGUMENT: You must feed a value for placeholder tensor 'gradients/split_1_grad/concat/split_1/split_dim' with dtype int32\n",
      "\t [[{{node gradients/split_1_grad/concat/split_1/split_dim}}]]\n",
      "2023-11-04 10:32:35.784147: I tensorflow/core/common_runtime/executor.cc:1197] [/device:CPU:0] (DEBUG INFO) Executor start aborting (this does not indicate an error and you can ignore this message): INVALID_ARGUMENT: You must feed a value for placeholder tensor 'gradients/split_2_grad/concat/split_2/split_dim' with dtype int32\n",
      "\t [[{{node gradients/split_2_grad/concat/split_2/split_dim}}]]\n",
      "2023-11-04 10:32:35.784728: I tensorflow/core/common_runtime/executor.cc:1197] [/device:CPU:0] (DEBUG INFO) Executor start aborting (this does not indicate an error and you can ignore this message): INVALID_ARGUMENT: You must feed a value for placeholder tensor 'gradients/split_grad/concat/split/split_dim' with dtype int32\n",
      "\t [[{{node gradients/split_grad/concat/split/split_dim}}]]\n",
      "2023-11-04 10:32:35.785203: I tensorflow/core/common_runtime/executor.cc:1197] [/device:CPU:0] (DEBUG INFO) Executor start aborting (this does not indicate an error and you can ignore this message): INVALID_ARGUMENT: You must feed a value for placeholder tensor 'gradients/split_1_grad/concat/split_1/split_dim' with dtype int32\n",
      "\t [[{{node gradients/split_1_grad/concat/split_1/split_dim}}]]\n",
      "2023-11-04 10:32:36.187546: I tensorflow/core/common_runtime/executor.cc:1197] [/device:CPU:0] (DEBUG INFO) Executor start aborting (this does not indicate an error and you can ignore this message): INVALID_ARGUMENT: You must feed a value for placeholder tensor 'gradients/split_2_grad/concat/split_2/split_dim' with dtype int32\n",
      "\t [[{{node gradients/split_2_grad/concat/split_2/split_dim}}]]\n",
      "2023-11-04 10:32:36.188254: I tensorflow/core/common_runtime/executor.cc:1197] [/device:CPU:0] (DEBUG INFO) Executor start aborting (this does not indicate an error and you can ignore this message): INVALID_ARGUMENT: You must feed a value for placeholder tensor 'gradients/split_grad/concat/split/split_dim' with dtype int32\n",
      "\t [[{{node gradients/split_grad/concat/split/split_dim}}]]\n",
      "2023-11-04 10:32:36.189019: I tensorflow/core/common_runtime/executor.cc:1197] [/device:CPU:0] (DEBUG INFO) Executor start aborting (this does not indicate an error and you can ignore this message): INVALID_ARGUMENT: You must feed a value for placeholder tensor 'gradients/split_1_grad/concat/split_1/split_dim' with dtype int32\n",
      "\t [[{{node gradients/split_1_grad/concat/split_1/split_dim}}]]\n",
      "2023-11-04 10:32:36.250867: I tensorflow/core/common_runtime/executor.cc:1197] [/device:CPU:0] (DEBUG INFO) Executor start aborting (this does not indicate an error and you can ignore this message): INVALID_ARGUMENT: You must feed a value for placeholder tensor 'gradients/split_2_grad/concat/split_2/split_dim' with dtype int32\n",
      "\t [[{{node gradients/split_2_grad/concat/split_2/split_dim}}]]\n",
      "2023-11-04 10:32:36.251326: I tensorflow/core/common_runtime/executor.cc:1197] [/device:CPU:0] (DEBUG INFO) Executor start aborting (this does not indicate an error and you can ignore this message): INVALID_ARGUMENT: You must feed a value for placeholder tensor 'gradients/split_grad/concat/split/split_dim' with dtype int32\n",
      "\t [[{{node gradients/split_grad/concat/split/split_dim}}]]\n",
      "2023-11-04 10:32:36.251784: I tensorflow/core/common_runtime/executor.cc:1197] [/device:CPU:0] (DEBUG INFO) Executor start aborting (this does not indicate an error and you can ignore this message): INVALID_ARGUMENT: You must feed a value for placeholder tensor 'gradients/split_1_grad/concat/split_1/split_dim' with dtype int32\n",
      "\t [[{{node gradients/split_1_grad/concat/split_1/split_dim}}]]\n",
      "2023-11-04 10:32:36.315347: I tensorflow/core/common_runtime/executor.cc:1197] [/device:CPU:0] (DEBUG INFO) Executor start aborting (this does not indicate an error and you can ignore this message): INVALID_ARGUMENT: You must feed a value for placeholder tensor 'gradients/split_2_grad/concat/split_2/split_dim' with dtype int32\n",
      "\t [[{{node gradients/split_2_grad/concat/split_2/split_dim}}]]\n",
      "2023-11-04 10:32:36.316062: I tensorflow/core/common_runtime/executor.cc:1197] [/device:CPU:0] (DEBUG INFO) Executor start aborting (this does not indicate an error and you can ignore this message): INVALID_ARGUMENT: You must feed a value for placeholder tensor 'gradients/split_grad/concat/split/split_dim' with dtype int32\n",
      "\t [[{{node gradients/split_grad/concat/split/split_dim}}]]\n",
      "2023-11-04 10:32:36.316631: I tensorflow/core/common_runtime/executor.cc:1197] [/device:CPU:0] (DEBUG INFO) Executor start aborting (this does not indicate an error and you can ignore this message): INVALID_ARGUMENT: You must feed a value for placeholder tensor 'gradients/split_1_grad/concat/split_1/split_dim' with dtype int32\n",
      "\t [[{{node gradients/split_1_grad/concat/split_1/split_dim}}]]\n",
      "2023-11-04 10:32:36.381993: I tensorflow/core/common_runtime/executor.cc:1197] [/device:CPU:0] (DEBUG INFO) Executor start aborting (this does not indicate an error and you can ignore this message): INVALID_ARGUMENT: You must feed a value for placeholder tensor 'gradients/split_2_grad/concat/split_2/split_dim' with dtype int32\n",
      "\t [[{{node gradients/split_2_grad/concat/split_2/split_dim}}]]\n",
      "2023-11-04 10:32:36.382469: I tensorflow/core/common_runtime/executor.cc:1197] [/device:CPU:0] (DEBUG INFO) Executor start aborting (this does not indicate an error and you can ignore this message): INVALID_ARGUMENT: You must feed a value for placeholder tensor 'gradients/split_grad/concat/split/split_dim' with dtype int32\n",
      "\t [[{{node gradients/split_grad/concat/split/split_dim}}]]\n",
      "2023-11-04 10:32:36.383063: I tensorflow/core/common_runtime/executor.cc:1197] [/device:CPU:0] (DEBUG INFO) Executor start aborting (this does not indicate an error and you can ignore this message): INVALID_ARGUMENT: You must feed a value for placeholder tensor 'gradients/split_1_grad/concat/split_1/split_dim' with dtype int32\n",
      "\t [[{{node gradients/split_1_grad/concat/split_1/split_dim}}]]\n"
     ]
    },
    {
     "name": "stdout",
     "output_type": "stream",
     "text": [
      "1/1 [==============================] - 3s 3s/step - loss: 0.2588\n",
      "Epoch 2/100\n",
      "1/1 [==============================] - 1s 736ms/step - loss: 0.1673\n",
      "Epoch 3/100\n",
      "1/1 [==============================] - 1s 753ms/step - loss: 0.0982\n",
      "Epoch 4/100\n",
      "1/1 [==============================] - 1s 859ms/step - loss: 0.0426\n",
      "Epoch 5/100\n",
      "1/1 [==============================] - 1s 747ms/step - loss: 0.0133\n",
      "Epoch 6/100\n",
      "1/1 [==============================] - 1s 778ms/step - loss: 0.0358\n",
      "Epoch 7/100\n",
      "1/1 [==============================] - 1s 966ms/step - loss: 0.0478\n",
      "Epoch 8/100\n",
      "1/1 [==============================] - 1s 1s/step - loss: 0.0309\n",
      "Epoch 9/100\n",
      "1/1 [==============================] - 1s 959ms/step - loss: 0.0156\n",
      "Epoch 10/100\n",
      "1/1 [==============================] - 1s 883ms/step - loss: 0.0142\n",
      "Epoch 11/100\n",
      "1/1 [==============================] - 1s 812ms/step - loss: 0.0211\n",
      "Epoch 12/100\n",
      "1/1 [==============================] - 1s 885ms/step - loss: 0.0266\n",
      "Epoch 13/100\n",
      "1/1 [==============================] - 1s 867ms/step - loss: 0.0279\n",
      "Epoch 14/100\n",
      "1/1 [==============================] - 1s 829ms/step - loss: 0.0240\n",
      "Epoch 15/100\n",
      "1/1 [==============================] - 1s 804ms/step - loss: 0.0188\n",
      "Epoch 16/100\n",
      "1/1 [==============================] - 1s 915ms/step - loss: 0.0133\n",
      "Epoch 17/100\n",
      "1/1 [==============================] - 1s 963ms/step - loss: 0.0093\n",
      "Epoch 18/100\n",
      "1/1 [==============================] - 1s 977ms/step - loss: 0.0092\n",
      "Epoch 19/100\n",
      "1/1 [==============================] - 1s 823ms/step - loss: 0.0116\n",
      "Epoch 20/100\n",
      "1/1 [==============================] - 1s 842ms/step - loss: 0.0144\n",
      "Epoch 21/100\n",
      "1/1 [==============================] - 1s 860ms/step - loss: 0.0138\n",
      "Epoch 22/100\n",
      "1/1 [==============================] - 1s 835ms/step - loss: 0.0108\n",
      "Epoch 23/100\n",
      "1/1 [==============================] - 1s 1s/step - loss: 0.0084\n",
      "Epoch 24/100\n",
      "1/1 [==============================] - 1s 1s/step - loss: 0.0063\n",
      "Epoch 25/100\n",
      "1/1 [==============================] - 1s 1s/step - loss: 0.0071\n",
      "Epoch 26/100\n",
      "1/1 [==============================] - 1s 882ms/step - loss: 0.0086\n",
      "Epoch 27/100\n",
      "1/1 [==============================] - 1s 830ms/step - loss: 0.0092\n",
      "Epoch 28/100\n",
      "1/1 [==============================] - 1s 725ms/step - loss: 0.0095\n",
      "Epoch 29/100\n",
      "1/1 [==============================] - 1s 756ms/step - loss: 0.0089\n",
      "Epoch 30/100\n",
      "1/1 [==============================] - 1s 694ms/step - loss: 0.0071\n",
      "Epoch 31/100\n",
      "1/1 [==============================] - 1s 798ms/step - loss: 0.0069\n",
      "Epoch 32/100\n",
      "1/1 [==============================] - 1s 743ms/step - loss: 0.0058\n",
      "Epoch 33/100\n",
      "1/1 [==============================] - 1s 719ms/step - loss: 0.0074\n",
      "Epoch 34/100\n",
      "1/1 [==============================] - 1s 709ms/step - loss: 0.0072\n",
      "Epoch 35/100\n",
      "1/1 [==============================] - 1s 862ms/step - loss: 0.0083\n",
      "Epoch 36/100\n",
      "1/1 [==============================] - 1s 894ms/step - loss: 0.0073\n",
      "Epoch 37/100\n",
      "1/1 [==============================] - 1s 790ms/step - loss: 0.0067\n",
      "Epoch 38/100\n",
      "1/1 [==============================] - 1s 743ms/step - loss: 0.0063\n",
      "Epoch 39/100\n",
      "1/1 [==============================] - 1s 740ms/step - loss: 0.0064\n",
      "Epoch 40/100\n",
      "1/1 [==============================] - 1s 727ms/step - loss: 0.0066\n",
      "Epoch 41/100\n",
      "1/1 [==============================] - 1s 732ms/step - loss: 0.0069\n",
      "Epoch 42/100\n",
      "1/1 [==============================] - 1s 774ms/step - loss: 0.0069\n",
      "Epoch 43/100\n",
      "1/1 [==============================] - 1s 1s/step - loss: 0.0062\n",
      "Epoch 44/100\n",
      "1/1 [==============================] - 1s 754ms/step - loss: 0.0057\n",
      "Epoch 45/100\n",
      "1/1 [==============================] - 1s 734ms/step - loss: 0.0060\n",
      "Epoch 46/100\n",
      "1/1 [==============================] - 1s 826ms/step - loss: 0.0057\n",
      "Epoch 47/100\n",
      "1/1 [==============================] - 1s 697ms/step - loss: 0.0061\n",
      "Epoch 48/100\n",
      "1/1 [==============================] - 1s 702ms/step - loss: 0.0062\n",
      "Epoch 49/100\n",
      "1/1 [==============================] - 1s 749ms/step - loss: 0.0066\n",
      "Epoch 50/100\n",
      "1/1 [==============================] - 1s 800ms/step - loss: 0.0059\n",
      "Epoch 51/100\n",
      "1/1 [==============================] - 1s 755ms/step - loss: 0.0061\n",
      "Epoch 52/100\n",
      "1/1 [==============================] - 1s 750ms/step - loss: 0.0057\n",
      "Epoch 53/100\n",
      "1/1 [==============================] - 1s 842ms/step - loss: 0.0055\n",
      "Epoch 54/100\n",
      "1/1 [==============================] - 1s 823ms/step - loss: 0.0055\n",
      "Epoch 55/100\n",
      "1/1 [==============================] - 1s 773ms/step - loss: 0.0057\n",
      "Epoch 56/100\n",
      "1/1 [==============================] - 1s 765ms/step - loss: 0.0057\n",
      "Epoch 57/100\n",
      "1/1 [==============================] - 1s 700ms/step - loss: 0.0056\n",
      "Epoch 58/100\n",
      "1/1 [==============================] - 1s 730ms/step - loss: 0.0053\n",
      "Epoch 59/100\n",
      "1/1 [==============================] - 1s 714ms/step - loss: 0.0052\n",
      "Epoch 60/100\n",
      "1/1 [==============================] - 1s 710ms/step - loss: 0.0055\n",
      "Epoch 61/100\n",
      "1/1 [==============================] - 1s 711ms/step - loss: 0.0053\n",
      "Epoch 62/100\n",
      "1/1 [==============================] - 1s 868ms/step - loss: 0.0054\n",
      "Epoch 63/100\n",
      "1/1 [==============================] - 1s 766ms/step - loss: 0.0056\n",
      "Epoch 64/100\n",
      "1/1 [==============================] - 1s 728ms/step - loss: 0.0054\n",
      "Epoch 65/100\n",
      "1/1 [==============================] - 2s 2s/step - loss: 0.0051\n",
      "Epoch 66/100\n",
      "1/1 [==============================] - 2s 2s/step - loss: 0.0054\n",
      "Epoch 67/100\n",
      "1/1 [==============================] - 2s 2s/step - loss: 0.0054\n",
      "Epoch 68/100\n",
      "1/1 [==============================] - 1s 1s/step - loss: 0.0055\n",
      "Epoch 69/100\n",
      "1/1 [==============================] - 1s 801ms/step - loss: 0.0046\n",
      "Epoch 70/100\n",
      "1/1 [==============================] - 1s 749ms/step - loss: 0.0054\n",
      "Epoch 71/100\n",
      "1/1 [==============================] - 1s 811ms/step - loss: 0.0051\n",
      "Epoch 72/100\n",
      "1/1 [==============================] - 1s 862ms/step - loss: 0.0048\n",
      "Epoch 73/100\n",
      "1/1 [==============================] - 1s 735ms/step - loss: 0.0052\n",
      "Epoch 74/100\n",
      "1/1 [==============================] - 1s 808ms/step - loss: 0.0054\n",
      "Epoch 75/100\n",
      "1/1 [==============================] - 1s 820ms/step - loss: 0.0053\n",
      "Epoch 76/100\n",
      "1/1 [==============================] - 1s 1s/step - loss: 0.0051\n",
      "Epoch 77/100\n",
      "1/1 [==============================] - 1s 971ms/step - loss: 0.0049\n",
      "Epoch 78/100\n",
      "1/1 [==============================] - 1s 1s/step - loss: 0.0051\n",
      "Epoch 79/100\n",
      "1/1 [==============================] - 1s 1s/step - loss: 0.0049\n",
      "Epoch 80/100\n",
      "1/1 [==============================] - 1s 859ms/step - loss: 0.0048\n",
      "Epoch 81/100\n",
      "1/1 [==============================] - 1s 792ms/step - loss: 0.0052\n",
      "Epoch 82/100\n",
      "1/1 [==============================] - 1s 795ms/step - loss: 0.0051\n",
      "Epoch 83/100\n",
      "1/1 [==============================] - 1s 857ms/step - loss: 0.0048\n",
      "Epoch 84/100\n",
      "1/1 [==============================] - 1s 831ms/step - loss: 0.0046\n",
      "Epoch 85/100\n",
      "1/1 [==============================] - 1s 809ms/step - loss: 0.0049\n",
      "Epoch 86/100\n",
      "1/1 [==============================] - 1s 814ms/step - loss: 0.0047\n",
      "Epoch 87/100\n",
      "1/1 [==============================] - 1s 797ms/step - loss: 0.0049\n",
      "Epoch 88/100\n",
      "1/1 [==============================] - 1s 838ms/step - loss: 0.0049\n",
      "Epoch 89/100\n",
      "1/1 [==============================] - 1s 811ms/step - loss: 0.0044\n",
      "Epoch 90/100\n",
      "1/1 [==============================] - 1s 808ms/step - loss: 0.0047\n",
      "Epoch 91/100\n",
      "1/1 [==============================] - 1s 1s/step - loss: 0.0049\n",
      "Epoch 92/100\n",
      "1/1 [==============================] - 1s 900ms/step - loss: 0.0049\n",
      "Epoch 93/100\n",
      "1/1 [==============================] - 1s 947ms/step - loss: 0.0047\n",
      "Epoch 94/100\n",
      "1/1 [==============================] - 1s 823ms/step - loss: 0.0046\n",
      "Epoch 95/100\n",
      "1/1 [==============================] - 1s 791ms/step - loss: 0.0045\n",
      "Epoch 96/100\n",
      "1/1 [==============================] - 1s 832ms/step - loss: 0.0047\n",
      "Epoch 97/100\n",
      "1/1 [==============================] - 1s 987ms/step - loss: 0.0046\n",
      "Epoch 98/100\n",
      "1/1 [==============================] - 1s 802ms/step - loss: 0.0047\n",
      "Epoch 99/100\n",
      "1/1 [==============================] - 1s 838ms/step - loss: 0.0046\n",
      "Epoch 100/100\n",
      "1/1 [==============================] - 1s 806ms/step - loss: 0.0046\n"
     ]
    }
   ],
   "source": [
    "history1 = model1.fit(train_dataset, epochs = 100, batch_size = 32)  \n",
    "model1.save('msft1.h5')"
   ]
  },
  {
   "cell_type": "code",
   "execution_count": 274,
   "metadata": {
    "scrolled": true
   },
   "outputs": [
    {
     "data": {
      "image/png": "[encoded data removed]",
      "text/plain": [
       "<Figure size 640x480 with 1 Axes>"
      ]
     },
     "metadata": {},
     "output_type": "display_data"
    }
   ],
   "source": [
    "loss = history1.history['loss']\n",
    "\n",
    "epochs = range(1, len(loss) + 1)\n",
    "\n",
    "# \"bo\" is for \"blue dot\"\n",
    "plt.plot(epochs, loss, 'bo', label='Training loss')\n",
    "\n",
    "plt.title('Training loss')\n",
    "plt.xlabel('Epochs')\n",
    "plt.ylabel('Loss')\n",
    "plt.legend()\n",
    "\n",
    "plt.show()"
   ]
  },
  {
   "cell_type": "code",
   "execution_count": 223,
   "metadata": {},
   "outputs": [],
   "source": [
    "Predictions1_like = np.zeros(shape=(len(predictions1), 6) )\n",
    "Predictions1_like[:,0:1]=predictions1"
   ]
  },
  {
   "cell_type": "code",
   "execution_count": 226,
   "metadata": {},
   "outputs": [],
   "source": [
    "predictions_inv = scaler1.inverse_transform(Predictions1_like)  "
   ]
  },
  {
   "cell_type": "code",
   "execution_count": 232,
   "metadata": {},
   "outputs": [
    {
     "data": {
      "image/png": "[encoded data removed]",
      "text/plain": [
       "<Figure size 1000x600 with 1 Axes>"
      ]
     },
     "metadata": {},
     "output_type": "display_data"
    }
   ],
   "source": [
    "plt.figure(figsize=(10,6))  \n",
    "plt.plot(msft_testing_processed, color='blue', label='Actual MSFT Stock Price')  \n",
    "plt.plot(predictions_inv[:,0] , color='red', label='Predicted MSFT Stock Price')  \n",
    "plt.title('MSFT Stock Price Prediction')  \n",
    "plt.xlabel('Date')  \n",
    "plt.ylabel('MSFT Stock Price')  \n",
    "plt.legend()  \n",
    "plt.show()  \n"
   ]
  },
  {
   "cell_type": "code",
   "execution_count": null,
   "metadata": {},
   "outputs": [],
   "source": []
  }
 ],
 "metadata": {
  "kernelspec": {
   "display_name": "Python 3 (ipykernel)",
   "language": "python",
   "name": "python3"
  },
  "language_info": {
   "codemirror_mode": {
    "name": "ipython",
    "version": 3
   },
   "file_extension": ".py",
   "mimetype": "text/x-python",
   "name": "python",
   "nbconvert_exporter": "python",
   "pygments_lexer": "ipython3",
   "version": "3.10.13"
  }
 },
 "nbformat": 4,
 "nbformat_minor": 4
}
