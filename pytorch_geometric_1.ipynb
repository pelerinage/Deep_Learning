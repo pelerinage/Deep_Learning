{
 "cells": [
  {
   "cell_type": "code",
   "execution_count": 1,
   "id": "e593d667-135d-407a-bb88-bb31e64511d7",
   "metadata": {},
   "outputs": [],
   "source": [
    "#install pytorch geometric and dependencies"
   ]
  },
  {
   "cell_type": "code",
   "execution_count": 3,
   "id": "80e70087-2221-400b-a818-4b0d5e72d9ee",
   "metadata": {},
   "outputs": [
    {
     "name": "stdout",
     "output_type": "stream",
     "text": [
      "Collecting package metadata (current_repodata.json): done\n",
      "Solving environment: unsuccessful initial attempt using frozen solve. Retrying with flexible solve.\n",
      "Solving environment: unsuccessful attempt using repodata from current_repodata.json, retrying with next repodata source.\n",
      "Collecting package metadata (repodata.json): | WARNING conda.models.version:get_matcher(556): Using .* with relational operator is superfluous and deprecated and will be removed in a future version of conda. Your spec was 1.8.0.*, but conda is ignoring the .* and treating it as 1.8.0\n",
      "WARNING conda.models.version:get_matcher(556): Using .* with relational operator is superfluous and deprecated and will be removed in a future version of conda. Your spec was 1.9.0.*, but conda is ignoring the .* and treating it as 1.9.0\n",
      "done\n",
      "Solving environment: unsuccessful initial attempt using frozen solve. Retrying with flexible solve.\n",
      "Solving environment: | \n",
      "Found conflicts! Looking for incompatible packages.\n",
      "This can take several minutes.  Press CTRL-C to abort.\n",
      "                                                                               failed\n",
      "\n",
      "UnsatisfiableError: The following specifications were found to be incompatible with each other:\n",
      "\n",
      "Output in format: Requested package -> Available versions\n",
      "\n",
      "Package pytorch conflicts for:\n",
      "pytorch-nightly|pytorch-nightly::pytorch\n",
      "pytorch-nightly::pytorch\n",
      "torchvision -> pytorch-cpu -> pytorch[version='1.10.0|1.10.0|1.10.0|1.10.0|1.10.1|1.10.1|1.10.2|1.10.2|1.10.2|1.10.2|1.11.0|1.11.0|1.11.0|1.11.0|1.11.0|1.11.0|1.11.0|1.11.0|1.11.0|1.12.0|1.12.0|1.12.0|1.12.0|1.12.0|1.12.0|1.12.0|1.12.0|1.12.0|1.12.1|1.12.1|1.12.1|1.12.1|1.12.1|1.12.1|1.13.0|1.13.0|1.13.0|1.13.0|1.13.1|1.13.1|1.13.1|1.13.1|1.13.1|1.13.1|1.13.1|1.13.1|2.0.0|2.0.0|2.0.0|2.0.0|2.0.0|2.0.0|2.0.0|2.0.0|2.0.0|2.0.0|2.0.0|2.0.0|2.0.0|2.0.0|2.0.0|2.0.0|2.0.0|2.0.0|2.0.0|2.0.0|2.1.0|2.1.0|2.1.0|2.1.0|2.1.0|2.1.0|2.1.0|2.1.0|2.1.0|2.1.0|2.1.0|2.1.0|2.1.0|2.1.0|2.1.0|2.1.2|1.9.1|1.9.1|1.9.0|1.9.0|1.9.0|1.9.0|1.9.0|1.9.0|1.8.0|1.8.0|1.8.0|1.8.0|1.8.0|1.8.0|1.8.0|1.8.0|2.2.0|2.1.0',build='cpu*|cpu*|cpu_py39hff516c6_0|cpu_py39hc766e51_1|cpu_py38h15dfef8_2|cpu_py39h8ae5edc_2|cpu_py39h8ae5edc_3|cpu_py39h8ae5edc_1|cpu_py38ha3d347f_3|cpu_py38ha3d347f_0|cpu_py38h7444d52_1|cpu_py39hbfdb42d_0|cpu_py39hbfdb42d_0|cpu_py38h7444d52_1|cpu_py39h19aa3d3_0|cpu_py39h03f923b_1|cpu_py39h03f923b_2|cpu_py38h17550ec_2|cpu_py38h3eb028a_0|cpu_py39h0768760_1|cpu_py38h7afd69f_1|cpu_py310h911b1ea_2|cpu_py38h7afd69f_2|cpu_py39h0768760_0|cpu_py310h911b1ea_0|cpu_py39hf1faf6a_0|cpu_py311h98403b3_0|cpu_py38hfb32b02_0|cpu_py311h98403b3_0|cpu_py39hf1faf6a_0|cpu_py310h32bc11d_1|cpu_py38h0b410dd_1|cpu_py38hb5ed39e_0|cpu_py39hda249e6_0|cpu_generic_py39hb35d202_1|cpu_generic_py311ha38e979_1|cpu_generic_py38h88c01a6_2|cpu_generic_py310h9b0b4f9_3|cpu_generic_py311heca2501_3|cpu_generic_py38had23297_3|cpu_generic_py311h9ea7f2d_4|cpu_generic_py38h1ad5e6f_0|cpu_generic_py310h7a13b03_0|cpu_generic_py39h4a6bf10_0|cpu_generic_py38h86f65b2_2|cpu_generic_py311hf9c669c_2|cpu_generic_py312h60739c2_2|cpu_generic_py311hf9c669c_3|cpu_generic_py38h86f65b2_3|cpu_generic_py312h60739c2_3|cpu_generic_py39h2c040b9_0|cpu_generic_py310h4d6d75d_0|cpu_generic_py312h60739c2_0|cpu_generic_py39h4bad755_1|cpu_generic_py312hb841a54_1|cpu_generic_py310h85d5aed_2|cpu_generic_py312hb841a54_2|cpu_generic_py39h4bad755_2|cpu_generic_py38h0e73643_2|cpu_generic_py311h38827da_2|cpu_generic_py38h0e73643_1|cpu_generic_py311h38827da_1|cpu_generic_py38h86f65b2_0|cpu_generic_py311hf9c669c_0|cpu_generic_py39h2c040b9_3|cpu_generic_py310h4d6d75d_3|cpu_generic_py39h2c040b9_2|cpu_generic_py310h4d6d75d_2|cpu_generic_py312h28b293b_0|cpu_generic_py311h9ea7f2d_0|cpu_generic_py310h7a13b03_4|cpu_generic_py39h4a6bf10_4|cpu_generic_py38h1ad5e6f_4|cpu_generic_py39hdf1d804_3|cpu_generic_py310h588a15b_2|cpu_generic_py39h178f10f_2|cpu_generic_py311h2f67d2a_2|cpu_generic_py310h3496f23_1|cpu_generic_py38hbf0e826_1|cpu_py310h32bc11d_0|cpu_py311hb4bb8ad_0|cpu_py39he82db40_1|cpu_py311hb4bb8ad_1|cpu_py38hfb32b02_0|cpu_py310h7410233_0|cpu_py310h7410233_0|cpu_py38hfb32b02_1|cpu_py310h7410233_1|cpu_py39hf1faf6a_1|cpu_py38h7afd69f_0|cpu_py39h0768760_2|cpu_py310h911b1ea_1|cpu_py39h7be5bbc_0|cpu_py310hb62697f_0|cpu_py310h61528c5_2|cpu_py310h61528c5_1|cpu_py38h17550ec_1|cpu_py310he9514b4_0|cpu_py38h1b6422d_0|cpu_py39hbfdb42d_1|cpu_py38h7444d52_0|cpu_py38h7444d52_0|cpu_py39hbfdb42d_1|cpu_py39h7601aee_0|cpu_py39h7601aee_3|cpu_py38hff7f1bc_2|cpu_py39he8fdc14_2|cpu_py38h15dfef8_1|cpu_py39h8ae5edc_0|cpu_py38h15dfef8_0|cpu_py38h15dfef8_3|cpu_py38hc43b888_1|cpu_py38h179404b_0']\n",
      "torchvision -> pytorch[version='*|1.10.*|1.10|2.0|2.1|2.1.*|2.4.0.dev20240322|>=2.1.2,<2.2.0a0|>=2.1.0,<2.2.0a0|>=2.0.0,<2.1.0a0|>=1.13.1,<1.14.0a0|>=1.13.0,<1.14.0a0|>=1.12.0,<1.13.0a0|>=1.11.0,<1.12.0a0|>=1.10.2,<1.11.0a0|1.10.0.*|>=1.8.0|1.10.2',build=cpu*]\n",
      "torchaudio -> pytorch[version='2.4.0.dev20240317|2.4.0.dev20240322']\n",
      "\n",
      "Package setuptools conflicts for:\n",
      "torchvision -> pytorch[version='>=1.10.2,<1.11.0a0'] -> setuptools[version='<59.6']\n",
      "torchvision -> setuptools\n",
      "python=3.11 -> pip -> setuptools\n",
      "pytorch-nightly::pytorch -> jinja2 -> setuptools\n",
      "\n",
      "Package flit-core conflicts for:\n",
      "pytorch-nightly::pytorch -> typing_extensions -> flit-core[version='>=3.6,<4']\n",
      "torchvision -> typing_extensions -> flit-core[version='>=3.6,<4']\n",
      "\n",
      "Package numpy-base conflicts for:\n",
      "torchvision -> numpy[version='>=1.11'] -> numpy-base[version='1.19.2|1.19.2|1.19.5|1.19.5|1.21.2|1.21.2|1.21.2|1.21.5|1.21.5|1.21.5|1.21.5|1.21.5|1.21.5|1.21.5|1.21.5|1.21.5|1.21.6|1.21.6|1.21.6|1.22.3|1.22.3|1.22.3|1.22.3|1.23.1|1.23.1|1.23.1|1.23.3|1.23.3|1.23.3|1.23.3|1.23.3|1.23.3|1.23.4|1.23.4|1.23.4|1.23.5|1.23.5|1.23.5|1.23.5|1.24.3|1.24.3|1.24.3|1.24.3|1.25.0|1.25.0|1.25.0|1.25.2|1.25.2|1.25.2|1.26.0|1.26.0|1.26.0|1.26.0|1.26.2|1.26.2|1.26.2|1.26.2|1.26.3|1.26.3|1.26.3|1.26.3|1.26.4',build='py38hdc56644_1|py39hdc56644_4|py310h6269429_0|py39h6269429_0|py39h974a1f5_1|py38h974a1f5_1|py39hadd41eb_3|py39haf87e8b_0|py39h974a1f5_0|py38h974a1f5_0|py310h742c864_0|py39hadd41eb_0|py39hadd41eb_0|py38hadd41eb_1|py38h90707a3_0|py38h90707a3_0|py38h90707a3_0|py39h90707a3_0|py39ha9811e2_0|py310ha9811e2_0|py39ha9811e2_0|py39ha9811e2_0|py311hfbfe69c_0|py312he047099_0|py310ha9811e2_0|py311hfbfe69c_0|py312he047099_0|py39ha9811e2_0|py312he047099_0|py39ha9811e2_0|py312he047099_0|py310ha9811e2_0|py311hfbfe69c_0|py39ha9811e2_0|py310ha9811e2_0|py311hfbfe69c_0|py310ha9811e2_0|py310ha9811e2_0|py311hfbfe69c_0|py311hfbfe69c_0|py311h1d85a46_0|py310haf87e8b_0|py311h9eb1c70_0|py310haf87e8b_0|py39h90707a3_0|py39h90707a3_0|py310haf87e8b_0|py39hadd41eb_1|py310h742c864_1|py38hadd41eb_0|py310h742c864_0|py38hadd41eb_0|py311h9eb1c70_1|py310h5e3e9f0_0|py38haf87e8b_0|py310haf87e8b_0|py310h742c864_3|py38hadd41eb_3|py310h5e3e9f0_2|py39h974a1f5_2|py38h974a1f5_2|py310h5e3e9f0_1|py38h6269429_0|py38hdc56644_4|py39hdc56644_1']\n",
      "torchaudio -> numpy -> numpy-base[version='1.19.2|1.19.2|1.19.5|1.19.5|1.21.2|1.21.2|1.21.2|1.21.5|1.21.5|1.21.5|1.21.5|1.21.5|1.21.5|1.21.5|1.21.5|1.21.5|1.21.6|1.21.6|1.21.6|1.22.3|1.22.3|1.22.3|1.22.3|1.23.1|1.23.1|1.23.1|1.23.3|1.23.3|1.23.3|1.23.3|1.23.3|1.23.3|1.23.4|1.23.4|1.23.4|1.23.5|1.23.5|1.23.5|1.23.5|1.24.3|1.24.3|1.24.3|1.24.3|1.25.0|1.25.0|1.25.0|1.25.2|1.25.2|1.25.2|1.26.0|1.26.0|1.26.0|1.26.0|1.26.2|1.26.2|1.26.2|1.26.2|1.26.3|1.26.3|1.26.3|1.26.3|1.26.4',build='py38hdc56644_1|py39hdc56644_4|py310h6269429_0|py39h6269429_0|py39h974a1f5_1|py38h974a1f5_1|py39hadd41eb_3|py39haf87e8b_0|py39h974a1f5_0|py38h974a1f5_0|py310h742c864_0|py39hadd41eb_0|py39hadd41eb_0|py38hadd41eb_1|py38h90707a3_0|py38h90707a3_0|py38h90707a3_0|py39h90707a3_0|py39ha9811e2_0|py310ha9811e2_0|py39ha9811e2_0|py39ha9811e2_0|py311hfbfe69c_0|py312he047099_0|py310ha9811e2_0|py311hfbfe69c_0|py312he047099_0|py39ha9811e2_0|py312he047099_0|py39ha9811e2_0|py312he047099_0|py310ha9811e2_0|py311hfbfe69c_0|py39ha9811e2_0|py310ha9811e2_0|py311hfbfe69c_0|py310ha9811e2_0|py310ha9811e2_0|py311hfbfe69c_0|py311hfbfe69c_0|py311h1d85a46_0|py310haf87e8b_0|py311h9eb1c70_0|py310haf87e8b_0|py39h90707a3_0|py39h90707a3_0|py310haf87e8b_0|py39hadd41eb_1|py310h742c864_1|py38hadd41eb_0|py310h742c864_0|py38hadd41eb_0|py311h9eb1c70_1|py310h5e3e9f0_0|py38haf87e8b_0|py310haf87e8b_0|py310h742c864_3|py38hadd41eb_3|py310h5e3e9f0_2|py39h974a1f5_2|py38h974a1f5_2|py310h5e3e9f0_1|py38h6269429_0|py38hdc56644_4|py39hdc56644_1']The following specifications were found to be incompatible with your system:\n",
      "\n",
      "  - feature:/osx-arm64::__osx==14.3.1=0\n",
      "  - feature:/osx-arm64::__unix==0=0\n",
      "  - feature:|@/osx-arm64::__osx==14.3.1=0\n",
      "  - python=3.11 -> ncurses[version='>=6.4,<7.0a0'] -> __osx[version='>=10.9']\n",
      "  - pytorch-nightly::pytorch -> sympy -> __unix\n",
      "  - torchaudio -> numpy -> __osx[version='>=10.9']\n",
      "  - torchvision -> __osx[version='>=10.9']\n",
      "  - torchvision -> pytorch[version='>=2.1.0,<2.2.0a0'] -> __osx[version='>=11.0|>=12.3']\n",
      "\n",
      "Your installed version is: 14.3.1\n",
      "\n",
      "\n",
      "\n",
      "Note: you may need to restart the kernel to use updated packages.\n"
     ]
    }
   ],
   "source": [
    "conda install pytorch-nightly::pytorch torchvision torchaudio -c pytorch-nightly"
   ]
  },
  {
   "cell_type": "code",
   "execution_count": 1,
   "id": "bbfe1b25-4fc7-40d3-b423-df5c6daf26c0",
   "metadata": {},
   "outputs": [
    {
     "ename": "ModuleNotFoundError",
     "evalue": "No module named 'torch'",
     "output_type": "error",
     "traceback": [
      "\u001b[0;31m---------------------------------------------------------------------------\u001b[0m",
      "\u001b[0;31mModuleNotFoundError\u001b[0m                       Traceback (most recent call last)",
      "Cell \u001b[0;32mIn[1], line 1\u001b[0m\n\u001b[0;32m----> 1\u001b[0m \u001b[38;5;28;01mimport\u001b[39;00m \u001b[38;5;21;01mtorch\u001b[39;00m\n\u001b[1;32m      2\u001b[0m torch\u001b[38;5;241m.\u001b[39m__version__\n",
      "\u001b[0;31mModuleNotFoundError\u001b[0m: No module named 'torch'"
     ]
    }
   ],
   "source": [
    "import torch\n",
    "torch.__version__"
   ]
  },
  {
   "cell_type": "code",
   "execution_count": 2,
   "id": "8588a001-02f0-4034-a70b-4524b7d15aa4",
   "metadata": {},
   "outputs": [
    {
     "ename": "SyntaxError",
     "evalue": "invalid syntax (4037082235.py, line 2)",
     "output_type": "error",
     "traceback": [
      "\u001b[0;36m  Cell \u001b[0;32mIn[2], line 2\u001b[0;36m\u001b[0m\n\u001b[0;31m    conda install pybind11\u001b[0m\n\u001b[0m          ^\u001b[0m\n\u001b[0;31mSyntaxError\u001b[0m\u001b[0;31m:\u001b[0m invalid syntax\n"
     ]
    }
   ],
   "source": [
    "#dependency for geometric packages\n",
    "conda install pybind11"
   ]
  },
  {
   "cell_type": "code",
   "execution_count": 5,
   "id": "b65e6781-2547-4e26-81f1-c0e9b85d4e6f",
   "metadata": {},
   "outputs": [
    {
     "name": "stdout",
     "output_type": "stream",
     "text": [
      "Looking in links: https://data.pyg.org/whl/torch-2.1.0+cpu.html\n",
      "Collecting torch-scatter\n",
      "  Using cached torch_scatter-2.1.2.tar.gz (108 kB)\n",
      "  Preparing metadata (setup.py) ... \u001b[?25ldone\n",
      "\u001b[?25hBuilding wheels for collected packages: torch-scatter\n",
      "  Building wheel for torch-scatter (setup.py) ... \u001b[?25ldone\n",
      "\u001b[?25h  Created wheel for torch-scatter: filename=torch_scatter-2.1.2-cp39-cp39-macosx_11_0_arm64.whl size=265844 sha256=bfd408b6ffc5c5f89dab626a0d08052c9e30b10b5de3976fd9f09455a7f500a2\n",
      "  Stored in directory: /Users/mpellegrin008/Library/Caches/pip/wheels/b8/9c/c0/d261e1e64cc49e6b14dd7319d8b61eb14168529d810dbba00e\n",
      "Successfully built torch-scatter\n",
      "Installing collected packages: torch-scatter\n",
      "Successfully installed torch-scatter-2.1.2\n"
     ]
    }
   ],
   "source": [
    "!pip install torch-scatter -f https://data.pyg.org/whl/torch-2.1.0+cpu.html"
   ]
  },
  {
   "cell_type": "code",
   "execution_count": 6,
   "id": "cd1c04e9-88b7-4356-91f8-0ba5dab09970",
   "metadata": {},
   "outputs": [
    {
     "name": "stdout",
     "output_type": "stream",
     "text": [
      "Looking in links: https://data.pyg.org/whl/torch-2.1.0+cpu.html\n",
      "Collecting torch-sparse\n",
      "  Using cached torch_sparse-0.6.18.tar.gz (209 kB)\n",
      "  Preparing metadata (setup.py) ... \u001b[?25ldone\n",
      "\u001b[?25hRequirement already satisfied: scipy in /Users/mpellegrin008/anaconda3/envs/pytorch/lib/python3.9/site-packages (from torch-sparse) (1.11.4)\n",
      "Requirement already satisfied: numpy<1.28.0,>=1.21.6 in /Users/mpellegrin008/anaconda3/envs/pytorch/lib/python3.9/site-packages (from scipy->torch-sparse) (1.26.4)\n",
      "Building wheels for collected packages: torch-sparse\n",
      "  Building wheel for torch-sparse (setup.py) ... \u001b[?25ldone\n",
      "\u001b[?25h  Created wheel for torch-sparse: filename=torch_sparse-0.6.18-cp39-cp39-macosx_11_0_arm64.whl size=426630 sha256=04dcf0beaa5279be2b14c7f0126c44a4240afb2a710c8a596c2967a69ff28d49\n",
      "  Stored in directory: /Users/mpellegrin008/Library/Caches/pip/wheels/c0/15/18/881c60adefeb60882987c23aa5ecced0ab7257c3162acab518\n",
      "Successfully built torch-sparse\n",
      "Installing collected packages: torch-sparse\n",
      "Successfully installed torch-sparse-0.6.18\n"
     ]
    }
   ],
   "source": [
    "!pip install torch-sparse -f https://data.pyg.org/whl/torch-2.1.0+cpu.html"
   ]
  },
  {
   "cell_type": "code",
   "execution_count": 7,
   "id": "96690d52-8500-4d1c-8636-386facc9517f",
   "metadata": {},
   "outputs": [
    {
     "name": "stdout",
     "output_type": "stream",
     "text": [
      "Looking in links: https://data.pyg.org/whl/torch-2.1.0+cpu.html\n",
      "Collecting torch-spline-conv\n",
      "  Downloading torch_spline_conv-1.2.2.tar.gz (25 kB)\n",
      "  Preparing metadata (setup.py) ... \u001b[?25ldone\n",
      "\u001b[?25hBuilding wheels for collected packages: torch-spline-conv\n",
      "  Building wheel for torch-spline-conv (setup.py) ... \u001b[?25ldone\n",
      "\u001b[?25h  Created wheel for torch-spline-conv: filename=torch_spline_conv-1.2.2-cp39-cp39-macosx_11_0_arm64.whl size=101068 sha256=b70500bb2372cec5909d3cd36c2e97038aab87b1ba229abc5101399822a43631\n",
      "  Stored in directory: /Users/mpellegrin008/Library/Caches/pip/wheels/58/f8/af/928307700e029de11dd581e4a466b4c906bb0764d2d4b591f0\n",
      "Successfully built torch-spline-conv\n",
      "Installing collected packages: torch-spline-conv\n",
      "Successfully installed torch-spline-conv-1.2.2\n"
     ]
    }
   ],
   "source": [
    "!pip install torch-spline-conv -f https://data.pyg.org/whl/torch-2.1.0+cpu.html"
   ]
  },
  {
   "cell_type": "code",
   "execution_count": 8,
   "id": "57fadbaa-acce-448f-89bb-95879775b66a",
   "metadata": {},
   "outputs": [
    {
     "name": "stdout",
     "output_type": "stream",
     "text": [
      "Collecting torch_geometric\n",
      "  Downloading torch_geometric-2.5.0-py3-none-any.whl.metadata (64 kB)\n",
      "\u001b[2K     \u001b[38;2;114;156;31m━━━━━━━━━━━━━━━━━━━━━━━━━━━━━━━━━━━━━━━━\u001b[0m \u001b[32m64.2/64.2 kB\u001b[0m \u001b[31m2.1 MB/s\u001b[0m eta \u001b[36m0:00:00\u001b[0m\n",
      "\u001b[?25hRequirement already satisfied: tqdm in /Users/mpellegrin008/anaconda3/envs/pytorch/lib/python3.9/site-packages (from torch_geometric) (4.66.2)\n",
      "Requirement already satisfied: numpy in /Users/mpellegrin008/anaconda3/envs/pytorch/lib/python3.9/site-packages (from torch_geometric) (1.26.4)\n",
      "Requirement already satisfied: scipy in /Users/mpellegrin008/anaconda3/envs/pytorch/lib/python3.9/site-packages (from torch_geometric) (1.11.4)\n",
      "Requirement already satisfied: fsspec in /Users/mpellegrin008/anaconda3/envs/pytorch/lib/python3.9/site-packages (from torch_geometric) (2024.2.0)\n",
      "Requirement already satisfied: jinja2 in /Users/mpellegrin008/anaconda3/envs/pytorch/lib/python3.9/site-packages (from torch_geometric) (3.1.3)\n",
      "Requirement already satisfied: aiohttp in /Users/mpellegrin008/anaconda3/envs/pytorch/lib/python3.9/site-packages (from torch_geometric) (3.9.3)\n",
      "Requirement already satisfied: requests in /Users/mpellegrin008/anaconda3/envs/pytorch/lib/python3.9/site-packages (from torch_geometric) (2.31.0)\n",
      "Requirement already satisfied: pyparsing in /Users/mpellegrin008/anaconda3/envs/pytorch/lib/python3.9/site-packages (from torch_geometric) (3.1.1)\n",
      "Requirement already satisfied: scikit-learn in /Users/mpellegrin008/anaconda3/envs/pytorch/lib/python3.9/site-packages (from torch_geometric) (1.3.0)\n",
      "Requirement already satisfied: psutil>=5.8.0 in /Users/mpellegrin008/anaconda3/envs/pytorch/lib/python3.9/site-packages (from torch_geometric) (5.9.0)\n",
      "Requirement already satisfied: aiosignal>=1.1.2 in /Users/mpellegrin008/anaconda3/envs/pytorch/lib/python3.9/site-packages (from aiohttp->torch_geometric) (1.3.1)\n",
      "Requirement already satisfied: attrs>=17.3.0 in /Users/mpellegrin008/anaconda3/envs/pytorch/lib/python3.9/site-packages (from aiohttp->torch_geometric) (23.2.0)\n",
      "Requirement already satisfied: frozenlist>=1.1.1 in /Users/mpellegrin008/anaconda3/envs/pytorch/lib/python3.9/site-packages (from aiohttp->torch_geometric) (1.4.0)\n",
      "Requirement already satisfied: multidict<7.0,>=4.5 in /Users/mpellegrin008/anaconda3/envs/pytorch/lib/python3.9/site-packages (from aiohttp->torch_geometric) (6.0.4)\n",
      "Requirement already satisfied: yarl<2.0,>=1.0 in /Users/mpellegrin008/anaconda3/envs/pytorch/lib/python3.9/site-packages (from aiohttp->torch_geometric) (1.9.3)\n",
      "Requirement already satisfied: async-timeout<5.0,>=4.0 in /Users/mpellegrin008/anaconda3/envs/pytorch/lib/python3.9/site-packages (from aiohttp->torch_geometric) (4.0.3)\n",
      "Requirement already satisfied: MarkupSafe>=2.0 in /Users/mpellegrin008/anaconda3/envs/pytorch/lib/python3.9/site-packages (from jinja2->torch_geometric) (2.1.3)\n",
      "Requirement already satisfied: charset-normalizer<4,>=2 in /Users/mpellegrin008/anaconda3/envs/pytorch/lib/python3.9/site-packages (from requests->torch_geometric) (3.3.2)\n",
      "Requirement already satisfied: idna<4,>=2.5 in /Users/mpellegrin008/anaconda3/envs/pytorch/lib/python3.9/site-packages (from requests->torch_geometric) (3.6)\n",
      "Requirement already satisfied: urllib3<3,>=1.21.1 in /Users/mpellegrin008/anaconda3/envs/pytorch/lib/python3.9/site-packages (from requests->torch_geometric) (2.2.1)\n",
      "Requirement already satisfied: certifi>=2017.4.17 in /Users/mpellegrin008/anaconda3/envs/pytorch/lib/python3.9/site-packages (from requests->torch_geometric) (2024.2.2)\n",
      "Requirement already satisfied: joblib>=1.1.1 in /Users/mpellegrin008/anaconda3/envs/pytorch/lib/python3.9/site-packages (from scikit-learn->torch_geometric) (1.3.2)\n",
      "Requirement already satisfied: threadpoolctl>=2.0.0 in /Users/mpellegrin008/anaconda3/envs/pytorch/lib/python3.9/site-packages (from scikit-learn->torch_geometric) (3.2.0)\n",
      "Downloading torch_geometric-2.5.0-py3-none-any.whl (1.1 MB)\n",
      "\u001b[2K   \u001b[38;2;114;156;31m━━━━━━━━━━━━━━━━━━━━━━━━━━━━━━━━━━━━━━━━\u001b[0m \u001b[32m1.1/1.1 MB\u001b[0m \u001b[31m11.7 MB/s\u001b[0m eta \u001b[36m0:00:00\u001b[0m MB/s\u001b[0m eta \u001b[36m0:00:01\u001b[0m\n",
      "\u001b[?25hInstalling collected packages: torch_geometric\n",
      "Successfully installed torch_geometric-2.5.0\n"
     ]
    }
   ],
   "source": [
    "!pip install torch_geometric"
   ]
  },
  {
   "cell_type": "markdown",
   "id": "58f5be12-caa1-4daf-ba11-c2f984e725dd",
   "metadata": {},
   "source": [
    "# Problem 1\n",
    "\n",
    "- Examine the source code for module torch_geometric.utils.convert.\n",
    "- Start with one of  five node NetworkX graphs you created in Problem 4 of Problem set 6.\n",
    "- Use functions in module convert or any other torch_gemetric functions to transform that NetworkX graph to a PyTorch Geometric objects of type torch_geometric.data.Data.\n",
    "- Make sure that the entire information content of the graph is transferred to new Data objects.\n",
    "- Now, that you have the Data objects, transform it back to networkx.Graph objects using torch_geometric functions.\n",
    "- Confirm that new NetwrokX graph is identical to the original NetworkX graph. "
   ]
  },
  {
   "cell_type": "code",
   "execution_count": 43,
   "id": "79d45de2-1461-4e7d-baae-2d1a38027652",
   "metadata": {},
   "outputs": [],
   "source": [
    "import networkx as nx\n",
    "import numpy as np\n",
    "from collections import defaultdict\n",
    "from typing import Any, Dict, Iterable, List, Literal, Optional, Tuple, Union\n",
    "\n",
    "import scipy.sparse\n",
    "import torch\n",
    "from torch import Tensor\n",
    "from torch.utils.dlpack import from_dlpack, to_dlpack\n",
    "\n",
    "import torch_geometric\n",
    "from torch_geometric.utils.num_nodes import maybe_num_nodes\n",
    "import torch_geometric.utils.convert\n",
    "from torch_geometric.utils.convert import from_networkx\n",
    "from torch_geometric.utils.convert import to_networkx"
   ]
  },
  {
   "cell_type": "code",
   "execution_count": 12,
   "id": "5f17fc6c-cb59-4093-9800-5a02ab3a8706",
   "metadata": {},
   "outputs": [
    {
     "name": "stdout",
     "output_type": "stream",
     "text": [
      "[[0 0 0 1]\n",
      " [0 0 0 1]\n",
      " [0 0 0 1]\n",
      " [1 1 1 0]]\n"
     ]
    }
   ],
   "source": [
    "#create undirected graph and add nodes and edges from HW06 problem 4\n",
    "G1 = nx.Graph()\n",
    "\n",
    "G1.add_nodes_from([(1, {\"atom\":\"N\"}),\n",
    "                  (2, {\"atom\":\"N\"}),\n",
    "                  (3, {\"atom\":\"N\"}),\n",
    "                  (4, {\"atom\":\"H\"})])\n",
    "\n",
    "G1.add_edges_from([(1, 4),(2, 4),(3, 4)])\n",
    "A1 = np.asarray(nx.adjacency_matrix(G1).todense())\n",
    "print(A1) #print adjacency matrix"
   ]
  },
  {
   "cell_type": "code",
   "execution_count": 13,
   "id": "e82dfd1d-bfcc-4365-8415-7aa1f08b8f06",
   "metadata": {},
   "outputs": [
    {
     "data": {
      "image/png": "[encoded data removed]",
      "text/plain": [
       "<Figure size 640x480 with 1 Axes>"
      ]
     },
     "metadata": {},
     "output_type": "display_data"
    }
   ],
   "source": [
    "nx.draw(G1, with_labels=True)"
   ]
  },
  {
   "cell_type": "code",
   "execution_count": 18,
   "id": "f2dea5ee-c202-49a6-8684-b3dd5a1f1c89",
   "metadata": {},
   "outputs": [],
   "source": [
    "#convert networkx graph to torch geometric\n",
    "\n",
    "G2 = from_networkx(G1)"
   ]
  },
  {
   "cell_type": "code",
   "execution_count": 22,
   "id": "0329f4ed-ffae-4b06-832d-9b7adb28c63e",
   "metadata": {},
   "outputs": [
    {
     "data": {
      "text/plain": [
       "Data(edge_index=[2, 6], atom=[4], num_nodes=4)"
      ]
     },
     "execution_count": 22,
     "metadata": {},
     "output_type": "execute_result"
    }
   ],
   "source": [
    "G2"
   ]
  },
  {
   "cell_type": "code",
   "execution_count": 26,
   "id": "48beff71-60e7-4c12-beee-e3be59b162df",
   "metadata": {},
   "outputs": [
    {
     "name": "stdout",
     "output_type": "stream",
     "text": [
      "tensor([[0, 1, 2, 3, 3, 3],\n",
      "        [3, 3, 3, 0, 1, 2]])\n"
     ]
    }
   ],
   "source": [
    "print(G2.edge_index)"
   ]
  },
  {
   "cell_type": "code",
   "execution_count": 31,
   "id": "b5117ba6-978c-4f30-8272-78bd03a47258",
   "metadata": {},
   "outputs": [
    {
     "name": "stdout",
     "output_type": "stream",
     "text": [
      "4\n"
     ]
    }
   ],
   "source": [
    "print(G2.num_nodes)"
   ]
  },
  {
   "cell_type": "code",
   "execution_count": 33,
   "id": "0c678097-0ccc-4db6-8b3a-f0d5fb9bf677",
   "metadata": {},
   "outputs": [
    {
     "name": "stdout",
     "output_type": "stream",
     "text": [
      "False\n"
     ]
    }
   ],
   "source": [
    "print(G2.is_directed())"
   ]
  },
  {
   "cell_type": "code",
   "execution_count": 36,
   "id": "86408912-b91a-40b9-bd94-821e5c1c6ee8",
   "metadata": {},
   "outputs": [
    {
     "name": "stdout",
     "output_type": "stream",
     "text": [
      "['atom', 'num_nodes', 'edge_index']\n"
     ]
    }
   ],
   "source": [
    "print(G2.keys())"
   ]
  },
  {
   "cell_type": "code",
   "execution_count": 42,
   "id": "010a6932-9c35-4d74-b3cc-2f13c8eac527",
   "metadata": {},
   "outputs": [
    {
     "name": "stdout",
     "output_type": "stream",
     "text": [
      "edge_index found in data\n",
      "atom found in data\n",
      "num_nodes found in data\n"
     ]
    }
   ],
   "source": [
    "for key, item in G2:\n",
    "    print(f'{key} found in data')"
   ]
  },
  {
   "cell_type": "code",
   "execution_count": 37,
   "id": "d54d7843-fd51-4113-b2d9-4fa7226bb8b4",
   "metadata": {},
   "outputs": [
    {
     "name": "stdout",
     "output_type": "stream",
     "text": [
      "0\n"
     ]
    }
   ],
   "source": [
    "print(G2.num_node_features)"
   ]
  },
  {
   "cell_type": "code",
   "execution_count": 39,
   "id": "7c2ef9d4-9081-4e68-9a44-a5c33482b921",
   "metadata": {},
   "outputs": [
    {
     "name": "stdout",
     "output_type": "stream",
     "text": [
      "['N', 'N', 'N', 'H']\n"
     ]
    }
   ],
   "source": [
    "print(G2['atom'])"
   ]
  },
  {
   "cell_type": "markdown",
   "id": "55ce0aff-46cb-476f-acba-efe54b3b6c3e",
   "metadata": {},
   "source": [
    "## We see based on the above attributes of G2 that the torch geometric utility preserved the information contained in the networkx graph\n"
   ]
  },
  {
   "cell_type": "code",
   "execution_count": 48,
   "id": "9ccd7157-d9dc-444f-b627-de73555fe153",
   "metadata": {},
   "outputs": [],
   "source": [
    "#convert torch geometric data object back to networkx\n",
    "\n",
    "G3 = to_networkx(G2, to_undirected=True)"
   ]
  },
  {
   "cell_type": "code",
   "execution_count": 49,
   "id": "9363904d-5979-4c6c-a66f-f865d7927ba4",
   "metadata": {},
   "outputs": [
    {
     "data": {
      "text/plain": [
       "<networkx.classes.graph.Graph at 0x1493100a0>"
      ]
     },
     "execution_count": 49,
     "metadata": {},
     "output_type": "execute_result"
    }
   ],
   "source": [
    "G3"
   ]
  },
  {
   "cell_type": "code",
   "execution_count": 50,
   "id": "e81f5e75-3da4-478a-bbc7-332b66bb603e",
   "metadata": {},
   "outputs": [
    {
     "name": "stdout",
     "output_type": "stream",
     "text": [
      "[[0 0 0 1]\n",
      " [0 0 0 1]\n",
      " [0 0 0 1]\n",
      " [1 1 1 0]]\n"
     ]
    }
   ],
   "source": [
    "A3 = np.asarray(nx.adjacency_matrix(G3).todense())\n",
    "print(A3) #print adjacency matrix"
   ]
  },
  {
   "cell_type": "code",
   "execution_count": 52,
   "id": "3dabd9dd-27a9-4489-8030-ce6ea9459930",
   "metadata": {},
   "outputs": [
    {
     "data": {
      "text/plain": [
       "NodeView((0, 1, 2, 3))"
      ]
     },
     "execution_count": 52,
     "metadata": {},
     "output_type": "execute_result"
    }
   ],
   "source": [
    "G3.nodes"
   ]
  },
  {
   "cell_type": "code",
   "execution_count": 51,
   "id": "49486995-8d1b-4894-957e-7920bc698662",
   "metadata": {},
   "outputs": [
    {
     "data": {
      "image/png": "[encoded data removed]",
      "text/plain": [
       "<Figure size 640x480 with 1 Axes>"
      ]
     },
     "metadata": {},
     "output_type": "display_data"
    }
   ],
   "source": [
    "nx.draw(G3, with_labels=True)"
   ]
  },
  {
   "cell_type": "markdown",
   "id": "bb0ad61b-3ba8-49bf-af8a-eab4d9d6730a",
   "metadata": {},
   "source": [
    "## The graph is the same, however the labels have shifted by 1 as they begin at zero instead of 1"
   ]
  },
  {
   "cell_type": "markdown",
   "id": "d9325466-fd83-46c7-8904-bc97b61dc251",
   "metadata": {},
   "source": [
    "# Problem 2\n",
    "\n",
    "- In lecture 6 on GNNs we introduced QM9 dataset of various chemical properties of 130,000 molecules. Code presented in the lecture used torch_geometric NNCov layers and predicted the isotropic polarizability of molecules.\n",
    "- Please modify that code so that we could predict the dipole moment of molecules.\n",
    "- Break QM9 into the train, validate and test datasets using 80%, 10% and 10% split.\n",
    "- Use the model as provided in Lecture 6.\n",
    "- Train the model for 5 epochs.\n",
    "- Assess the accuracy of the model by examining its predictions on the test dataset."
   ]
  },
  {
   "cell_type": "code",
   "execution_count": 105,
   "id": "cf8ede65-34d1-49bb-bb96-c55efbc1e963",
   "metadata": {},
   "outputs": [],
   "source": [
    "import torch\n",
    "import torch.nn.functional as F\n",
    "import torch.nn as nn\n",
    "import numpy as np\n",
    "from torch_geometric.datasets import QM9\n",
    "from torch_geometric.loader import DataLoader\n",
    "from torch_geometric.nn import NNConv, global_add_pool, GCNConv"
   ]
  },
  {
   "cell_type": "code",
   "execution_count": 56,
   "id": "3eb82903-90c8-4cde-b757-f155d07c9566",
   "metadata": {},
   "outputs": [
    {
     "name": "stderr",
     "output_type": "stream",
     "text": [
      "Downloading https://data.pyg.org/datasets/qm9_v3.zip\n",
      "Extracting ./raw/qm9_v3.zip\n",
      "Processing...\n",
      "Using a pre-processed version of the dataset. Please install 'rdkit' to alternatively process the raw data.\n",
      "Done!\n"
     ]
    },
    {
     "data": {
      "text/plain": [
       "130831"
      ]
     },
     "execution_count": 56,
     "metadata": {},
     "output_type": "execute_result"
    }
   ],
   "source": [
    "# let's load the QM9 small molecule dataset\n",
    "dset = QM9('.')\n",
    "len(dset)"
   ]
  },
  {
   "cell_type": "code",
   "execution_count": 59,
   "id": "9954d886-9c75-405a-ab25-92a4197994f4",
   "metadata": {},
   "outputs": [
    {
     "data": {
      "text/plain": [
       "Data(x=[4, 11], edge_index=[2, 6], edge_attr=[6, 4], y=[1, 19], pos=[4, 3], idx=[1], name='gdb_2', z=[4])"
      ]
     },
     "execution_count": 59,
     "metadata": {},
     "output_type": "execute_result"
    }
   ],
   "source": [
    "# Here's how torch geometric wraps data\n",
    "data = dset[1]\n",
    "data"
   ]
  },
  {
   "cell_type": "code",
   "execution_count": 60,
   "id": "68f24d03-8b00-4d67-877f-0babade0f5cd",
   "metadata": {},
   "outputs": [
    {
     "data": {
      "text/plain": [
       "tensor([7, 1, 1, 1])"
      ]
     },
     "execution_count": 60,
     "metadata": {},
     "output_type": "execute_result"
    }
   ],
   "source": [
    "# can access attributes directly\n",
    "data.z"
   ]
  },
  {
   "cell_type": "code",
   "execution_count": 53,
   "id": "10b4b7f5-2504-4f6f-b1f7-e0c5338187bd",
   "metadata": {},
   "outputs": [
    {
     "name": "stdout",
     "output_type": "stream",
     "text": [
      "2.1.0.post100\n",
      "MPS available? True\n",
      "GPU Available: False\n",
      "Using device type: mps\n"
     ]
    }
   ],
   "source": [
    "import torch\n",
    "\n",
    "print(torch.__version__)\n",
    "print(\"MPS available?\", torch.backends.mps.is_available())\n",
    "print(\"GPU Available:\", torch.cuda.is_available())\n",
    "\n",
    "if torch.backends.mps.is_available():\n",
    "    device = torch.device(\"mps\")\n",
    "elif torch.cuda.is_available():\n",
    "    device = torch.device(\"cuda:0\")\n",
    "else:\n",
    "    device = \"cpu\"\n",
    "    \n",
    "print(f\"Using device type: {device}\")"
   ]
  },
  {
   "cell_type": "code",
   "execution_count": 63,
   "id": "3bc3d5af-1762-4e1a-8478-76b39eb175f8",
   "metadata": {},
   "outputs": [
    {
     "data": {
      "text/plain": [
       "Data(x=[4, 11], edge_index=[2, 6], edge_attr=[6, 4], y=[1, 19], pos=[4, 3], idx=[1], name='gdb_2', z=[4])"
      ]
     },
     "execution_count": 63,
     "metadata": {},
     "output_type": "execute_result"
    }
   ],
   "source": [
    "data.to(device)"
   ]
  },
  {
   "cell_type": "markdown",
   "id": "6b882379-1900-42eb-bce2-0f64e6b72bc5",
   "metadata": {},
   "source": [
    "documentation from QM9 dataset\n",
    "\n",
    "\n",
    "Target | Property                         | Description                                                                       | Unit                                        |\n",
    "+========+==================================+===================================================================================+=============================================+\n",
    "| 0      | :math:`\\mu`                      | Dipole moment                                                                     | :math:`\\textrm{D}`                          |\n",
    "+--------+----------------------------------+-----------------------------------------------------------------------------------+---------------------------------------------+\n",
    "| 1      | :math:`\\alpha`                   | Isotropic polarizability                                                          | :math:`{a_0}^3`                             |\n",
    "+--------+----------------------------------+-----------------------------------------------------------------------------------+---------------------------------------------+\n",
    "| 2      | :math:`\\epsilon_{\\textrm{HOMO}}` | Highest occupied molecular orbital energy                                         | :math:`\\textrm{eV}`                         |\n",
    "+--------+----------------------------------+-----------------------------------------------------------------------------------+---------------------------------------------+\n",
    "| 3      | :math:`\\epsilon_{\\textrm{LUMO}}` | Lowest unoccupied molecular orbital energy                                        | :math:`\\textrm{eV}`                         |\n",
    "+--------+----------------------------------+-----------------------------------------------------------------------------------+---------------------------------------------+\n",
    "| 4      | :math:`\\Delta \\epsilon`          | Gap between :math:`\\epsilon_{\\textrm{HOMO}}` and :math:`\\epsilon_{\\textrm{LUMO}}` | :math:`\\textrm{eV}`                         |\n",
    "+--------+----------------------------------+-----------------------------------------------------------------------------------+---------------------------------------------+\n",
    "| 5      | :math:`\\langle R^2 \\rangle`      | Electronic spatial extent                                                         | :math:`{a_0}^2`                             |\n",
    "+--------+----------------------------------+-----------------------------------------------------------------------------------+---------------------------------------------+\n",
    "| 6      | :math:`\\textrm{ZPVE}`            | Zero point vibrational energy                                                     | :math:`\\textrm{eV}`                         |\n",
    "+--------+----------------------------------+-----------------------------------------------------------------------------------+---------------------------------------------+\n",
    "| 7      | :math:`U_0`                      | Internal energy at 0K                                                             | :math:`\\textrm{eV}`                         |\n",
    "+--------+----------------------------------+-----------------------------------------------------------------------------------+---------------------------------------------+\n",
    "| 8      | :math:`U`                        | Internal energy at 298.15K                                                        | :math:`\\textrm{eV}`                         |\n",
    "+--------+----------------------------------+-----------------------------------------------------------------------------------+---------------------------------------------+\n",
    "| 9      | :math:`H`                        | Enthalpy at 298.15K                                                               | :math:`\\textrm{eV}`                         |\n",
    "+--------+----------------------------------+-----------------------------------------------------------------------------------+---------------------------------------------+\n",
    "| 10     | :math:`G`                        | Free energy at 298.15K                                                            | :math:`\\textrm{eV}`                         |\n",
    "+--------+----------------------------------+-----------------------------------------------------------------------------------+---------------------------------------------+\n",
    "| 11     | :math:`c_{\\textrm{v}}`           | Heat capavity at 298.15K                                                          | :math:`\\frac{\\textrm{cal}}{\\textrm{mol K}}` |\n",
    "+--------+----------------------------------+-----------------------------------------------------------------------------------+---------------------------------------------+\n",
    "| 12     | :math:`U_0^{\\textrm{ATOM}}`      | Atomization energy at 0K                                                          | :math:`\\textrm{eV}`                         |\n",
    "+--------+----------------------------------+-----------------------------------------------------------------------------------+---------------------------------------------+\n",
    "| 13     | :math:`U^{\\textrm{ATOM}}`        | Atomization energy at 298.15K                                                     | :math:`\\textrm{eV}`                         |\n",
    "+--------+----------------------------------+-----------------------------------------------------------------------------------+---------------------------------------------+\n",
    "| 14     | :math:`H^{\\textrm{ATOM}}`        | Atomization enthalpy at 298.15K                                                   | :math:`\\textrm{eV}`                         |\n",
    "+--------+----------------------------------+-----------------------------------------------------------------------------------+---------------------------------------------+\n",
    "| 15     | :math:`G^{\\textrm{ATOM}}`        | Atomization free energy at 298.15K                                                | :math:`\\textrm{eV}`                         |\n",
    "+--------+----------------------------------+-----------------------------------------------------------------------------------+---------------------------------------------+\n",
    "| 16     | :math:`A`                        | Rotational constant                                                               | :math:`\\textrm{GHz}`                        |\n",
    "+--------+----------------------------------+-----------------------------------------------------------------------------------+---------------------------------------------+\n",
    "| 17     | :math:`B`                        | Rotational constant                                                               | :math:`\\textrm{GHz}`                        |\n",
    "+--------+----------------------------------+-----------------------------------------------------------------------------------+---------------------------------------------+\n",
    "| 18     | :math:`C`                        | Rotational constant                                                               | :math:`\\textrm{GHz}`                        |\n",
    "+--------+----------------------------------+-----------------------------------------------------------------------------------+---------------------------------------------+\n",
    "\n"
   ]
  },
  {
   "cell_type": "code",
   "execution_count": 73,
   "id": "64082490-30a0-4a25-b8c6-85cf018ae505",
   "metadata": {},
   "outputs": [
    {
     "data": {
      "text/plain": [
       "tensor(1.6256, device='mps:0')"
      ]
     },
     "execution_count": 73,
     "metadata": {},
     "output_type": "execute_result"
    }
   ],
   "source": [
    "#check access the dipole moment label\n",
    "target_idx = 0\n",
    "\n",
    "data.y[0][target_idx]"
   ]
  },
  {
   "cell_type": "code",
   "execution_count": 74,
   "id": "9e2daffa-295a-4b1b-993f-1d080083f811",
   "metadata": {},
   "outputs": [],
   "source": [
    "class ExampleNet(torch.nn.Module):\n",
    "    def __init__(self, num_node_features, num_edge_features):\n",
    "        super().__init__()\n",
    "        \n",
    "        conv1_net = nn.Sequential(nn.Linear(\n",
    "            num_edge_features, 32),\n",
    "            nn.ReLU(),\n",
    "            nn.Linear(32, num_node_features*32))\n",
    "        \n",
    "        conv2_net = nn.Sequential(\n",
    "            nn.Linear(num_edge_features, 32),\n",
    "            nn.ReLU(),\n",
    "            nn.Linear(32, 32*16))\n",
    "\n",
    "        self.conv1 = NNConv(num_node_features, 32, conv1_net)\n",
    "        self.conv2 = NNConv(32,16, conv2_net)\n",
    "        self.fc_1 = nn.Linear(16, 32)\n",
    "        self.out = nn.Linear(32, 1)\n",
    "\n",
    "\n",
    "    def forward(self, data):\n",
    "        batch, x, edge_index, edge_attr = (\n",
    "            data.batch, data.x, data.edge_index, data.edge_attr)\n",
    "        # First graph conv layer\n",
    "        x = F.relu(self.conv1(x, edge_index, edge_attr))\n",
    "        # Second graph conv layer\n",
    "        x = F.relu(self.conv2(x, edge_index, edge_attr))\n",
    "        x = global_add_pool(x,batch)\n",
    "        x = F.relu(self.fc_1(x))\n",
    "        output = self.out(x)\n",
    "        return output"
   ]
  },
  {
   "cell_type": "code",
   "execution_count": 81,
   "id": "1ef9881d-1704-4589-ae2f-2b9c2f0a2128",
   "metadata": {},
   "outputs": [
    {
     "name": "stdout",
     "output_type": "stream",
     "text": [
      "104664.8 13083.1 13083.1\n",
      "130831.00000000001\n"
     ]
    }
   ],
   "source": [
    "from torch.utils.data import random_split\n",
    "n = len(dset)\n",
    "n_train = 0.8*n\n",
    "n_val = 0.1*n\n",
    "n_test = 0.1*n\n",
    "\n",
    "print(n_train, n_test, n_val)\n",
    "print(n_train + n_test +n_val) "
   ]
  },
  {
   "cell_type": "code",
   "execution_count": 83,
   "id": "c84776f3-fb34-41ed-a05c-5dc7c96c48d2",
   "metadata": {},
   "outputs": [],
   "source": [
    "train_set, valid_set, test_set = random_split(dset,[104665, 13083,\n",
    "13083])\n",
    "\n",
    "trainloader = DataLoader(train_set, batch_size=32, shuffle=True)\n",
    "validloader = DataLoader(valid_set, batch_size=32, shuffle=True)\n",
    "testloader = DataLoader(test_set, batch_size=32, shuffle=True)"
   ]
  },
  {
   "cell_type": "code",
   "execution_count": 86,
   "id": "b5bda8c0-5d8d-4108-b497-fb0f2cb31f07",
   "metadata": {},
   "outputs": [
    {
     "data": {
      "text/plain": [
       "ExampleNet(\n",
       "  (conv1): NNConv(11, 32, aggr=add, nn=Sequential(\n",
       "    (0): Linear(in_features=4, out_features=32, bias=True)\n",
       "    (1): ReLU()\n",
       "    (2): Linear(in_features=32, out_features=352, bias=True)\n",
       "  ))\n",
       "  (conv2): NNConv(32, 16, aggr=add, nn=Sequential(\n",
       "    (0): Linear(in_features=4, out_features=32, bias=True)\n",
       "    (1): ReLU()\n",
       "    (2): Linear(in_features=32, out_features=512, bias=True)\n",
       "  ))\n",
       "  (fc_1): Linear(in_features=16, out_features=32, bias=True)\n",
       "  (out): Linear(in_features=32, out_features=1, bias=True)\n",
       ")"
      ]
     },
     "execution_count": 86,
     "metadata": {},
     "output_type": "execute_result"
    }
   ],
   "source": [
    "qm9_node_feats, qm9_edge_feats = 11, 4\n",
    "epochs = 5\n",
    "\n",
    "net = ExampleNet(qm9_node_feats, qm9_edge_feats)\n",
    "\n",
    "optimizer = torch.optim.Adam(net.parameters(), lr=0.01)\n",
    "\n",
    "target_idx = 0 # index position of the dipole moment label\n",
    "\n",
    "net.to(device)"
   ]
  },
  {
   "cell_type": "code",
   "execution_count": 87,
   "id": "cc61412d-e4a6-478d-b474-ea49fbc15d8f",
   "metadata": {},
   "outputs": [
    {
     "name": "stdout",
     "output_type": "stream",
     "text": [
      "Epochs: 0 | epoch avg. loss: 0.05 | validation avg. loss: 0.04\n",
      "Epochs: 1 | epoch avg. loss: 0.04 | validation avg. loss: 0.03\n",
      "Epochs: 2 | epoch avg. loss: 0.03 | validation avg. loss: 0.03\n",
      "Epochs: 3 | epoch avg. loss: 0.03 | validation avg. loss: 0.03\n",
      "Epochs: 4 | epoch avg. loss: 0.03 | validation avg. loss: 0.03\n"
     ]
    }
   ],
   "source": [
    "#train the model\n",
    "\n",
    "for total_epochs in range(epochs):\n",
    "    epoch_loss = 0\n",
    "    total_graphs = 0\n",
    "    net.train()\n",
    "    for batch in trainloader:\n",
    "        batch.to(device)\n",
    "        optimizer.zero_grad()\n",
    "        output = net(batch)\n",
    "        loss = F.mse_loss(output, batch.y[:, target_idx].unsqueeze(1))\n",
    "        loss.backward()\n",
    "        epoch_loss += loss.item()\n",
    "        total_graphs += batch.num_graphs\n",
    "        optimizer.step()\n",
    "\n",
    "    train_avg_loss = epoch_loss / total_graphs\n",
    "    \n",
    "    val_loss = 0\n",
    "    total_graphs = 0\n",
    "    net.eval()\n",
    "    \n",
    "    for batch in validloader:\n",
    "        batch.to(device)\n",
    "        output = net(batch)\n",
    "        loss = F.mse_loss(output,batch.y[:, target_idx].unsqueeze(1))\n",
    "        val_loss += loss.item()\n",
    "        total_graphs += batch.num_graphs\n",
    "    val_avg_loss = val_loss / total_graphs\n",
    "\n",
    "    print(f\"Epochs: {total_epochs} | epoch avg. loss: {train_avg_loss:.2f} | validation avg. loss: {val_avg_loss:.2f}\")"
   ]
  },
  {
   "cell_type": "code",
   "execution_count": 100,
   "id": "ad5e4a87-8d25-4e67-b9c3-4eee43e9f964",
   "metadata": {},
   "outputs": [],
   "source": [
    "net.eval()\n",
    "predictions = []\n",
    "real = []\n",
    "num_graphs_test = 0\n",
    "\n",
    "for batch in testloader:\n",
    "    output = net(batch.to(device))\n",
    "    predictions.append(output.detach().cpu().numpy())\n",
    "    real.append(batch.y[:, target_idx].detach().cpu().numpy())\n",
    "    num_graphs_test += batch.num_graphs\n",
    "\n",
    "predictions = np.concatenate(predictions)\n",
    "real = np.concatenate(real)"
   ]
  },
  {
   "cell_type": "code",
   "execution_count": 101,
   "id": "15a17f43-b34a-4271-9356-a55552a373a5",
   "metadata": {},
   "outputs": [
    {
     "data": {
      "text/plain": [
       "13083"
      ]
     },
     "execution_count": 101,
     "metadata": {},
     "output_type": "execute_result"
    }
   ],
   "source": [
    "num_graphs_test"
   ]
  },
  {
   "cell_type": "code",
   "execution_count": 102,
   "id": "2061c4fc-0695-4c36-973c-734933cc13a3",
   "metadata": {},
   "outputs": [
    {
     "name": "stdout",
     "output_type": "stream",
     "text": [
      "tensor(7.1761e-05)\n"
     ]
    }
   ],
   "source": [
    "#examine the MSE loss on the training dataset\n",
    "loss_test = F.mse_loss(torch.Tensor(predictions)[:,0], torch.Tensor(real))\n",
    "print(loss_test/num_graphs_test)"
   ]
  },
  {
   "cell_type": "code",
   "execution_count": 91,
   "id": "eb12c2ba-5983-44f3-99f0-214cef1eb2de",
   "metadata": {},
   "outputs": [
    {
     "data": {
      "image/png": "[encoded data removed]",
      "text/plain": [
       "<Figure size 640x480 with 1 Axes>"
      ]
     },
     "metadata": {},
     "output_type": "display_data"
    }
   ],
   "source": [
    "import matplotlib.pyplot as plt\n",
    "plt.scatter(real[:500],predictions[:500])\n",
    "plt.ylabel('Predicted isotropic polarizability')\n",
    "plt.xlabel('Isotropic polarizability')\n",
    "plt.axline((0,0),(16,16))\n",
    "plt.savefig('hw07p2.png', dpi=300)"
   ]
  },
  {
   "cell_type": "markdown",
   "id": "671989d5-5a4f-48db-a4c0-55d75a3518df",
   "metadata": {},
   "source": [
    "# Problem 3\n",
    "\n",
    "- Modify the code used in Problem 2 and instead of NNConv layers use GCNConv layers.\n",
    "- Train the model and assess its accuracy on the test dataset.\n",
    "- Compare with the results obtained in Problem 2.\n",
    "- You might want to test yet another convolutional layer type.\n",
    "- Just report your results whether you observe improvements or not. We are not asking for an exhaustive study!"
   ]
  },
  {
   "cell_type": "code",
   "execution_count": 110,
   "id": "94f11d81-8559-40b4-b39b-b05ded4c004a",
   "metadata": {},
   "outputs": [],
   "source": [
    "class ExampleNet(torch.nn.Module):\n",
    "    def __init__(self, num_node_features, num_edge_features):\n",
    "        super().__init__()\n",
    "        \n",
    "        # conv1_net = nn.Sequential(nn.Linear(\n",
    "        #     num_edge_features, 32),\n",
    "        #     nn.ReLU(),\n",
    "        #     nn.Linear(32, num_node_features*32))\n",
    "        \n",
    "        # conv2_net = nn.Sequential(\n",
    "        #     nn.Linear(num_edge_features, 32),\n",
    "        #     nn.ReLU(),\n",
    "        #     nn.Linear(32, 32*16))\n",
    "\n",
    "        self.conv1 = GCNConv(num_node_features, 32)\n",
    "        self.conv2 = GCNConv(32,16)\n",
    "        self.fc_1 = nn.Linear(16, 32)\n",
    "        self.out = nn.Linear(32, 1)\n",
    "\n",
    "\n",
    "    def forward(self, data):\n",
    "        batch, x, edge_index, edge_attr = (\n",
    "            data.batch, data.x, data.edge_index, data.edge_attr)\n",
    "        # First graph conv layer\n",
    "        x = F.relu(self.conv1(x, edge_index))\n",
    "        # Second graph conv layer\n",
    "        x = F.relu(self.conv2(x, edge_index))\n",
    "        x = global_add_pool(x,batch)\n",
    "        x = F.relu(self.fc_1(x))\n",
    "        output = self.out(x)\n",
    "        return output"
   ]
  },
  {
   "cell_type": "code",
   "execution_count": 111,
   "id": "148b1cae-3c93-4678-b65b-5622c39c2299",
   "metadata": {},
   "outputs": [
    {
     "data": {
      "text/plain": [
       "ExampleNet(\n",
       "  (conv1): GCNConv(11, 32)\n",
       "  (conv2): GCNConv(32, 16)\n",
       "  (fc_1): Linear(in_features=16, out_features=32, bias=True)\n",
       "  (out): Linear(in_features=32, out_features=1, bias=True)\n",
       ")"
      ]
     },
     "execution_count": 111,
     "metadata": {},
     "output_type": "execute_result"
    }
   ],
   "source": [
    "qm9_node_feats, qm9_edge_feats = 11, 4\n",
    "epochs = 5\n",
    "\n",
    "net = ExampleNet(qm9_node_feats, qm9_edge_feats)\n",
    "\n",
    "optimizer = torch.optim.Adam(net.parameters(), lr=0.01)\n",
    "\n",
    "target_idx = 0 # index position of the dipole moment label\n",
    "\n",
    "net.to(device)"
   ]
  },
  {
   "cell_type": "code",
   "execution_count": 112,
   "id": "9ebd89c1-0848-441e-be9d-2c860ab3f5e6",
   "metadata": {},
   "outputs": [
    {
     "name": "stdout",
     "output_type": "stream",
     "text": [
      "Epochs: 0 | epoch avg. loss: 0.05 | validation avg. loss: 0.05\n",
      "Epochs: 1 | epoch avg. loss: 0.04 | validation avg. loss: 0.04\n",
      "Epochs: 2 | epoch avg. loss: 0.04 | validation avg. loss: 0.04\n",
      "Epochs: 3 | epoch avg. loss: 0.04 | validation avg. loss: 0.04\n",
      "Epochs: 4 | epoch avg. loss: 0.04 | validation avg. loss: 0.04\n"
     ]
    }
   ],
   "source": [
    "#train the model\n",
    "\n",
    "for total_epochs in range(epochs):\n",
    "    epoch_loss = 0\n",
    "    total_graphs = 0\n",
    "    net.train()\n",
    "    for batch in trainloader:\n",
    "        batch.to(device)\n",
    "        optimizer.zero_grad()\n",
    "        output = net(batch)\n",
    "        loss = F.mse_loss(output, batch.y[:, target_idx].unsqueeze(1))\n",
    "        loss.backward()\n",
    "        epoch_loss += loss.item()\n",
    "        total_graphs += batch.num_graphs\n",
    "        optimizer.step()\n",
    "\n",
    "    train_avg_loss = epoch_loss / total_graphs\n",
    "    \n",
    "    val_loss = 0\n",
    "    total_graphs = 0\n",
    "    net.eval()\n",
    "    \n",
    "    for batch in validloader:\n",
    "        batch.to(device)\n",
    "        output = net(batch)\n",
    "        loss = F.mse_loss(output,batch.y[:, target_idx].unsqueeze(1))\n",
    "        val_loss += loss.item()\n",
    "        total_graphs += batch.num_graphs\n",
    "    val_avg_loss = val_loss / total_graphs\n",
    "\n",
    "    print(f\"Epochs: {total_epochs} | epoch avg. loss: {train_avg_loss:.2f} | validation avg. loss: {val_avg_loss:.2f}\")"
   ]
  },
  {
   "cell_type": "code",
   "execution_count": 113,
   "id": "2ad13974-502a-45ba-be00-8d9af4113c46",
   "metadata": {},
   "outputs": [],
   "source": [
    "net.eval()\n",
    "predictions = []\n",
    "real = []\n",
    "num_graphs_test = 0\n",
    "\n",
    "for batch in testloader:\n",
    "    output = net(batch.to(device))\n",
    "    predictions.append(output.detach().cpu().numpy())\n",
    "    real.append(batch.y[:, target_idx].detach().cpu().numpy())\n",
    "    num_graphs_test += batch.num_graphs\n",
    "\n",
    "predictions = np.concatenate(predictions)\n",
    "real = np.concatenate(real)"
   ]
  },
  {
   "cell_type": "code",
   "execution_count": 114,
   "id": "1dc9e457-aa3c-400f-bb2b-dcd00e24c7a3",
   "metadata": {},
   "outputs": [
    {
     "name": "stdout",
     "output_type": "stream",
     "text": [
      "tensor(8.3632e-05)\n"
     ]
    }
   ],
   "source": [
    "#examine the MSE loss on the training dataset\n",
    "loss_test = F.mse_loss(torch.Tensor(predictions)[:,0], torch.Tensor(real))\n",
    "print(loss_test/num_graphs_test)"
   ]
  },
  {
   "cell_type": "code",
   "execution_count": 115,
   "id": "0a7bdcf8-4cc2-48e7-9dd7-2faa31cb3e78",
   "metadata": {},
   "outputs": [
    {
     "data": {
      "image/png": "[encoded data removed]",
      "text/plain": [
       "<Figure size 640x480 with 1 Axes>"
      ]
     },
     "metadata": {},
     "output_type": "display_data"
    }
   ],
   "source": [
    "import matplotlib.pyplot as plt\n",
    "plt.scatter(real[:500],predictions[:500])\n",
    "plt.ylabel('Predicted isotropic polarizability')\n",
    "plt.xlabel('Isotropic polarizability')\n",
    "plt.axline((0,0),(16,16))\n",
    "plt.savefig('hw07p3.png', dpi=300)"
   ]
  },
  {
   "cell_type": "markdown",
   "id": "539f988d-29bc-45a3-9324-c977364fc808",
   "metadata": {},
   "source": [
    "## As we observe above, the performance of the network using GCNConv layers is very similar to that of the network using NNConv layers, with the validation loss and training loss on the NNConv network being slightly better than the GCNConv.  "
   ]
  },
  {
   "cell_type": "markdown",
   "id": "0968fddd-7436-491a-bfc4-802c4a0b0a7f",
   "metadata": {},
   "source": [
    "# Problem 4. \n",
    "\n",
    "- Using the steps presented in online tutorial “Loading Graphs from CSV” (https://pytorch-geometric.readthedocs.io/en/latest/notes/load_csv.html) load the MovieLens dataset.\n",
    "- Train the model to predict genres of movies.\n",
    "- Since genres of each movie could be one or several, we have an issue. How do you compare predicted and true genres of a movie and when do you say that the prediction is truthful?\n",
    "- Do a few experiments.\n",
    "- In the simplest case, accept as truthful match if at least one of genres matches.\n",
    "- Try a more elaborate comparison as well. Again, declare victory early.\n",
    "- Once your training is finished, assess the accuracy using the test set.\n",
    "- Add two new movies to your graph manually. Find movies with well-defined genres but do not include those genres in your data. Add a few reviews for each movie by several of existing people.\n",
    "- Ask you network to predict genres of new movies. Report result. "
   ]
  },
  {
   "cell_type": "code",
   "execution_count": 1,
   "id": "1ebabb53-98e0-461f-aa03-5f668799d093",
   "metadata": {},
   "outputs": [],
   "source": [
    "#see separate notebook for problem 4"
   ]
  }
 ],
 "metadata": {
  "kernelspec": {
   "display_name": "Python 3 (ipykernel)",
   "language": "python",
   "name": "python3"
  },
  "language_info": {
   "codemirror_mode": {
    "name": "ipython",
    "version": 3
   },
   "file_extension": ".py",
   "mimetype": "text/x-python",
   "name": "python",
   "nbconvert_exporter": "python",
   "pygments_lexer": "ipython3",
   "version": "3.10.13"
  }
 },
 "nbformat": 4,
 "nbformat_minor": 5
}
