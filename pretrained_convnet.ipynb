{
 "cells": [
  {
   "cell_type": "code",
   "execution_count": 2,
   "metadata": {
    "colab": {
     "base_uri": "https://localhost:8080/",
     "height": 36
    },
    "id": "6PRPkw3fByn5",
    "outputId": "c5e9689f-f8dc-4722-ea25-795f192a0237"
   },
   "outputs": [
    {
     "data": {
      "application/vnd.google.colaboratory.intrinsic+json": {
       "type": "string"
      },
      "text/plain": [
       "'2.13.1'"
      ]
     },
     "execution_count": 2,
     "metadata": {},
     "output_type": "execute_result"
    }
   ],
   "source": [
    "import keras\n",
    "keras.__version__"
   ]
  },
  {
   "cell_type": "code",
   "execution_count": 1,
   "metadata": {
    "colab": {
     "base_uri": "https://localhost:8080/"
    },
    "id": "74VmSIfPCk2x",
    "outputId": "ab206c7d-91c0-4656-acd6-5c4265019a8e"
   },
   "outputs": [
    {
     "name": "stdout",
     "output_type": "stream",
     "text": [
      "Mounted at /content/drive\n"
     ]
    }
   ],
   "source": [
    "from google.colab import drive\n",
    "drive.mount('/content/drive')"
   ]
  },
  {
   "cell_type": "markdown",
   "metadata": {
    "id": "2nCNIP1AByn8"
   },
   "source": [
    "# Problem 4. \n",
    "\n",
    "applied Transfer Learning or Feature Extraction technique by collecting the output of the convolutional base and then training simple Dense classifier. A reasonable question is whether we could add a convolutional layer at the bottom of the dense classifier and whether that would improve the accuracy of the model. Please keep the original code and original results unmodified (cells 6 and 7) for comparison with your new results.  Add new cells to the notebook with a trainable layer which besides the dense top has at least one convolutional layer. New convolutional layer is added before the Flatten layer. You are asked to increase the number of convolutional layers. Please add proper padding to that new convolutional layer to avoid shrinking its output. Report on the number of trainable parameters in your model. "
   ]
  },
  {
   "cell_type": "markdown",
   "metadata": {
    "id": "ckf2YxTxByoK"
   },
   "source": [
    "## Feature extraction\n",
    "\n",
    "Feature extraction consists of using the representations learned by a previous network to extract interesting features from new samples.\n",
    "These features are then run through a new classifier, which is trained from scratch.\n",
    "\n",
    "As we saw previously, convnets used for image classification comprise two parts: they start with a series of pooling and convolution\n",
    "layers, and they end with a densely-connected classifier. The first part is called the \"convolutional base\" of the model. In the case of\n",
    "convnets, \"feature extraction\" will simply consist of taking the convolutional base of a previously-trained network, running the new data\n",
    "through it, and training a new classifier on top of the output.\n",
    "\n",
    "![swapping FC classifiers](https://s3.amazonaws.com/book.keras.io/img/ch5/swapping_fc_classifier.png)\n",
    "\n",
    "Why only reuse the convolutional base? Could we reuse the densely-connected classifier as well? In general, it should be avoided. The\n",
    "reason is simply that the representations learned by the convolutional base are likely to be more generic and therefore more reusable: the\n",
    "feature maps of a convnet are presence maps of generic concepts over a picture, which is likely to be useful regardless of the computer\n",
    "vision problem at hand. On the other end, the representations learned by the classifier will necessarily be very specific to the set of\n",
    "classes that the model was trained on -- they will only contain information about the presence probability of this or that class in the\n",
    "entire picture. Additionally, representations found in densely-connected layers no longer contain any information about _where_ objects are\n",
    "located in the input image: these layers get rid of the notion of space, whereas the object location is still described by convolutional\n",
    "feature maps. For problems where object location matters, densely-connected features would be largely useless.\n",
    "\n",
    "Note that the level of generality (and therefore reusability) of the representations extracted by specific convolution layers depends on\n",
    "the depth of the layer in the model. Layers that come earlier in the model extract local, highly generic feature maps (such as visual\n",
    "edges, colors, and textures), while layers higher-up extract more abstract concepts (such as \"cat ear\" or \"dog eye\"). So if your new\n",
    "dataset differs a lot from the dataset that the original model was trained on, you may be better off using only the first few layers of the\n",
    "model to do feature extraction, rather than using the entire convolutional base.\n",
    "\n",
    "In our case, since the ImageNet class set did contain multiple dog and cat classes, it is likely that it would be beneficial to reuse the\n",
    "information contained in the densely-connected layers of the original model. However, we will chose not to, in order to cover the more\n",
    "general case where the class set of the new problem does not overlap with the class set of the original model."
   ]
  },
  {
   "cell_type": "markdown",
   "metadata": {
    "id": "p-UCVzLNByoM"
   },
   "source": [
    "Let's put this in practice by using the convolutional base of the VGG16 network, trained on ImageNet, to extract interesting features from\n",
    "our cat and dog images, and then training a cat vs. dog classifier on top of these features.\n",
    "\n",
    "The VGG16 model, among others, comes pre-packaged with Keras. You can import it from the `keras.applications` module. Here's the list of\n",
    "image classification models (all pre-trained on the ImageNet dataset) that are available as part of `keras.applications`:\n",
    "\n",
    "* Xception\n",
    "* InceptionV3\n",
    "* ResNet50\n",
    "* VGG16\n",
    "* VGG19\n",
    "* MobileNet\n",
    "\n",
    "Let's instantiate the VGG16 model:"
   ]
  },
  {
   "cell_type": "code",
   "execution_count": null,
   "metadata": {
    "collapsed": true,
    "id": "6HsZIyUlByoM"
   },
   "outputs": [],
   "source": [
    "from keras.applications import VGG16\n",
    "\n",
    "conv_base = VGG16(weights='imagenet',\n",
    "                  include_top=False,\n",
    "                  input_shape=(150, 150, 3))"
   ]
  },
  {
   "cell_type": "markdown",
   "metadata": {
    "id": "fRTlZ81gByoN"
   },
   "source": [
    "We passed three arguments to the constructor:\n",
    "\n",
    "* `weights`, to specify which weight checkpoint to initialize the model from\n",
    "* `include_top`, which refers to including or not the densely-connected classifier on top of the network. By default, this\n",
    "densely-connected classifier would correspond to the 1000 classes from ImageNet. Since we intend to use our own densely-connected\n",
    "classifier (with only two classes, cat and dog), we don't need to include it.\n",
    "* `input_shape`, the shape of the image tensors that we will feed to the network. This argument is purely optional: if we don't pass it,\n",
    "then the network will be able to process inputs of any size.\n",
    "\n",
    "Here's the detail of the architecture of the VGG16 convolutional base: it's very similar to the simple convnets that you are already\n",
    "familiar with."
   ]
  },
  {
   "cell_type": "code",
   "execution_count": null,
   "metadata": {
    "id": "bL8t3n01ByoO",
    "outputId": "4a085ff7-c621-4e58-b4fc-1a857499c6c3"
   },
   "outputs": [
    {
     "name": "stdout",
     "output_type": "stream",
     "text": [
      "_________________________________________________________________\n",
      "Layer (type)                 Output Shape              Param #   \n",
      "=================================================================\n",
      "input_1 (InputLayer)         (None, 150, 150, 3)       0         \n",
      "_________________________________________________________________\n",
      "block1_conv1 (Conv2D)        (None, 150, 150, 64)      1792      \n",
      "_________________________________________________________________\n",
      "block1_conv2 (Conv2D)        (None, 150, 150, 64)      36928     \n",
      "_________________________________________________________________\n",
      "block1_pool (MaxPooling2D)   (None, 75, 75, 64)        0         \n",
      "_________________________________________________________________\n",
      "block2_conv1 (Conv2D)        (None, 75, 75, 128)       73856     \n",
      "_________________________________________________________________\n",
      "block2_conv2 (Conv2D)        (None, 75, 75, 128)       147584    \n",
      "_________________________________________________________________\n",
      "block2_pool (MaxPooling2D)   (None, 37, 37, 128)       0         \n",
      "_________________________________________________________________\n",
      "block3_conv1 (Conv2D)        (None, 37, 37, 256)       295168    \n",
      "_________________________________________________________________\n",
      "block3_conv2 (Conv2D)        (None, 37, 37, 256)       590080    \n",
      "_________________________________________________________________\n",
      "block3_conv3 (Conv2D)        (None, 37, 37, 256)       590080    \n",
      "_________________________________________________________________\n",
      "block3_pool (MaxPooling2D)   (None, 18, 18, 256)       0         \n",
      "_________________________________________________________________\n",
      "block4_conv1 (Conv2D)        (None, 18, 18, 512)       1180160   \n",
      "_________________________________________________________________\n",
      "block4_conv2 (Conv2D)        (None, 18, 18, 512)       2359808   \n",
      "_________________________________________________________________\n",
      "block4_conv3 (Conv2D)        (None, 18, 18, 512)       2359808   \n",
      "_________________________________________________________________\n",
      "block4_pool (MaxPooling2D)   (None, 9, 9, 512)         0         \n",
      "_________________________________________________________________\n",
      "block5_conv1 (Conv2D)        (None, 9, 9, 512)         2359808   \n",
      "_________________________________________________________________\n",
      "block5_conv2 (Conv2D)        (None, 9, 9, 512)         2359808   \n",
      "_________________________________________________________________\n",
      "block5_conv3 (Conv2D)        (None, 9, 9, 512)         2359808   \n",
      "_________________________________________________________________\n",
      "block5_pool (MaxPooling2D)   (None, 4, 4, 512)         0         \n",
      "=================================================================\n",
      "Total params: 14,714,688\n",
      "Trainable params: 14,714,688\n",
      "Non-trainable params: 0\n",
      "_________________________________________________________________\n"
     ]
    }
   ],
   "source": [
    "conv_base.summary()"
   ]
  },
  {
   "cell_type": "markdown",
   "metadata": {
    "id": "eMuVityUByoO"
   },
   "source": [
    "The final feature map has shape `(4, 4, 512)`. That's the feature on top of which we will stick a densely-connected classifier.\n",
    "\n",
    "At this point, there are two ways we could proceed:\n",
    "\n",
    "* Running the convolutional base over our dataset, recording its output to a Numpy array on disk, then using this data as input to a\n",
    "standalone densely-connected classifier similar to those you have seen in the first chapters of this book. This solution is very fast and\n",
    "cheap to run, because it only requires running the convolutional base once for every input image, and the convolutional base is by far the\n",
    "most expensive part of the pipeline. However, for the exact same reason, this technique would not allow us to leverage data augmentation at\n",
    "all.\n",
    "* Extending the model we have (`conv_base`) by adding `Dense` layers on top, and running the whole thing end-to-end on the input data. This\n",
    "allows us to use data augmentation, because every input image is going through the convolutional base every time it is seen by the model.\n",
    "However, for this same reason, this technique is far more expensive than the first one.\n",
    "\n",
    "We will cover both techniques. Let's walk through the code required to set-up the first one: recording the output of `conv_base` on our\n",
    "data and using these outputs as inputs to a new model.\n",
    "\n",
    "We will start by simply running instances of the previously-introduced `ImageDataGenerator` to extract images as Numpy arrays as well as\n",
    "their labels. We will extract features from these images simply by calling the `predict` method of the `conv_base` model."
   ]
  },
  {
   "cell_type": "code",
   "execution_count": null,
   "metadata": {
    "id": "BkdNdYGjByoP",
    "outputId": "641787f8-ce50-48c0-8c8c-646d310eaba5"
   },
   "outputs": [
    {
     "name": "stdout",
     "output_type": "stream",
     "text": [
      "Found 2000 images belonging to 2 classes.\n",
      "Found 1000 images belonging to 2 classes.\n",
      "Found 1000 images belonging to 2 classes.\n"
     ]
    }
   ],
   "source": [
    "import os\n",
    "import numpy as np\n",
    "from keras.preprocessing.image import ImageDataGenerator\n",
    "\n",
    "base_dir = '/Users/fchollet/Downloads/cats_and_dogs_small'\n",
    "\n",
    "train_dir = os.path.join(base_dir, 'train')\n",
    "validation_dir = os.path.join(base_dir, 'validation')\n",
    "test_dir = os.path.join(base_dir, 'test')\n",
    "\n",
    "datagen = ImageDataGenerator(rescale=1./255)\n",
    "batch_size = 20\n",
    "\n",
    "def extract_features(directory, sample_count):\n",
    "    features = np.zeros(shape=(sample_count, 4, 4, 512))\n",
    "    labels = np.zeros(shape=(sample_count))\n",
    "    generator = datagen.flow_from_directory(\n",
    "        directory,\n",
    "        target_size=(150, 150),\n",
    "        batch_size=batch_size,\n",
    "        class_mode='binary')\n",
    "    i = 0\n",
    "    for inputs_batch, labels_batch in generator:\n",
    "        features_batch = conv_base.predict(inputs_batch)\n",
    "        features[i * batch_size : (i + 1) * batch_size] = features_batch\n",
    "        labels[i * batch_size : (i + 1) * batch_size] = labels_batch\n",
    "        i += 1\n",
    "        if i * batch_size >= sample_count:\n",
    "            # Note that since generators yield data indefinitely in a loop,\n",
    "            # we must `break` after every image has been seen once.\n",
    "            break\n",
    "    return features, labels\n",
    "\n",
    "train_features, train_labels = extract_features(train_dir, 2000)\n",
    "validation_features, validation_labels = extract_features(validation_dir, 1000)\n",
    "test_features, test_labels = extract_features(test_dir, 1000)"
   ]
  },
  {
   "cell_type": "markdown",
   "metadata": {
    "id": "9df98VWqByoP"
   },
   "source": [
    "The extracted features are currently of shape `(samples, 4, 4, 512)`. We will feed them to a densely-connected classifier, so first we must\n",
    "flatten them to `(samples, 8192)`:"
   ]
  },
  {
   "cell_type": "code",
   "execution_count": null,
   "metadata": {
    "collapsed": true,
    "id": "kZx5t6XrByoP"
   },
   "outputs": [],
   "source": [
    "train_features = np.reshape(train_features, (2000, 4 * 4 * 512))\n",
    "validation_features = np.reshape(validation_features, (1000, 4 * 4 * 512))\n",
    "test_features = np.reshape(test_features, (1000, 4 * 4 * 512))"
   ]
  },
  {
   "cell_type": "markdown",
   "metadata": {
    "id": "g7mXHiCIByoQ"
   },
   "source": [
    "At this point, we can define our densely-connected classifier (note the use of dropout for regularization), and train it on the data and\n",
    "labels that we just recorded:"
   ]
  },
  {
   "cell_type": "code",
   "execution_count": null,
   "metadata": {
    "id": "NMo1qyf2ByoQ",
    "outputId": "0dfa97b1-c453-4f7e-834f-86c9d85d3a22"
   },
   "outputs": [
    {
     "name": "stdout",
     "output_type": "stream",
     "text": [
      "Train on 2000 samples, validate on 1000 samples\n",
      "Epoch 1/30\n",
      "2000/2000 [==============================] - 1s - loss: 0.6253 - acc: 0.6455 - val_loss: 0.4526 - val_acc: 0.8300\n",
      "Epoch 2/30\n",
      "2000/2000 [==============================] - 0s - loss: 0.4490 - acc: 0.7965 - val_loss: 0.3784 - val_acc: 0.8450\n",
      "Epoch 3/30\n",
      "2000/2000 [==============================] - 0s - loss: 0.3670 - acc: 0.8490 - val_loss: 0.3327 - val_acc: 0.8660\n",
      "Epoch 4/30\n",
      "2000/2000 [==============================] - 0s - loss: 0.3176 - acc: 0.8705 - val_loss: 0.3115 - val_acc: 0.8820\n",
      "Epoch 5/30\n",
      "2000/2000 [==============================] - 0s - loss: 0.3017 - acc: 0.8800 - val_loss: 0.2926 - val_acc: 0.8820\n",
      "Epoch 6/30\n",
      "2000/2000 [==============================] - 0s - loss: 0.2674 - acc: 0.8960 - val_loss: 0.2799 - val_acc: 0.8880\n",
      "Epoch 7/30\n",
      "2000/2000 [==============================] - 0s - loss: 0.2510 - acc: 0.9040 - val_loss: 0.2732 - val_acc: 0.8890\n",
      "Epoch 8/30\n",
      "2000/2000 [==============================] - 0s - loss: 0.2414 - acc: 0.9030 - val_loss: 0.2644 - val_acc: 0.8950\n",
      "Epoch 9/30\n",
      "2000/2000 [==============================] - 0s - loss: 0.2307 - acc: 0.9070 - val_loss: 0.2583 - val_acc: 0.8890\n",
      "Epoch 10/30\n",
      "2000/2000 [==============================] - 0s - loss: 0.2174 - acc: 0.9205 - val_loss: 0.2577 - val_acc: 0.8930\n",
      "Epoch 11/30\n",
      "2000/2000 [==============================] - 0s - loss: 0.1997 - acc: 0.9235 - val_loss: 0.2500 - val_acc: 0.8970\n",
      "Epoch 12/30\n",
      "2000/2000 [==============================] - 0s - loss: 0.1962 - acc: 0.9280 - val_loss: 0.2470 - val_acc: 0.8950\n",
      "Epoch 13/30\n",
      "2000/2000 [==============================] - 0s - loss: 0.1864 - acc: 0.9275 - val_loss: 0.2460 - val_acc: 0.8980\n",
      "Epoch 14/30\n",
      "2000/2000 [==============================] - 0s - loss: 0.1796 - acc: 0.9325 - val_loss: 0.2473 - val_acc: 0.8950\n",
      "Epoch 15/30\n",
      "2000/2000 [==============================] - 0s - loss: 0.1760 - acc: 0.9380 - val_loss: 0.2450 - val_acc: 0.8960\n",
      "Epoch 16/30\n",
      "2000/2000 [==============================] - 0s - loss: 0.1612 - acc: 0.9400 - val_loss: 0.2543 - val_acc: 0.8940\n",
      "Epoch 17/30\n",
      "2000/2000 [==============================] - 0s - loss: 0.1595 - acc: 0.9425 - val_loss: 0.2392 - val_acc: 0.9010\n",
      "Epoch 18/30\n",
      "2000/2000 [==============================] - 0s - loss: 0.1534 - acc: 0.9470 - val_loss: 0.2385 - val_acc: 0.9000\n",
      "Epoch 19/30\n",
      "2000/2000 [==============================] - 0s - loss: 0.1494 - acc: 0.9490 - val_loss: 0.2453 - val_acc: 0.9000\n",
      "Epoch 20/30\n",
      "2000/2000 [==============================] - 0s - loss: 0.1409 - acc: 0.9515 - val_loss: 0.2394 - val_acc: 0.9030\n",
      "Epoch 21/30\n",
      "2000/2000 [==============================] - 0s - loss: 0.1304 - acc: 0.9535 - val_loss: 0.2379 - val_acc: 0.9010\n",
      "Epoch 22/30\n",
      "2000/2000 [==============================] - 0s - loss: 0.1294 - acc: 0.9550 - val_loss: 0.2376 - val_acc: 0.9010\n",
      "Epoch 23/30\n",
      "2000/2000 [==============================] - 0s - loss: 0.1269 - acc: 0.9535 - val_loss: 0.2473 - val_acc: 0.8970\n",
      "Epoch 24/30\n",
      "2000/2000 [==============================] - 0s - loss: 0.1234 - acc: 0.9635 - val_loss: 0.2372 - val_acc: 0.9020\n",
      "Epoch 25/30\n",
      "2000/2000 [==============================] - 0s - loss: 0.1159 - acc: 0.9635 - val_loss: 0.2380 - val_acc: 0.9030\n",
      "Epoch 26/30\n",
      "2000/2000 [==============================] - 0s - loss: 0.1093 - acc: 0.9665 - val_loss: 0.2409 - val_acc: 0.9030\n",
      "Epoch 27/30\n",
      "2000/2000 [==============================] - 0s - loss: 0.1069 - acc: 0.9605 - val_loss: 0.2477 - val_acc: 0.9000\n",
      "Epoch 28/30\n",
      "2000/2000 [==============================] - 0s - loss: 0.1071 - acc: 0.9670 - val_loss: 0.2486 - val_acc: 0.9010\n",
      "Epoch 29/30\n",
      "2000/2000 [==============================] - 0s - loss: 0.0988 - acc: 0.9695 - val_loss: 0.2437 - val_acc: 0.9030\n",
      "Epoch 30/30\n",
      "2000/2000 [==============================] - 0s - loss: 0.0968 - acc: 0.9680 - val_loss: 0.2428 - val_acc: 0.9030\n"
     ]
    }
   ],
   "source": [
    "from keras import models\n",
    "from keras import layers\n",
    "from keras import optimizers\n",
    "\n",
    "model = models.Sequential()\n",
    "model.add(layers.Dense(256, activation='relu', input_dim=4 * 4 * 512))\n",
    "model.add(layers.Dropout(0.5))\n",
    "model.add(layers.Dense(1, activation='sigmoid'))\n",
    "\n",
    "model.compile(optimizer=optimizers.RMSprop(lr=2e-5),\n",
    "              loss='binary_crossentropy',\n",
    "              metrics=['acc'])\n",
    "\n",
    "history = model.fit(train_features, train_labels,\n",
    "                    epochs=30,\n",
    "                    batch_size=20,\n",
    "                    validation_data=(validation_features, validation_labels))"
   ]
  },
  {
   "cell_type": "markdown",
   "metadata": {
    "id": "c5rYGLNEByoQ"
   },
   "source": [
    "Training is very fast, since we only have to deal with two `Dense` layers -- an epoch takes less than one second even on CPU.\n",
    "\n",
    "Let's take a look at the loss and accuracy curves during training:"
   ]
  },
  {
   "cell_type": "code",
   "execution_count": null,
   "metadata": {
    "id": "WmJFKAgsByoQ",
    "outputId": "897bef2b-5c63-4378-ae54-6a3085546a41"
   },
   "outputs": [
    {
     "data": {
      "image/png": "[encoded data removed]",
      "text/plain": [
       "<matplotlib.figure.Figure at 0x7fd5529c2e80>"
      ]
     },
     "metadata": {},
     "output_type": "display_data"
    },
    {
     "data": {
      "image/png": "[encoded data removed]",
      "text/plain": [
       "<matplotlib.figure.Figure at 0x7fd550e7c828>"
      ]
     },
     "metadata": {},
     "output_type": "display_data"
    }
   ],
   "source": [
    "import matplotlib.pyplot as plt\n",
    "\n",
    "acc = history.history['acc']\n",
    "val_acc = history.history['val_acc']\n",
    "loss = history.history['loss']\n",
    "val_loss = history.history['val_loss']\n",
    "\n",
    "epochs = range(len(acc))\n",
    "\n",
    "plt.plot(epochs, acc, 'bo', label='Training acc')\n",
    "plt.plot(epochs, val_acc, 'b', label='Validation acc')\n",
    "plt.title('Training and validation accuracy')\n",
    "plt.legend()\n",
    "\n",
    "plt.figure()\n",
    "\n",
    "plt.plot(epochs, loss, 'bo', label='Training loss')\n",
    "plt.plot(epochs, val_loss, 'b', label='Validation loss')\n",
    "plt.title('Training and validation loss')\n",
    "plt.legend()\n",
    "\n",
    "plt.show()"
   ]
  },
  {
   "cell_type": "markdown",
   "metadata": {
    "id": "moVJT5AVByoQ"
   },
   "source": [
    "\n",
    "We reach a validation accuracy of about 90%, much better than what we could achieve in the previous section with our small model trained from\n",
    "scratch. However, our plots also indicate that we are overfitting almost from the start -- despite using dropout with a fairly large rate.\n",
    "This is because this technique does not leverage data augmentation, which is essential to preventing overfitting with small image datasets.\n",
    "\n",
    "Now, let's review the second technique we mentioned for doing feature extraction, which is much slower and more expensive, but which allows\n",
    "us to leverage data augmentation during training: extending the `conv_base` model and running it end-to-end on the inputs. Note that this\n",
    "technique is in fact so expensive that you should only attempt it if you have access to a GPU: it is absolutely intractable on CPU. If you\n",
    "cannot run your code on GPU, then the previous technique is the way to go.\n",
    "\n",
    "Because models behave just like layers, you can add a model (like our `conv_base`) to a `Sequential` model just like you would add a layer.\n",
    "So you can do the following:"
   ]
  },
  {
   "cell_type": "code",
   "execution_count": null,
   "metadata": {
    "collapsed": true,
    "id": "q26qI5rPByoR"
   },
   "outputs": [],
   "source": [
    "from keras import models\n",
    "from keras import layers\n",
    "\n",
    "model = models.Sequential()\n",
    "model.add(conv_base)\n",
    "model.add(layers.Flatten())\n",
    "model.add(layers.Dense(256, activation='relu'))\n",
    "model.add(layers.Dense(1, activation='sigmoid'))"
   ]
  },
  {
   "cell_type": "markdown",
   "metadata": {
    "id": "SGzTD8-jByoR"
   },
   "source": [
    "This is what our model looks like now:"
   ]
  },
  {
   "cell_type": "code",
   "execution_count": null,
   "metadata": {
    "id": "nwGDfyGvByoR",
    "outputId": "c69f4263-d8e6-43e8-9bd2-2b8fc1d1446a"
   },
   "outputs": [
    {
     "name": "stdout",
     "output_type": "stream",
     "text": [
      "_________________________________________________________________\n",
      "Layer (type)                 Output Shape              Param #   \n",
      "=================================================================\n",
      "vgg16 (Model)                (None, 4, 4, 512)         14714688  \n",
      "_________________________________________________________________\n",
      "flatten_1 (Flatten)          (None, 8192)              0         \n",
      "_________________________________________________________________\n",
      "dense_3 (Dense)              (None, 256)               2097408   \n",
      "_________________________________________________________________\n",
      "dense_4 (Dense)              (None, 1)                 257       \n",
      "=================================================================\n",
      "Total params: 16,812,353\n",
      "Trainable params: 16,812,353\n",
      "Non-trainable params: 0\n",
      "_________________________________________________________________\n"
     ]
    }
   ],
   "source": [
    "model.summary()"
   ]
  },
  {
   "cell_type": "markdown",
   "metadata": {
    "id": "vPKT8fsEByoR"
   },
   "source": [
    "As you can see, the convolutional base of VGG16 has 14,714,688 parameters, which is very large. The classifier we are adding on top has 2\n",
    "million parameters.\n",
    "\n",
    "Before we compile and train our model, a very important thing to do is to freeze the convolutional base. \"Freezing\" a layer or set of\n",
    "layers means preventing their weights from getting updated during training. If we don't do this, then the representations that were\n",
    "previously learned by the convolutional base would get modified during training. Since the `Dense` layers on top are randomly initialized,\n",
    "very large weight updates would be propagated through the network, effectively destroying the representations previously learned.\n",
    "\n",
    "In Keras, freezing a network is done by setting its `trainable` attribute to `False`:"
   ]
  },
  {
   "cell_type": "code",
   "execution_count": null,
   "metadata": {
    "id": "t7IpT4SMByoR",
    "outputId": "37b4e030-b4f5-4f18-b88b-19f3304c23e2"
   },
   "outputs": [
    {
     "name": "stdout",
     "output_type": "stream",
     "text": [
      "This is the number of trainable weights before freezing the conv base: 30\n"
     ]
    }
   ],
   "source": [
    "print('This is the number of trainable weights '\n",
    "      'before freezing the conv base:', len(model.trainable_weights))"
   ]
  },
  {
   "cell_type": "code",
   "execution_count": null,
   "metadata": {
    "collapsed": true,
    "id": "EAUomPM7ByoS"
   },
   "outputs": [],
   "source": [
    "conv_base.trainable = False"
   ]
  },
  {
   "cell_type": "code",
   "execution_count": null,
   "metadata": {
    "id": "iAu6hPRFByoS",
    "outputId": "52776611-bd2d-445e-d5cc-e460ff0babeb"
   },
   "outputs": [
    {
     "name": "stdout",
     "output_type": "stream",
     "text": [
      "This is the number of trainable weights after freezing the conv base: 4\n"
     ]
    }
   ],
   "source": [
    "print('This is the number of trainable weights '\n",
    "      'after freezing the conv base:', len(model.trainable_weights))"
   ]
  },
  {
   "cell_type": "markdown",
   "metadata": {
    "id": "p5LNUaVqByoS"
   },
   "source": [
    "With this setup, only the weights from the two `Dense` layers that we added will be trained. That's a total of four weight tensors: two per\n",
    "layer (the main weight matrix and the bias vector). Note that in order for these changes to take effect, we must first compile the model.\n",
    "If you ever modify weight trainability after compilation, you should then re-compile the model, or these changes would be ignored.\n",
    "\n",
    "Now we can start training our model, with the same data augmentation configuration that we used in our previous example:"
   ]
  },
  {
   "cell_type": "code",
   "execution_count": null,
   "metadata": {
    "id": "JOsTylIKByoS",
    "outputId": "a0f61cfc-0e98-44d8-b68b-1eddc54f6686"
   },
   "outputs": [
    {
     "name": "stdout",
     "output_type": "stream",
     "text": [
      "Found 2000 images belonging to 2 classes.\n",
      "Found 1000 images belonging to 2 classes.\n",
      "Epoch 1/30\n",
      "74s - loss: 0.4465 - acc: 0.7810 - val_loss: 0.2056 - val_acc: 0.9120\n",
      "Epoch 2/30\n",
      "72s - loss: 0.2738 - acc: 0.8905 - val_loss: 0.1239 - val_acc: 0.9550\n",
      "Epoch 3/30\n",
      "72s - loss: 0.2088 - acc: 0.9145 - val_loss: 0.1194 - val_acc: 0.9560\n",
      "Epoch 4/30\n",
      "72s - loss: 0.1835 - acc: 0.9280 - val_loss: 0.1025 - val_acc: 0.9550\n",
      "Epoch 5/30\n",
      "72s - loss: 0.1642 - acc: 0.9330 - val_loss: 0.0903 - val_acc: 0.9680\n",
      "Epoch 6/30\n",
      "72s - loss: 0.1360 - acc: 0.9410 - val_loss: 0.0794 - val_acc: 0.9740\n",
      "Epoch 7/30\n",
      "72s - loss: 0.1426 - acc: 0.9465 - val_loss: 0.0968 - val_acc: 0.9560\n",
      "Epoch 8/30\n",
      "72s - loss: 0.1013 - acc: 0.9580 - val_loss: 0.1411 - val_acc: 0.9430\n",
      "Epoch 9/30\n",
      "72s - loss: 0.1177 - acc: 0.9500 - val_loss: 0.2105 - val_acc: 0.9310\n",
      "Epoch 10/30\n",
      "72s - loss: 0.0949 - acc: 0.9620 - val_loss: 0.0900 - val_acc: 0.9710\n",
      "Epoch 11/30\n",
      "72s - loss: 0.0915 - acc: 0.9655 - val_loss: 0.1204 - val_acc: 0.9630\n",
      "Epoch 12/30\n",
      "72s - loss: 0.0782 - acc: 0.9645 - val_loss: 0.0995 - val_acc: 0.9650\n",
      "Epoch 13/30\n",
      "72s - loss: 0.0717 - acc: 0.9755 - val_loss: 0.1269 - val_acc: 0.9580\n",
      "Epoch 14/30\n",
      "72s - loss: 0.0670 - acc: 0.9715 - val_loss: 0.0994 - val_acc: 0.9680\n",
      "Epoch 15/30\n",
      "71s - loss: 0.0718 - acc: 0.9735 - val_loss: 0.0558 - val_acc: 0.9790\n",
      "Epoch 16/30\n",
      "72s - loss: 0.0612 - acc: 0.9780 - val_loss: 0.0870 - val_acc: 0.9690\n",
      "Epoch 17/30\n",
      "71s - loss: 0.0693 - acc: 0.9765 - val_loss: 0.0972 - val_acc: 0.9720\n",
      "Epoch 18/30\n",
      "71s - loss: 0.0596 - acc: 0.9785 - val_loss: 0.0832 - val_acc: 0.9730\n",
      "Epoch 19/30\n",
      "71s - loss: 0.0497 - acc: 0.9800 - val_loss: 0.1160 - val_acc: 0.9610\n",
      "Epoch 20/30\n",
      "71s - loss: 0.0546 - acc: 0.9780 - val_loss: 0.1057 - val_acc: 0.9660\n",
      "Epoch 21/30\n",
      "71s - loss: 0.0568 - acc: 0.9825 - val_loss: 0.2012 - val_acc: 0.9500\n",
      "Epoch 22/30\n",
      "71s - loss: 0.0493 - acc: 0.9830 - val_loss: 0.1384 - val_acc: 0.9610\n",
      "Epoch 23/30\n",
      "71s - loss: 0.0328 - acc: 0.9905 - val_loss: 0.1281 - val_acc: 0.9640\n",
      "Epoch 24/30\n",
      "71s - loss: 0.0524 - acc: 0.9860 - val_loss: 0.0846 - val_acc: 0.9760\n",
      "Epoch 25/30\n",
      "71s - loss: 0.0422 - acc: 0.9845 - val_loss: 0.1002 - val_acc: 0.9670\n",
      "Epoch 26/30\n",
      "71s - loss: 0.0617 - acc: 0.9825 - val_loss: 0.0858 - val_acc: 0.9760\n",
      "Epoch 27/30\n",
      "71s - loss: 0.0568 - acc: 0.9830 - val_loss: 0.0889 - val_acc: 0.9700\n",
      "Epoch 28/30\n",
      "71s - loss: 0.0296 - acc: 0.9915 - val_loss: 0.1406 - val_acc: 0.9620\n",
      "Epoch 29/30\n",
      "71s - loss: 0.0432 - acc: 0.9890 - val_loss: 0.1535 - val_acc: 0.9650\n",
      "Epoch 30/30\n",
      "71s - loss: 0.0354 - acc: 0.9885 - val_loss: 0.1832 - val_acc: 0.9510\n"
     ]
    }
   ],
   "source": [
    "from keras.preprocessing.image import ImageDataGenerator\n",
    "\n",
    "train_datagen = ImageDataGenerator(\n",
    "      rescale=1./255,\n",
    "      rotation_range=40,\n",
    "      width_shift_range=0.2,\n",
    "      height_shift_range=0.2,\n",
    "      shear_range=0.2,\n",
    "      zoom_range=0.2,\n",
    "      horizontal_flip=True,\n",
    "      fill_mode='nearest')\n",
    "\n",
    "# Note that the validation data should not be augmented!\n",
    "test_datagen = ImageDataGenerator(rescale=1./255)\n",
    "\n",
    "train_generator = train_datagen.flow_from_directory(\n",
    "        # This is the target directory\n",
    "        train_dir,\n",
    "        # All images will be resized to 150x150\n",
    "        target_size=(150, 150),\n",
    "        batch_size=20,\n",
    "        # Since we use binary_crossentropy loss, we need binary labels\n",
    "        class_mode='binary')\n",
    "\n",
    "validation_generator = test_datagen.flow_from_directory(\n",
    "        validation_dir,\n",
    "        target_size=(150, 150),\n",
    "        batch_size=20,\n",
    "        class_mode='binary')\n",
    "\n",
    "model.compile(loss='binary_crossentropy',\n",
    "              optimizer=optimizers.RMSprop(lr=2e-5),\n",
    "              metrics=['acc'])\n",
    "\n",
    "history = model.fit_generator(\n",
    "      train_generator,\n",
    "      steps_per_epoch=100,\n",
    "      epochs=30,\n",
    "      validation_data=validation_generator,\n",
    "      validation_steps=50,\n",
    "      verbose=2)"
   ]
  },
  {
   "cell_type": "code",
   "execution_count": null,
   "metadata": {
    "collapsed": true,
    "id": "S3NT2Mz8ByoT"
   },
   "outputs": [],
   "source": [
    "model.save('cats_and_dogs_small_3.h5')"
   ]
  },
  {
   "cell_type": "markdown",
   "metadata": {
    "id": "W0xlptn0ByoT"
   },
   "source": [
    "Let's plot our results again:"
   ]
  },
  {
   "cell_type": "code",
   "execution_count": null,
   "metadata": {
    "id": "RowWcppNByoT",
    "outputId": "18c2d92d-f966-4d1a-f13f-c3976c49eab0"
   },
   "outputs": [
    {
     "data": {
      "image/png": "[encoded data removed]",
      "text/plain": [
       "<matplotlib.figure.Figure at 0x7fd55306e400>"
      ]
     },
     "metadata": {},
     "output_type": "display_data"
    },
    {
     "data": {
      "image/png": "[encoded data removed]",
      "text/plain": [
       "<matplotlib.figure.Figure at 0x7fd544300160>"
      ]
     },
     "metadata": {},
     "output_type": "display_data"
    }
   ],
   "source": [
    "acc = history.history['acc']\n",
    "val_acc = history.history['val_acc']\n",
    "loss = history.history['loss']\n",
    "val_loss = history.history['val_loss']\n",
    "\n",
    "epochs = range(len(acc))\n",
    "\n",
    "plt.plot(epochs, acc, 'bo', label='Training acc')\n",
    "plt.plot(epochs, val_acc, 'b', label='Validation acc')\n",
    "plt.title('Training and validation accuracy')\n",
    "plt.legend()\n",
    "\n",
    "plt.figure()\n",
    "\n",
    "plt.plot(epochs, loss, 'bo', label='Training loss')\n",
    "plt.plot(epochs, val_loss, 'b', label='Validation loss')\n",
    "plt.title('Training and validation loss')\n",
    "plt.legend()\n",
    "\n",
    "plt.show()"
   ]
  },
  {
   "cell_type": "markdown",
   "metadata": {
    "id": "ZRnk23IXByoT"
   },
   "source": [
    "As you can see, we reach a validation accuracy of about 96%. This is much better than our small convnet trained from scratch."
   ]
  },
  {
   "cell_type": "markdown",
   "metadata": {
    "id": "8eCJcfLaByoU"
   },
   "source": [
    "# Add new cells to the notebook with a trainable layer which besides the dense top has at least one convolutional layer. New convolutional layer is added before the Flatten layer. You are asked to increase the number of convolutional layers. Please add proper padding to that new convolutional layer to avoid shrinking its output. Report on the number of trainable parameters in your model. Report on the results of your model as compared with that of Chollet."
   ]
  },
  {
   "cell_type": "code",
   "execution_count": 3,
   "metadata": {
    "colab": {
     "base_uri": "https://localhost:8080/"
    },
    "id": "q280T_jSByoU",
    "outputId": "2d6aef23-4f16-4cbd-c54f-59944e4c53d9"
   },
   "outputs": [
    {
     "name": "stdout",
     "output_type": "stream",
     "text": [
      "Downloading data from https://storage.googleapis.com/tensorflow/keras-applications/vgg16/vgg16_weights_tf_dim_ordering_tf_kernels_notop.h5\n",
      "58889256/58889256 [==============================] - 2s 0us/step\n"
     ]
    }
   ],
   "source": [
    "#load conv base\n",
    "from keras.applications import VGG16\n",
    "\n",
    "conv_base = VGG16(weights='imagenet',\n",
    "                  include_top=False,\n",
    "                  input_shape=(150, 150, 3))"
   ]
  },
  {
   "cell_type": "code",
   "execution_count": 4,
   "metadata": {
    "id": "0tzYVy1GByoU"
   },
   "outputs": [],
   "source": [
    "from keras import models\n",
    "from keras import layers\n",
    "from keras import regularizers"
   ]
  },
  {
   "cell_type": "code",
   "execution_count": 5,
   "metadata": {
    "id": "FwZ4YuhWByoU"
   },
   "outputs": [],
   "source": [
    "#add convolutional layer on top of conv base\n",
    "\n",
    "model = models.Sequential()\n",
    "model.add(conv_base)\n",
    "model.add(layers.Conv2D(512, (4, 4), activation='relu', padding='same'))\n",
    "model.add(layers.Flatten())\n",
    "model.add(layers.Dense(256, activation='relu'))\n",
    "model.add(layers.Dense(1, activation='sigmoid'))"
   ]
  },
  {
   "cell_type": "code",
   "execution_count": 6,
   "metadata": {
    "colab": {
     "base_uri": "https://localhost:8080/"
    },
    "id": "2ItRY0fIByoU",
    "outputId": "cdee2f15-56b6-4a66-f650-b08ce8e064fb"
   },
   "outputs": [
    {
     "name": "stdout",
     "output_type": "stream",
     "text": [
      "Model: \"sequential\"\n",
      "_________________________________________________________________\n",
      " Layer (type)                Output Shape              Param #   \n",
      "=================================================================\n",
      " vgg16 (Functional)          (None, 4, 4, 512)         14714688  \n",
      "                                                                 \n",
      " conv2d (Conv2D)             (None, 4, 4, 512)         4194816   \n",
      "                                                                 \n",
      " flatten (Flatten)           (None, 8192)              0         \n",
      "                                                                 \n",
      " dense (Dense)               (None, 256)               2097408   \n",
      "                                                                 \n",
      " dense_1 (Dense)             (None, 1)                 257       \n",
      "                                                                 \n",
      "=================================================================\n",
      "Total params: 21007169 (80.14 MB)\n",
      "Trainable params: 21007169 (80.14 MB)\n",
      "Non-trainable params: 0 (0.00 Byte)\n",
      "_________________________________________________________________\n"
     ]
    }
   ],
   "source": [
    "model.summary()"
   ]
  },
  {
   "cell_type": "markdown",
   "metadata": {
    "id": "YGcLykTYkMbC"
   },
   "source": [
    "### The number of total parameters increased from Total params: 16,812,353 to 21,007,169 in the new model with an additional convolutional layer."
   ]
  },
  {
   "cell_type": "code",
   "execution_count": 7,
   "metadata": {
    "colab": {
     "base_uri": "https://localhost:8080/"
    },
    "id": "z40I84p_ByoU",
    "outputId": "0ea22c69-c0ac-4423-9e15-d25b067918ca"
   },
   "outputs": [
    {
     "name": "stdout",
     "output_type": "stream",
     "text": [
      "This is the number of trainable weights before freezing the conv base: 32\n"
     ]
    }
   ],
   "source": [
    "print('This is the number of trainable weights '\n",
    "      'before freezing the conv base:', len(model.trainable_weights))"
   ]
  },
  {
   "cell_type": "code",
   "execution_count": 8,
   "metadata": {
    "id": "lB5TOc_FByoV"
   },
   "outputs": [],
   "source": [
    "conv_base.trainable = False"
   ]
  },
  {
   "cell_type": "code",
   "execution_count": 9,
   "metadata": {
    "colab": {
     "base_uri": "https://localhost:8080/"
    },
    "id": "QOe6eVZvByoV",
    "outputId": "00b08571-2c6d-43c9-b111-cba632cb4182"
   },
   "outputs": [
    {
     "name": "stdout",
     "output_type": "stream",
     "text": [
      "This is the number of trainable weights after freezing the conv base: 6\n"
     ]
    }
   ],
   "source": [
    "print('This is the number of trainable weights '\n",
    "      'after freezing the conv base:', len(model.trainable_weights))"
   ]
  },
  {
   "cell_type": "code",
   "execution_count": 11,
   "metadata": {
    "id": "Pe9t56ddByoV"
   },
   "outputs": [],
   "source": [
    "import os\n",
    "import numpy as np\n",
    "from keras.preprocessing.image import ImageDataGenerator\n",
    "from keras import optimizers\n",
    "\n",
    "train_dir = '/content/drive/MyDrive/cats_and_dogs_small/train'\n",
    "validation_dir = '/content/drive/MyDrive/cats_and_dogs_small/validation'\n",
    "test_dir = '/content/drive/MyDrive/cats_and_dogs_small/test'"
   ]
  },
  {
   "cell_type": "code",
   "execution_count": 12,
   "metadata": {
    "colab": {
     "base_uri": "https://localhost:8080/"
    },
    "id": "Tpye30edByoc",
    "outputId": "a3c936b4-7725-4403-dc8c-fe0c3a9ab21e"
   },
   "outputs": [
    {
     "name": "stdout",
     "output_type": "stream",
     "text": [
      "Found 2000 images belonging to 2 classes.\n",
      "Found 1000 images belonging to 2 classes.\n",
      "Epoch 1/30\n",
      "100/100 [==============================] - 457s 5s/step - loss: 0.5290 - acc: 0.7510 - val_loss: 0.3692 - val_acc: 0.8460\n",
      "Epoch 2/30\n",
      "100/100 [==============================] - 24s 236ms/step - loss: 0.4156 - acc: 0.8175 - val_loss: 0.3102 - val_acc: 0.8810\n",
      "Epoch 3/30\n",
      "100/100 [==============================] - 24s 241ms/step - loss: 0.3817 - acc: 0.8200 - val_loss: 0.2829 - val_acc: 0.8790\n",
      "Epoch 4/30\n",
      "100/100 [==============================] - 22s 219ms/step - loss: 0.3701 - acc: 0.8315 - val_loss: 0.3102 - val_acc: 0.8570\n",
      "Epoch 5/30\n",
      "100/100 [==============================] - 24s 236ms/step - loss: 0.3733 - acc: 0.8370 - val_loss: 0.2582 - val_acc: 0.8900\n",
      "Epoch 6/30\n",
      "100/100 [==============================] - 22s 224ms/step - loss: 0.3476 - acc: 0.8480 - val_loss: 0.2544 - val_acc: 0.8940\n",
      "Epoch 7/30\n",
      "100/100 [==============================] - 24s 236ms/step - loss: 0.3380 - acc: 0.8460 - val_loss: 0.2473 - val_acc: 0.8960\n",
      "Epoch 8/30\n",
      "100/100 [==============================] - 24s 242ms/step - loss: 0.3340 - acc: 0.8515 - val_loss: 0.2725 - val_acc: 0.8790\n",
      "Epoch 9/30\n",
      "100/100 [==============================] - 22s 221ms/step - loss: 0.3269 - acc: 0.8495 - val_loss: 0.2830 - val_acc: 0.8770\n",
      "Epoch 10/30\n",
      "100/100 [==============================] - 24s 240ms/step - loss: 0.3152 - acc: 0.8590 - val_loss: 0.2504 - val_acc: 0.8890\n",
      "Epoch 11/30\n",
      "100/100 [==============================] - 23s 231ms/step - loss: 0.3121 - acc: 0.8620 - val_loss: 0.2389 - val_acc: 0.9050\n",
      "Epoch 12/30\n",
      "100/100 [==============================] - 24s 243ms/step - loss: 0.3009 - acc: 0.8700 - val_loss: 0.2362 - val_acc: 0.9060\n",
      "Epoch 13/30\n",
      "100/100 [==============================] - 23s 227ms/step - loss: 0.3101 - acc: 0.8580 - val_loss: 0.2323 - val_acc: 0.9080\n",
      "Epoch 14/30\n",
      "100/100 [==============================] - 22s 217ms/step - loss: 0.3030 - acc: 0.8715 - val_loss: 0.2347 - val_acc: 0.9080\n",
      "Epoch 15/30\n",
      "100/100 [==============================] - 24s 237ms/step - loss: 0.2884 - acc: 0.8750 - val_loss: 0.2554 - val_acc: 0.8900\n",
      "Epoch 16/30\n",
      "100/100 [==============================] - 23s 234ms/step - loss: 0.2911 - acc: 0.8725 - val_loss: 0.2409 - val_acc: 0.9010\n",
      "Epoch 17/30\n",
      "100/100 [==============================] - 23s 232ms/step - loss: 0.2981 - acc: 0.8685 - val_loss: 0.2419 - val_acc: 0.9000\n",
      "Epoch 18/30\n",
      "100/100 [==============================] - 24s 237ms/step - loss: 0.2930 - acc: 0.8735 - val_loss: 0.2411 - val_acc: 0.9000\n",
      "Epoch 19/30\n",
      "100/100 [==============================] - 21s 211ms/step - loss: 0.2982 - acc: 0.8750 - val_loss: 0.2655 - val_acc: 0.8900\n",
      "Epoch 20/30\n",
      "100/100 [==============================] - 22s 223ms/step - loss: 0.2815 - acc: 0.8785 - val_loss: 0.2418 - val_acc: 0.8930\n",
      "Epoch 21/30\n",
      "100/100 [==============================] - 21s 214ms/step - loss: 0.2700 - acc: 0.8815 - val_loss: 0.2380 - val_acc: 0.9060\n",
      "Epoch 22/30\n",
      "100/100 [==============================] - 24s 236ms/step - loss: 0.2759 - acc: 0.8870 - val_loss: 0.2338 - val_acc: 0.9090\n",
      "Epoch 23/30\n",
      "100/100 [==============================] - 21s 215ms/step - loss: 0.2768 - acc: 0.8895 - val_loss: 0.2322 - val_acc: 0.9040\n",
      "Epoch 24/30\n",
      "100/100 [==============================] - 22s 224ms/step - loss: 0.2766 - acc: 0.8845 - val_loss: 0.2263 - val_acc: 0.9090\n",
      "Epoch 25/30\n",
      "100/100 [==============================] - 23s 231ms/step - loss: 0.2710 - acc: 0.8855 - val_loss: 0.2675 - val_acc: 0.8860\n",
      "Epoch 26/30\n",
      "100/100 [==============================] - 22s 217ms/step - loss: 0.2769 - acc: 0.8795 - val_loss: 0.2452 - val_acc: 0.8950\n",
      "Epoch 27/30\n",
      "100/100 [==============================] - 21s 213ms/step - loss: 0.2564 - acc: 0.8900 - val_loss: 0.2390 - val_acc: 0.9020\n",
      "Epoch 28/30\n",
      "100/100 [==============================] - 23s 228ms/step - loss: 0.2699 - acc: 0.8760 - val_loss: 0.2340 - val_acc: 0.9060\n",
      "Epoch 29/30\n",
      "100/100 [==============================] - 21s 212ms/step - loss: 0.2625 - acc: 0.8895 - val_loss: 0.2278 - val_acc: 0.9090\n",
      "Epoch 30/30\n",
      "100/100 [==============================] - 23s 233ms/step - loss: 0.2662 - acc: 0.8850 - val_loss: 0.2289 - val_acc: 0.9100\n"
     ]
    }
   ],
   "source": [
    "from keras.preprocessing.image import ImageDataGenerator\n",
    "\n",
    "train_datagen = ImageDataGenerator(\n",
    "      rescale=1./255,\n",
    "      rotation_range=40,\n",
    "      width_shift_range=0.2,\n",
    "      height_shift_range=0.2,\n",
    "      shear_range=0.2,\n",
    "      zoom_range=0.2,\n",
    "      horizontal_flip=True,\n",
    "      fill_mode='nearest')\n",
    "\n",
    "# Note that the validation data should not be augmented!\n",
    "test_datagen = ImageDataGenerator(rescale=1./255)\n",
    "\n",
    "train_generator = train_datagen.flow_from_directory(\n",
    "        # This is the target directory\n",
    "        train_dir,\n",
    "        # All images will be resized to 150x150\n",
    "        target_size=(150, 150),\n",
    "        batch_size=20,\n",
    "        # Since we use binary_crossentropy loss, we need binary labels\n",
    "        class_mode='binary')\n",
    "\n",
    "validation_generator = test_datagen.flow_from_directory(\n",
    "        validation_dir,\n",
    "        target_size=(150, 150),\n",
    "        batch_size=20,\n",
    "        class_mode='binary')\n",
    "\n",
    "model.compile(loss='binary_crossentropy',\n",
    "              optimizer=optimizers.RMSprop(learning_rate=2e-5),\n",
    "              metrics=['acc'])\n",
    "\n",
    "history = model.fit(\n",
    "      train_generator,\n",
    "      steps_per_epoch=100,\n",
    "      epochs=30,\n",
    "      validation_data=validation_generator,\n",
    "      validation_steps=50,\n",
    "      verbose=1)"
   ]
  },
  {
   "cell_type": "markdown",
   "metadata": {
    "id": "6TKeL-uRkiql"
   },
   "source": [
    "### Interestingly, our model with an additional convolutional layer performs worse than Chollet's model.  Here we see a validation accuracy of ~91%, whereas Chollet obtained an accuracy of about ~97%."
   ]
  },
  {
   "cell_type": "markdown",
   "metadata": {
    "id": "5twl4eQjlW5d"
   },
   "source": [
    "# ![image.png](data:image/png;base64,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)"
   ]
  },
  {
   "cell_type": "markdown",
   "metadata": {
    "id": "81_5iglqByod"
   },
   "source": [
    "## Fine-tuning\n",
    "\n",
    "Another widely used technique for model reuse, complementary to feature extraction, is _fine-tuning_.\n",
    "Fine-tuning consists in unfreezing a few of the top layers\n",
    "of a frozen model base used for feature extraction, and jointly training both the newly added part of the model (in our case, the\n",
    "fully-connected classifier) and these top layers. This is called \"fine-tuning\" because it slightly adjusts the more abstract\n",
    "representations of the model being reused, in order to make them more relevant for the problem at hand.\n",
    "\n",
    "![fine-tuning VGG16](https://s3.amazonaws.com/book.keras.io/img/ch5/vgg16_fine_tuning.png)"
   ]
  },
  {
   "cell_type": "markdown",
   "metadata": {
    "id": "t5v949mSByod"
   },
   "source": [
    "We have stated before that it was necessary to freeze the convolution base of VGG16 in order to be able to train a randomly initialized\n",
    "classifier on top. For the same reason, it is only possible to fine-tune the top layers of the convolutional base once the classifier on\n",
    "top has already been trained. If the classified wasn't already trained, then the error signal propagating through the network during\n",
    "training would be too large, and the representations previously learned by the layers being fine-tuned would be destroyed. Thus the steps\n",
    "for fine-tuning a network are as follow:\n",
    "\n",
    "* 1) Add your custom network on top of an already trained base network.\n",
    "* 2) Freeze the base network.\n",
    "* 3) Train the part you added.\n",
    "* 4) Unfreeze some layers in the base network.\n",
    "* 5) Jointly train both these layers and the part you added.\n",
    "\n",
    "We have already completed the first 3 steps when doing feature extraction. Let's proceed with the 4th step: we will unfreeze our `conv_base`,\n",
    "and then freeze individual layers inside of it.\n",
    "\n",
    "As a reminder, this is what our convolutional base looks like:"
   ]
  },
  {
   "cell_type": "code",
   "execution_count": null,
   "metadata": {
    "id": "O1wTL4ZdByod",
    "outputId": "baa59d08-fcd1-400e-e9be-b225e16e401d"
   },
   "outputs": [
    {
     "name": "stdout",
     "output_type": "stream",
     "text": [
      "_________________________________________________________________\n",
      "Layer (type)                 Output Shape              Param #   \n",
      "=================================================================\n",
      "input_1 (InputLayer)         (None, 150, 150, 3)       0         \n",
      "_________________________________________________________________\n",
      "block1_conv1 (Conv2D)        (None, 150, 150, 64)      1792      \n",
      "_________________________________________________________________\n",
      "block1_conv2 (Conv2D)        (None, 150, 150, 64)      36928     \n",
      "_________________________________________________________________\n",
      "block1_pool (MaxPooling2D)   (None, 75, 75, 64)        0         \n",
      "_________________________________________________________________\n",
      "block2_conv1 (Conv2D)        (None, 75, 75, 128)       73856     \n",
      "_________________________________________________________________\n",
      "block2_conv2 (Conv2D)        (None, 75, 75, 128)       147584    \n",
      "_________________________________________________________________\n",
      "block2_pool (MaxPooling2D)   (None, 37, 37, 128)       0         \n",
      "_________________________________________________________________\n",
      "block3_conv1 (Conv2D)        (None, 37, 37, 256)       295168    \n",
      "_________________________________________________________________\n",
      "block3_conv2 (Conv2D)        (None, 37, 37, 256)       590080    \n",
      "_________________________________________________________________\n",
      "block3_conv3 (Conv2D)        (None, 37, 37, 256)       590080    \n",
      "_________________________________________________________________\n",
      "block3_pool (MaxPooling2D)   (None, 18, 18, 256)       0         \n",
      "_________________________________________________________________\n",
      "block4_conv1 (Conv2D)        (None, 18, 18, 512)       1180160   \n",
      "_________________________________________________________________\n",
      "block4_conv2 (Conv2D)        (None, 18, 18, 512)       2359808   \n",
      "_________________________________________________________________\n",
      "block4_conv3 (Conv2D)        (None, 18, 18, 512)       2359808   \n",
      "_________________________________________________________________\n",
      "block4_pool (MaxPooling2D)   (None, 9, 9, 512)         0         \n",
      "_________________________________________________________________\n",
      "block5_conv1 (Conv2D)        (None, 9, 9, 512)         2359808   \n",
      "_________________________________________________________________\n",
      "block5_conv2 (Conv2D)        (None, 9, 9, 512)         2359808   \n",
      "_________________________________________________________________\n",
      "block5_conv3 (Conv2D)        (None, 9, 9, 512)         2359808   \n",
      "_________________________________________________________________\n",
      "block5_pool (MaxPooling2D)   (None, 4, 4, 512)         0         \n",
      "=================================================================\n",
      "Total params: 14,714,688\n",
      "Trainable params: 0\n",
      "Non-trainable params: 14,714,688\n",
      "_________________________________________________________________\n"
     ]
    }
   ],
   "source": [
    "conv_base.summary()"
   ]
  },
  {
   "cell_type": "markdown",
   "metadata": {
    "id": "x6Q71IjBByoe"
   },
   "source": [
    "\n",
    "We will fine-tune the last 3 convolutional layers, which means that all layers up until `block4_pool` should be frozen, and the layers\n",
    "`block5_conv1`, `block5_conv2` and `block5_conv3` should be trainable.\n",
    "\n",
    "Why not fine-tune more layers? Why not fine-tune the entire convolutional base? We could. However, we need to consider that:\n",
    "\n",
    "* Earlier layers in the convolutional base encode more generic, reusable features, while layers higher up encode more specialized features. It is\n",
    "more useful to fine-tune the more specialized features, as these are the ones that need to be repurposed on our new problem. There would\n",
    "be fast-decreasing returns in fine-tuning lower layers.\n",
    "* The more parameters we are training, the more we are at risk of overfitting. The convolutional base has 15M parameters, so it would be\n",
    "risky to attempt to train it on our small dataset.\n",
    "\n",
    "Thus, in our situation, it is a good strategy to only fine-tune the top 2 to 3 layers in the convolutional base.\n",
    "\n",
    "Let's set this up, starting from where we left off in the previous example:"
   ]
  },
  {
   "cell_type": "code",
   "execution_count": null,
   "metadata": {
    "collapsed": true,
    "id": "W9P_LQfVByoe"
   },
   "outputs": [],
   "source": [
    "conv_base.trainable = True\n",
    "\n",
    "set_trainable = False\n",
    "for layer in conv_base.layers:\n",
    "    if layer.name == 'block5_conv1':\n",
    "        set_trainable = True\n",
    "    if set_trainable:\n",
    "        layer.trainable = True\n",
    "    else:\n",
    "        layer.trainable = False"
   ]
  },
  {
   "cell_type": "markdown",
   "metadata": {
    "id": "caW4JIPFByoe"
   },
   "source": [
    "Now we can start fine-tuning our network. We will do this with the RMSprop optimizer, using a very low learning rate. The reason for using\n",
    "a low learning rate is that we want to limit the magnitude of the modifications we make to the representations of the 3 layers that we are\n",
    "fine-tuning. Updates that are too large may harm these representations.\n",
    "\n",
    "Now let's proceed with fine-tuning:"
   ]
  },
  {
   "cell_type": "code",
   "execution_count": null,
   "metadata": {
    "id": "immJu53DByof",
    "outputId": "158c7e66-3a5c-4ef8-b76c-d34f612eb5e7"
   },
   "outputs": [
    {
     "name": "stdout",
     "output_type": "stream",
     "text": [
      "Epoch 1/100\n",
      "100/100 [==============================] - 32s - loss: 0.0215 - acc: 0.9935 - val_loss: 0.0980 - val_acc: 0.9720\n",
      "Epoch 2/100\n",
      "100/100 [==============================] - 32s - loss: 0.0131 - acc: 0.9960 - val_loss: 0.1247 - val_acc: 0.9700\n",
      "Epoch 3/100\n",
      "100/100 [==============================] - 32s - loss: 0.0140 - acc: 0.9940 - val_loss: 0.1044 - val_acc: 0.9790\n",
      "Epoch 4/100\n",
      "100/100 [==============================] - 33s - loss: 0.0102 - acc: 0.9965 - val_loss: 0.1259 - val_acc: 0.9770\n",
      "Epoch 5/100\n",
      "100/100 [==============================] - 33s - loss: 0.0137 - acc: 0.9945 - val_loss: 0.1036 - val_acc: 0.9800\n",
      "Epoch 6/100\n",
      "100/100 [==============================] - 33s - loss: 0.0183 - acc: 0.9935 - val_loss: 0.1260 - val_acc: 0.9750\n",
      "Epoch 7/100\n",
      "100/100 [==============================] - 33s - loss: 0.0141 - acc: 0.9945 - val_loss: 0.1575 - val_acc: 0.9690\n",
      "Epoch 8/100\n",
      "100/100 [==============================] - 33s - loss: 0.0094 - acc: 0.9965 - val_loss: 0.0935 - val_acc: 0.9780\n",
      "Epoch 9/100\n",
      "100/100 [==============================] - 33s - loss: 0.0079 - acc: 0.9985 - val_loss: 0.1452 - val_acc: 0.9760\n",
      "Epoch 10/100\n",
      "100/100 [==============================] - 33s - loss: 0.0127 - acc: 0.9970 - val_loss: 0.1027 - val_acc: 0.9790\n",
      "Epoch 11/100\n",
      "100/100 [==============================] - 33s - loss: 0.0097 - acc: 0.9965 - val_loss: 0.1463 - val_acc: 0.9720\n",
      "Epoch 12/100\n",
      "100/100 [==============================] - 33s - loss: 0.0055 - acc: 0.9980 - val_loss: 0.1361 - val_acc: 0.9720\n",
      "Epoch 13/100\n",
      "100/100 [==============================] - 33s - loss: 0.0274 - acc: 0.9955 - val_loss: 0.1446 - val_acc: 0.9740\n",
      "Epoch 14/100\n",
      "100/100 [==============================] - 33s - loss: 0.0043 - acc: 0.9985 - val_loss: 0.1123 - val_acc: 0.9790\n",
      "Epoch 15/100\n",
      "100/100 [==============================] - 33s - loss: 0.0057 - acc: 0.9975 - val_loss: 0.1912 - val_acc: 0.9700\n",
      "Epoch 16/100\n",
      "100/100 [==============================] - 33s - loss: 0.0144 - acc: 0.9960 - val_loss: 0.1415 - val_acc: 0.9780\n",
      "Epoch 17/100\n",
      "100/100 [==============================] - 33s - loss: 0.0048 - acc: 0.9990 - val_loss: 0.1231 - val_acc: 0.9780\n",
      "Epoch 18/100\n",
      "100/100 [==============================] - 33s - loss: 0.0188 - acc: 0.9965 - val_loss: 0.1551 - val_acc: 0.9720\n",
      "Epoch 19/100\n",
      "100/100 [==============================] - 33s - loss: 0.0160 - acc: 0.9970 - val_loss: 0.2155 - val_acc: 0.9740\n",
      "Epoch 20/100\n",
      "100/100 [==============================] - 33s - loss: 0.0047 - acc: 0.9965 - val_loss: 0.1559 - val_acc: 0.9730\n",
      "Epoch 21/100\n",
      "100/100 [==============================] - 33s - loss: 0.0132 - acc: 0.9980 - val_loss: 0.1518 - val_acc: 0.9740\n",
      "Epoch 22/100\n",
      "100/100 [==============================] - 33s - loss: 0.0086 - acc: 0.9965 - val_loss: 0.1517 - val_acc: 0.9790\n",
      "Epoch 23/100\n",
      "100/100 [==============================] - 33s - loss: 0.0070 - acc: 0.9980 - val_loss: 0.1887 - val_acc: 0.9670\n",
      "Epoch 24/100\n",
      "100/100 [==============================] - 33s - loss: 0.0044 - acc: 0.9985 - val_loss: 0.1818 - val_acc: 0.9740\n",
      "Epoch 25/100\n",
      "100/100 [==============================] - 33s - loss: 0.0159 - acc: 0.9970 - val_loss: 0.1860 - val_acc: 0.9680\n",
      "Epoch 26/100\n",
      "100/100 [==============================] - 33s - loss: 0.0056 - acc: 0.9980 - val_loss: 0.1657 - val_acc: 0.9740\n",
      "Epoch 27/100\n",
      "100/100 [==============================] - 33s - loss: 0.0118 - acc: 0.9980 - val_loss: 0.1542 - val_acc: 0.9760\n",
      "Epoch 28/100\n",
      "100/100 [==============================] - 33s - loss: 0.0031 - acc: 0.9990 - val_loss: 0.1493 - val_acc: 0.9770\n",
      "Epoch 29/100\n",
      "100/100 [==============================] - 33s - loss: 0.0114 - acc: 0.9965 - val_loss: 0.1921 - val_acc: 0.9680\n",
      "Epoch 30/100\n",
      "100/100 [==============================] - 33s - loss: 0.0031 - acc: 0.9990 - val_loss: 0.1188 - val_acc: 0.9830\n",
      "Epoch 31/100\n",
      "100/100 [==============================] - 33s - loss: 0.0068 - acc: 0.9985 - val_loss: 0.1814 - val_acc: 0.9740\n",
      "Epoch 32/100\n",
      "100/100 [==============================] - 33s - loss: 0.0096 - acc: 0.9985 - val_loss: 0.2034 - val_acc: 0.9760\n",
      "Epoch 33/100\n",
      "100/100 [==============================] - 33s - loss: 0.0072 - acc: 0.9985 - val_loss: 0.1970 - val_acc: 0.9730\n",
      "Epoch 34/100\n",
      "100/100 [==============================] - 33s - loss: 0.0047 - acc: 0.9990 - val_loss: 0.2349 - val_acc: 0.9680\n",
      "Epoch 35/100\n",
      "100/100 [==============================] - 33s - loss: 0.0066 - acc: 0.9990 - val_loss: 0.1865 - val_acc: 0.9740\n",
      "Epoch 36/100\n",
      "100/100 [==============================] - 33s - loss: 0.0115 - acc: 0.9975 - val_loss: 0.1933 - val_acc: 0.9750\n",
      "Epoch 37/100\n",
      "100/100 [==============================] - 33s - loss: 0.0101 - acc: 0.9980 - val_loss: 0.1779 - val_acc: 0.9780\n",
      "Epoch 38/100\n",
      "100/100 [==============================] - 33s - loss: 0.0101 - acc: 0.9975 - val_loss: 0.1887 - val_acc: 0.9700\n",
      "Epoch 39/100\n",
      "100/100 [==============================] - 33s - loss: 0.0093 - acc: 0.9980 - val_loss: 0.2159 - val_acc: 0.9720\n",
      "Epoch 40/100\n",
      "100/100 [==============================] - 33s - loss: 0.0049 - acc: 0.9990 - val_loss: 0.1412 - val_acc: 0.9790\n",
      "Epoch 41/100\n",
      "100/100 [==============================] - 33s - loss: 0.0052 - acc: 0.9985 - val_loss: 0.2066 - val_acc: 0.9690\n",
      "Epoch 42/100\n",
      "100/100 [==============================] - 33s - loss: 0.0043 - acc: 0.9990 - val_loss: 0.1860 - val_acc: 0.9770\n",
      "Epoch 43/100\n",
      "100/100 [==============================] - 33s - loss: 0.0031 - acc: 0.9985 - val_loss: 0.2361 - val_acc: 0.9680\n",
      "Epoch 44/100\n",
      "100/100 [==============================] - 33s - loss: 0.0012 - acc: 0.9995 - val_loss: 0.2440 - val_acc: 0.9680\n",
      "Epoch 45/100\n",
      "100/100 [==============================] - 33s - loss: 0.0035 - acc: 0.9985 - val_loss: 0.1428 - val_acc: 0.9820\n",
      "Epoch 46/100\n",
      "100/100 [==============================] - 33s - loss: 0.0111 - acc: 0.9970 - val_loss: 0.1822 - val_acc: 0.9720\n",
      "Epoch 47/100\n",
      "100/100 [==============================] - 33s - loss: 0.0047 - acc: 0.9990 - val_loss: 0.1726 - val_acc: 0.9720\n",
      "Epoch 48/100\n",
      "100/100 [==============================] - 33s - loss: 0.0039 - acc: 0.9995 - val_loss: 0.2164 - val_acc: 0.9730\n",
      "Epoch 49/100\n",
      "100/100 [==============================] - 33s - loss: 0.0060 - acc: 0.9970 - val_loss: 0.1856 - val_acc: 0.9810\n",
      "Epoch 50/100\n",
      "100/100 [==============================] - 33s - loss: 0.0126 - acc: 0.9980 - val_loss: 0.1824 - val_acc: 0.9720\n",
      "Epoch 51/100\n",
      "100/100 [==============================] - 33s - loss: 0.0155 - acc: 0.9965 - val_loss: 0.1867 - val_acc: 0.9710\n",
      "Epoch 52/100\n",
      "100/100 [==============================] - 33s - loss: 0.0059 - acc: 0.9985 - val_loss: 0.2287 - val_acc: 0.9700\n",
      "Epoch 53/100\n",
      "100/100 [==============================] - 33s - loss: 0.0046 - acc: 0.9980 - val_loss: 0.2337 - val_acc: 0.9650\n",
      "Epoch 54/100\n",
      "100/100 [==============================] - 33s - loss: 0.0087 - acc: 0.9970 - val_loss: 0.1168 - val_acc: 0.9820\n",
      "Epoch 55/100\n",
      "100/100 [==============================] - 33s - loss: 0.0046 - acc: 0.9985 - val_loss: 0.1496 - val_acc: 0.9790\n",
      "Epoch 56/100\n",
      "100/100 [==============================] - 33s - loss: 0.0067 - acc: 0.9985 - val_loss: 0.1615 - val_acc: 0.9750\n",
      "Epoch 57/100\n",
      "100/100 [==============================] - 33s - loss: 0.0066 - acc: 0.9975 - val_loss: 0.2520 - val_acc: 0.9630\n",
      "Epoch 58/100\n",
      "100/100 [==============================] - 33s - loss: 0.0017 - acc: 0.9990 - val_loss: 0.1899 - val_acc: 0.9740\n",
      "Epoch 59/100\n",
      "100/100 [==============================] - 33s - loss: 0.0022 - acc: 0.9990 - val_loss: 0.2321 - val_acc: 0.9680\n",
      "Epoch 60/100\n",
      "100/100 [==============================] - 33s - loss: 0.0091 - acc: 0.9975 - val_loss: 0.1416 - val_acc: 0.9790\n",
      "Epoch 61/100\n",
      "100/100 [==============================] - 33s - loss: 0.0054 - acc: 0.9985 - val_loss: 0.1749 - val_acc: 0.9720\n",
      "Epoch 62/100\n",
      "100/100 [==============================] - 33s - loss: 0.0028 - acc: 0.9995 - val_loss: 0.2065 - val_acc: 0.9740\n",
      "Epoch 63/100\n",
      "100/100 [==============================] - 33s - loss: 0.0058 - acc: 0.9985 - val_loss: 0.1749 - val_acc: 0.9750\n",
      "Epoch 64/100\n",
      "100/100 [==============================] - 33s - loss: 0.0076 - acc: 0.9980 - val_loss: 0.1542 - val_acc: 0.9760\n",
      "Epoch 65/100\n",
      "100/100 [==============================] - 33s - loss: 0.0081 - acc: 0.9980 - val_loss: 0.2627 - val_acc: 0.9660\n",
      "Epoch 66/100\n"
     ]
    },
    {
     "name": "stdout",
     "output_type": "stream",
     "text": [
      "100/100 [==============================] - 33s - loss: 0.0107 - acc: 0.9980 - val_loss: 0.1748 - val_acc: 0.9740\n",
      "Epoch 67/100\n",
      "100/100 [==============================] - 33s - loss: 5.1450e-04 - acc: 1.0000 - val_loss: 0.1922 - val_acc: 0.9710\n",
      "Epoch 68/100\n",
      "100/100 [==============================] - 33s - loss: 0.0054 - acc: 0.9985 - val_loss: 0.2299 - val_acc: 0.9680\n",
      "Epoch 69/100\n",
      "100/100 [==============================] - 33s - loss: 0.0091 - acc: 0.9965 - val_loss: 0.1533 - val_acc: 0.9730\n",
      "Epoch 70/100\n",
      "100/100 [==============================] - 33s - loss: 0.0190 - acc: 0.9965 - val_loss: 0.2232 - val_acc: 0.9690\n",
      "Epoch 71/100\n",
      "100/100 [==============================] - 33s - loss: 0.0058 - acc: 0.9985 - val_loss: 0.1773 - val_acc: 0.9710\n",
      "Epoch 72/100\n",
      "100/100 [==============================] - 33s - loss: 0.0072 - acc: 0.9990 - val_loss: 0.1660 - val_acc: 0.9760\n",
      "Epoch 73/100\n",
      "100/100 [==============================] - 33s - loss: 0.0036 - acc: 0.9990 - val_loss: 0.2354 - val_acc: 0.9700\n",
      "Epoch 74/100\n",
      "100/100 [==============================] - 33s - loss: 0.0023 - acc: 0.9995 - val_loss: 0.1904 - val_acc: 0.9700\n",
      "Epoch 75/100\n",
      "100/100 [==============================] - 33s - loss: 0.0137 - acc: 0.9955 - val_loss: 0.1363 - val_acc: 0.9810\n",
      "Epoch 76/100\n",
      "100/100 [==============================] - 33s - loss: 0.0055 - acc: 0.9990 - val_loss: 0.2119 - val_acc: 0.9710\n",
      "Epoch 77/100\n",
      "100/100 [==============================] - 33s - loss: 9.2985e-04 - acc: 1.0000 - val_loss: 0.1777 - val_acc: 0.9760\n",
      "Epoch 78/100\n",
      "100/100 [==============================] - 33s - loss: 0.0032 - acc: 0.9990 - val_loss: 0.2568 - val_acc: 0.9710\n",
      "Epoch 79/100\n",
      "100/100 [==============================] - 33s - loss: 0.0112 - acc: 0.9970 - val_loss: 0.2066 - val_acc: 0.9720\n",
      "Epoch 80/100\n",
      "100/100 [==============================] - 33s - loss: 0.0055 - acc: 0.9975 - val_loss: 0.1793 - val_acc: 0.9700\n",
      "Epoch 81/100\n",
      "100/100 [==============================] - 33s - loss: 0.0045 - acc: 0.9980 - val_loss: 0.2082 - val_acc: 0.9690\n",
      "Epoch 82/100\n",
      "100/100 [==============================] - 33s - loss: 0.0095 - acc: 0.9985 - val_loss: 0.1985 - val_acc: 0.9700\n",
      "Epoch 83/100\n",
      "100/100 [==============================] - 33s - loss: 0.0032 - acc: 0.9985 - val_loss: 0.1992 - val_acc: 0.9710\n",
      "Epoch 84/100\n",
      "100/100 [==============================] - 33s - loss: 0.0019 - acc: 0.9995 - val_loss: 0.2285 - val_acc: 0.9690\n",
      "Epoch 85/100\n",
      "100/100 [==============================] - 33s - loss: 0.0066 - acc: 0.9970 - val_loss: 0.1833 - val_acc: 0.9760\n",
      "Epoch 86/100\n",
      "100/100 [==============================] - 33s - loss: 0.0066 - acc: 0.9990 - val_loss: 0.2054 - val_acc: 0.9690\n",
      "Epoch 87/100\n",
      "100/100 [==============================] - 33s - loss: 0.0072 - acc: 0.9980 - val_loss: 0.2084 - val_acc: 0.9730\n",
      "Epoch 88/100\n",
      "100/100 [==============================] - 33s - loss: 0.0043 - acc: 0.9980 - val_loss: 0.1840 - val_acc: 0.9690\n",
      "Epoch 89/100\n",
      "100/100 [==============================] - 33s - loss: 0.0101 - acc: 0.9980 - val_loss: 0.1953 - val_acc: 0.9700\n",
      "Epoch 90/100\n",
      "100/100 [==============================] - 33s - loss: 0.0092 - acc: 0.9990 - val_loss: 0.1996 - val_acc: 0.9740\n",
      "Epoch 91/100\n",
      "100/100 [==============================] - 33s - loss: 0.0081 - acc: 0.9965 - val_loss: 0.2136 - val_acc: 0.9750\n",
      "Epoch 92/100\n",
      "100/100 [==============================] - 33s - loss: 0.0055 - acc: 0.9985 - val_loss: 0.1775 - val_acc: 0.9790\n",
      "Epoch 93/100\n",
      "100/100 [==============================] - 33s - loss: 3.4598e-04 - acc: 1.0000 - val_loss: 0.2102 - val_acc: 0.9760\n",
      "Epoch 94/100\n",
      "100/100 [==============================] - 33s - loss: 0.0109 - acc: 0.9985 - val_loss: 0.2081 - val_acc: 0.9760\n",
      "Epoch 95/100\n",
      "100/100 [==============================] - 33s - loss: 0.0028 - acc: 0.9985 - val_loss: 0.2033 - val_acc: 0.9720\n",
      "Epoch 96/100\n",
      "100/100 [==============================] - 33s - loss: 0.0074 - acc: 0.9990 - val_loss: 0.2118 - val_acc: 0.9750\n",
      "Epoch 97/100\n",
      "100/100 [==============================] - 33s - loss: 0.0034 - acc: 0.9990 - val_loss: 0.2621 - val_acc: 0.9740\n",
      "Epoch 98/100\n",
      "100/100 [==============================] - 33s - loss: 0.0054 - acc: 0.9975 - val_loss: 0.2589 - val_acc: 0.9650\n",
      "Epoch 99/100\n",
      "100/100 [==============================] - 33s - loss: 0.0060 - acc: 0.9990 - val_loss: 0.2242 - val_acc: 0.9700\n",
      "Epoch 100/100\n",
      "100/100 [==============================] - 33s - loss: 0.0010 - acc: 0.9995 - val_loss: 0.2403 - val_acc: 0.9750\n"
     ]
    }
   ],
   "source": [
    "model.compile(loss='binary_crossentropy',\n",
    "              optimizer=optimizers.RMSprop(lr=1e-5),\n",
    "              metrics=['acc'])\n",
    "\n",
    "history = model.fit_generator(\n",
    "      train_generator,\n",
    "      steps_per_epoch=100,\n",
    "      epochs=100,\n",
    "      validation_data=validation_generator,\n",
    "      validation_steps=50)"
   ]
  },
  {
   "cell_type": "code",
   "execution_count": null,
   "metadata": {
    "collapsed": true,
    "id": "JiUemhDYByof"
   },
   "outputs": [],
   "source": [
    "model.save('cats_and_dogs_small_4.h5')"
   ]
  },
  {
   "cell_type": "markdown",
   "metadata": {
    "id": "9fvzTJpFByof"
   },
   "source": [
    "Let's plot our results using the same plotting code as before:"
   ]
  },
  {
   "cell_type": "code",
   "execution_count": null,
   "metadata": {
    "id": "T3-hvbXZByof",
    "outputId": "4463b067-526d-4fd2-e148-c73ba433f5f0"
   },
   "outputs": [
    {
     "data": {
      "image/png": "[encoded data removed]",
      "text/plain": [
       "<matplotlib.figure.Figure at 0x7fd5442d3ef0>"
      ]
     },
     "metadata": {},
     "output_type": "display_data"
    },
    {
     "data": {
      "image/png": "[encoded data removed]",
      "text/plain": [
       "<matplotlib.figure.Figure at 0x7fd53ce2a048>"
      ]
     },
     "metadata": {},
     "output_type": "display_data"
    }
   ],
   "source": [
    "acc = history.history['acc']\n",
    "val_acc = history.history['val_acc']\n",
    "loss = history.history['loss']\n",
    "val_loss = history.history['val_loss']\n",
    "\n",
    "epochs = range(len(acc))\n",
    "\n",
    "plt.plot(epochs, acc, 'bo', label='Training acc')\n",
    "plt.plot(epochs, val_acc, 'b', label='Validation acc')\n",
    "plt.title('Training and validation accuracy')\n",
    "plt.legend()\n",
    "\n",
    "plt.figure()\n",
    "\n",
    "plt.plot(epochs, loss, 'bo', label='Training loss')\n",
    "plt.plot(epochs, val_loss, 'b', label='Validation loss')\n",
    "plt.title('Training and validation loss')\n",
    "plt.legend()\n",
    "\n",
    "plt.show()"
   ]
  },
  {
   "cell_type": "markdown",
   "metadata": {
    "id": "-xshRLJvByog"
   },
   "source": [
    "\n",
    "These curves look very noisy. To make them more readable, we can smooth them by replacing every loss and accuracy with exponential moving\n",
    "averages of these quantities. Here's a trivial utility function to do this:"
   ]
  },
  {
   "cell_type": "code",
   "execution_count": null,
   "metadata": {
    "id": "X4mCQye4Byog",
    "outputId": "de4b4c77-ab3b-4310-e1b5-bbac4e835804"
   },
   "outputs": [
    {
     "data": {
      "image/png": "[encoded data removed]",
      "text/plain": [
       "<matplotlib.figure.Figure at 0x7fd53cc076d8>"
      ]
     },
     "metadata": {},
     "output_type": "display_data"
    },
    {
     "data": {
      "image/png": "[encoded data removed]",
      "text/plain": [
       "<matplotlib.figure.Figure at 0x7fd53cbf15c0>"
      ]
     },
     "metadata": {},
     "output_type": "display_data"
    }
   ],
   "source": [
    "def smooth_curve(points, factor=0.8):\n",
    "  smoothed_points = []\n",
    "  for point in points:\n",
    "    if smoothed_points:\n",
    "      previous = smoothed_points[-1]\n",
    "      smoothed_points.append(previous * factor + point * (1 - factor))\n",
    "    else:\n",
    "      smoothed_points.append(point)\n",
    "  return smoothed_points\n",
    "\n",
    "plt.plot(epochs,\n",
    "         smooth_curve(acc), 'bo', label='Smoothed training acc')\n",
    "plt.plot(epochs,\n",
    "         smooth_curve(val_acc), 'b', label='Smoothed validation acc')\n",
    "plt.title('Training and validation accuracy')\n",
    "plt.legend()\n",
    "\n",
    "plt.figure()\n",
    "\n",
    "plt.plot(epochs,\n",
    "         smooth_curve(loss), 'bo', label='Smoothed training loss')\n",
    "plt.plot(epochs,\n",
    "         smooth_curve(val_loss), 'b', label='Smoothed validation loss')\n",
    "plt.title('Training and validation loss')\n",
    "plt.legend()\n",
    "\n",
    "plt.show()"
   ]
  },
  {
   "cell_type": "markdown",
   "metadata": {
    "id": "fFldJkXsByog"
   },
   "source": [
    "\n",
    "These curves look much cleaner and more stable. We are seeing a nice 1% absolute improvement.\n",
    "\n",
    "Note that the loss curve does not show any real improvement (in fact, it is deteriorating). You may wonder, how could accuracy improve if the\n",
    "loss isn't decreasing? The answer is simple: what we display is an average of pointwise loss values, but what actually matters for accuracy\n",
    "is the distribution of the loss values, not their average, since accuracy is the result of a binary thresholding of the class probability\n",
    "predicted by the model. The model may still be improving even if this isn't reflected in the average loss.\n",
    "\n",
    "We can now finally evaluate this model on the test data:"
   ]
  },
  {
   "cell_type": "code",
   "execution_count": null,
   "metadata": {
    "id": "V1LfkMowByog",
    "outputId": "6e4a005c-c33a-44c6-d6fc-02d2e2e165a9"
   },
   "outputs": [
    {
     "name": "stdout",
     "output_type": "stream",
     "text": [
      "Found 1000 images belonging to 2 classes.\n",
      "test acc: 0.967999992371\n"
     ]
    }
   ],
   "source": [
    "test_generator = test_datagen.flow_from_directory(\n",
    "        test_dir,\n",
    "        target_size=(150, 150),\n",
    "        batch_size=20,\n",
    "        class_mode='binary')\n",
    "\n",
    "test_loss, test_acc = model.evaluate_generator(test_generator, steps=50)\n",
    "print('test acc:', test_acc)"
   ]
  },
  {
   "cell_type": "markdown",
   "metadata": {
    "id": "pRT6GT4uByoh"
   },
   "source": [
    "\n",
    "Here we get a test accuracy of 97%. In the original Kaggle competition around this dataset, this would have been one of the top results.\n",
    "However, using modern deep learning techniques, we managed to reach this result using only a very small fraction of the training data\n",
    "available (about 10%). There is a huge difference between being able to train on 20,000 samples compared to 2,000 samples!"
   ]
  },
  {
   "cell_type": "markdown",
   "metadata": {
    "id": "6p9ZFO1tobYg"
   },
   "source": [
    "# ![image.png](data:image/png;base64,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)"
   ]
  },
  {
   "cell_type": "code",
   "execution_count": 4,
   "metadata": {
    "colab": {
     "base_uri": "https://localhost:8080/"
    },
    "id": "DPcpVrZpoR1D",
    "outputId": "509bfe27-fb9a-4b34-efa9-47eb4c0d6eed"
   },
   "outputs": [
    {
     "name": "stdout",
     "output_type": "stream",
     "text": [
      "Downloading data from https://storage.googleapis.com/tensorflow/keras-applications/xception/xception_weights_tf_dim_ordering_tf_kernels_notop.h5\n",
      "83683744/83683744 [==============================] - 1s 0us/step\n"
     ]
    }
   ],
   "source": [
    "from keras.applications import Xception\n",
    "\n",
    "conv_base = Xception(weights='imagenet',\n",
    "                  include_top=False,\n",
    "                  input_shape=(299, 299, 3))"
   ]
  },
  {
   "cell_type": "code",
   "execution_count": 6,
   "metadata": {
    "colab": {
     "base_uri": "https://localhost:8080/"
    },
    "id": "jAVazEpcqXCw",
    "outputId": "a945e982-9b83-4d58-a3ef-cd7b188fb692"
   },
   "outputs": [
    {
     "name": "stdout",
     "output_type": "stream",
     "text": [
      "Model: \"xception\"\n",
      "__________________________________________________________________________________________________\n",
      " Layer (type)                Output Shape                 Param #   Connected to                  \n",
      "==================================================================================================\n",
      " input_1 (InputLayer)        [(None, 299, 299, 3)]        0         []                            \n",
      "                                                                                                  \n",
      " block1_conv1 (Conv2D)       (None, 149, 149, 32)         864       ['input_1[0][0]']             \n",
      "                                                                                                  \n",
      " block1_conv1_bn (BatchNorm  (None, 149, 149, 32)         128       ['block1_conv1[0][0]']        \n",
      " alization)                                                                                       \n",
      "                                                                                                  \n",
      " block1_conv1_act (Activati  (None, 149, 149, 32)         0         ['block1_conv1_bn[0][0]']     \n",
      " on)                                                                                              \n",
      "                                                                                                  \n",
      " block1_conv2 (Conv2D)       (None, 147, 147, 64)         18432     ['block1_conv1_act[0][0]']    \n",
      "                                                                                                  \n",
      " block1_conv2_bn (BatchNorm  (None, 147, 147, 64)         256       ['block1_conv2[0][0]']        \n",
      " alization)                                                                                       \n",
      "                                                                                                  \n",
      " block1_conv2_act (Activati  (None, 147, 147, 64)         0         ['block1_conv2_bn[0][0]']     \n",
      " on)                                                                                              \n",
      "                                                                                                  \n",
      " block2_sepconv1 (Separable  (None, 147, 147, 128)        8768      ['block1_conv2_act[0][0]']    \n",
      " Conv2D)                                                                                          \n",
      "                                                                                                  \n",
      " block2_sepconv1_bn (BatchN  (None, 147, 147, 128)        512       ['block2_sepconv1[0][0]']     \n",
      " ormalization)                                                                                    \n",
      "                                                                                                  \n",
      " block2_sepconv2_act (Activ  (None, 147, 147, 128)        0         ['block2_sepconv1_bn[0][0]']  \n",
      " ation)                                                                                           \n",
      "                                                                                                  \n",
      " block2_sepconv2 (Separable  (None, 147, 147, 128)        17536     ['block2_sepconv2_act[0][0]'] \n",
      " Conv2D)                                                                                          \n",
      "                                                                                                  \n",
      " block2_sepconv2_bn (BatchN  (None, 147, 147, 128)        512       ['block2_sepconv2[0][0]']     \n",
      " ormalization)                                                                                    \n",
      "                                                                                                  \n",
      " conv2d (Conv2D)             (None, 74, 74, 128)          8192      ['block1_conv2_act[0][0]']    \n",
      "                                                                                                  \n",
      " block2_pool (MaxPooling2D)  (None, 74, 74, 128)          0         ['block2_sepconv2_bn[0][0]']  \n",
      "                                                                                                  \n",
      " batch_normalization (Batch  (None, 74, 74, 128)          512       ['conv2d[0][0]']              \n",
      " Normalization)                                                                                   \n",
      "                                                                                                  \n",
      " add (Add)                   (None, 74, 74, 128)          0         ['block2_pool[0][0]',         \n",
      "                                                                     'batch_normalization[0][0]'] \n",
      "                                                                                                  \n",
      " block3_sepconv1_act (Activ  (None, 74, 74, 128)          0         ['add[0][0]']                 \n",
      " ation)                                                                                           \n",
      "                                                                                                  \n",
      " block3_sepconv1 (Separable  (None, 74, 74, 256)          33920     ['block3_sepconv1_act[0][0]'] \n",
      " Conv2D)                                                                                          \n",
      "                                                                                                  \n",
      " block3_sepconv1_bn (BatchN  (None, 74, 74, 256)          1024      ['block3_sepconv1[0][0]']     \n",
      " ormalization)                                                                                    \n",
      "                                                                                                  \n",
      " block3_sepconv2_act (Activ  (None, 74, 74, 256)          0         ['block3_sepconv1_bn[0][0]']  \n",
      " ation)                                                                                           \n",
      "                                                                                                  \n",
      " block3_sepconv2 (Separable  (None, 74, 74, 256)          67840     ['block3_sepconv2_act[0][0]'] \n",
      " Conv2D)                                                                                          \n",
      "                                                                                                  \n",
      " block3_sepconv2_bn (BatchN  (None, 74, 74, 256)          1024      ['block3_sepconv2[0][0]']     \n",
      " ormalization)                                                                                    \n",
      "                                                                                                  \n",
      " conv2d_1 (Conv2D)           (None, 37, 37, 256)          32768     ['add[0][0]']                 \n",
      "                                                                                                  \n",
      " block3_pool (MaxPooling2D)  (None, 37, 37, 256)          0         ['block3_sepconv2_bn[0][0]']  \n",
      "                                                                                                  \n",
      " batch_normalization_1 (Bat  (None, 37, 37, 256)          1024      ['conv2d_1[0][0]']            \n",
      " chNormalization)                                                                                 \n",
      "                                                                                                  \n",
      " add_1 (Add)                 (None, 37, 37, 256)          0         ['block3_pool[0][0]',         \n",
      "                                                                     'batch_normalization_1[0][0]'\n",
      "                                                                    ]                             \n",
      "                                                                                                  \n",
      " block4_sepconv1_act (Activ  (None, 37, 37, 256)          0         ['add_1[0][0]']               \n",
      " ation)                                                                                           \n",
      "                                                                                                  \n",
      " block4_sepconv1 (Separable  (None, 37, 37, 728)          188672    ['block4_sepconv1_act[0][0]'] \n",
      " Conv2D)                                                                                          \n",
      "                                                                                                  \n",
      " block4_sepconv1_bn (BatchN  (None, 37, 37, 728)          2912      ['block4_sepconv1[0][0]']     \n",
      " ormalization)                                                                                    \n",
      "                                                                                                  \n",
      " block4_sepconv2_act (Activ  (None, 37, 37, 728)          0         ['block4_sepconv1_bn[0][0]']  \n",
      " ation)                                                                                           \n",
      "                                                                                                  \n",
      " block4_sepconv2 (Separable  (None, 37, 37, 728)          536536    ['block4_sepconv2_act[0][0]'] \n",
      " Conv2D)                                                                                          \n",
      "                                                                                                  \n",
      " block4_sepconv2_bn (BatchN  (None, 37, 37, 728)          2912      ['block4_sepconv2[0][0]']     \n",
      " ormalization)                                                                                    \n",
      "                                                                                                  \n",
      " conv2d_2 (Conv2D)           (None, 19, 19, 728)          186368    ['add_1[0][0]']               \n",
      "                                                                                                  \n",
      " block4_pool (MaxPooling2D)  (None, 19, 19, 728)          0         ['block4_sepconv2_bn[0][0]']  \n",
      "                                                                                                  \n",
      " batch_normalization_2 (Bat  (None, 19, 19, 728)          2912      ['conv2d_2[0][0]']            \n",
      " chNormalization)                                                                                 \n",
      "                                                                                                  \n",
      " add_2 (Add)                 (None, 19, 19, 728)          0         ['block4_pool[0][0]',         \n",
      "                                                                     'batch_normalization_2[0][0]'\n",
      "                                                                    ]                             \n",
      "                                                                                                  \n",
      " block5_sepconv1_act (Activ  (None, 19, 19, 728)          0         ['add_2[0][0]']               \n",
      " ation)                                                                                           \n",
      "                                                                                                  \n",
      " block5_sepconv1 (Separable  (None, 19, 19, 728)          536536    ['block5_sepconv1_act[0][0]'] \n",
      " Conv2D)                                                                                          \n",
      "                                                                                                  \n",
      " block5_sepconv1_bn (BatchN  (None, 19, 19, 728)          2912      ['block5_sepconv1[0][0]']     \n",
      " ormalization)                                                                                    \n",
      "                                                                                                  \n",
      " block5_sepconv2_act (Activ  (None, 19, 19, 728)          0         ['block5_sepconv1_bn[0][0]']  \n",
      " ation)                                                                                           \n",
      "                                                                                                  \n",
      " block5_sepconv2 (Separable  (None, 19, 19, 728)          536536    ['block5_sepconv2_act[0][0]'] \n",
      " Conv2D)                                                                                          \n",
      "                                                                                                  \n",
      " block5_sepconv2_bn (BatchN  (None, 19, 19, 728)          2912      ['block5_sepconv2[0][0]']     \n",
      " ormalization)                                                                                    \n",
      "                                                                                                  \n",
      " block5_sepconv3_act (Activ  (None, 19, 19, 728)          0         ['block5_sepconv2_bn[0][0]']  \n",
      " ation)                                                                                           \n",
      "                                                                                                  \n",
      " block5_sepconv3 (Separable  (None, 19, 19, 728)          536536    ['block5_sepconv3_act[0][0]'] \n",
      " Conv2D)                                                                                          \n",
      "                                                                                                  \n",
      " block5_sepconv3_bn (BatchN  (None, 19, 19, 728)          2912      ['block5_sepconv3[0][0]']     \n",
      " ormalization)                                                                                    \n",
      "                                                                                                  \n",
      " add_3 (Add)                 (None, 19, 19, 728)          0         ['block5_sepconv3_bn[0][0]',  \n",
      "                                                                     'add_2[0][0]']               \n",
      "                                                                                                  \n",
      " block6_sepconv1_act (Activ  (None, 19, 19, 728)          0         ['add_3[0][0]']               \n",
      " ation)                                                                                           \n",
      "                                                                                                  \n",
      " block6_sepconv1 (Separable  (None, 19, 19, 728)          536536    ['block6_sepconv1_act[0][0]'] \n",
      " Conv2D)                                                                                          \n",
      "                                                                                                  \n",
      " block6_sepconv1_bn (BatchN  (None, 19, 19, 728)          2912      ['block6_sepconv1[0][0]']     \n",
      " ormalization)                                                                                    \n",
      "                                                                                                  \n",
      " block6_sepconv2_act (Activ  (None, 19, 19, 728)          0         ['block6_sepconv1_bn[0][0]']  \n",
      " ation)                                                                                           \n",
      "                                                                                                  \n",
      " block6_sepconv2 (Separable  (None, 19, 19, 728)          536536    ['block6_sepconv2_act[0][0]'] \n",
      " Conv2D)                                                                                          \n",
      "                                                                                                  \n",
      " block6_sepconv2_bn (BatchN  (None, 19, 19, 728)          2912      ['block6_sepconv2[0][0]']     \n",
      " ormalization)                                                                                    \n",
      "                                                                                                  \n",
      " block6_sepconv3_act (Activ  (None, 19, 19, 728)          0         ['block6_sepconv2_bn[0][0]']  \n",
      " ation)                                                                                           \n",
      "                                                                                                  \n",
      " block6_sepconv3 (Separable  (None, 19, 19, 728)          536536    ['block6_sepconv3_act[0][0]'] \n",
      " Conv2D)                                                                                          \n",
      "                                                                                                  \n",
      " block6_sepconv3_bn (BatchN  (None, 19, 19, 728)          2912      ['block6_sepconv3[0][0]']     \n",
      " ormalization)                                                                                    \n",
      "                                                                                                  \n",
      " add_4 (Add)                 (None, 19, 19, 728)          0         ['block6_sepconv3_bn[0][0]',  \n",
      "                                                                     'add_3[0][0]']               \n",
      "                                                                                                  \n",
      " block7_sepconv1_act (Activ  (None, 19, 19, 728)          0         ['add_4[0][0]']               \n",
      " ation)                                                                                           \n",
      "                                                                                                  \n",
      " block7_sepconv1 (Separable  (None, 19, 19, 728)          536536    ['block7_sepconv1_act[0][0]'] \n",
      " Conv2D)                                                                                          \n",
      "                                                                                                  \n",
      " block7_sepconv1_bn (BatchN  (None, 19, 19, 728)          2912      ['block7_sepconv1[0][0]']     \n",
      " ormalization)                                                                                    \n",
      "                                                                                                  \n",
      " block7_sepconv2_act (Activ  (None, 19, 19, 728)          0         ['block7_sepconv1_bn[0][0]']  \n",
      " ation)                                                                                           \n",
      "                                                                                                  \n",
      " block7_sepconv2 (Separable  (None, 19, 19, 728)          536536    ['block7_sepconv2_act[0][0]'] \n",
      " Conv2D)                                                                                          \n",
      "                                                                                                  \n",
      " block7_sepconv2_bn (BatchN  (None, 19, 19, 728)          2912      ['block7_sepconv2[0][0]']     \n",
      " ormalization)                                                                                    \n",
      "                                                                                                  \n",
      " block7_sepconv3_act (Activ  (None, 19, 19, 728)          0         ['block7_sepconv2_bn[0][0]']  \n",
      " ation)                                                                                           \n",
      "                                                                                                  \n",
      " block7_sepconv3 (Separable  (None, 19, 19, 728)          536536    ['block7_sepconv3_act[0][0]'] \n",
      " Conv2D)                                                                                          \n",
      "                                                                                                  \n",
      " block7_sepconv3_bn (BatchN  (None, 19, 19, 728)          2912      ['block7_sepconv3[0][0]']     \n",
      " ormalization)                                                                                    \n",
      "                                                                                                  \n",
      " add_5 (Add)                 (None, 19, 19, 728)          0         ['block7_sepconv3_bn[0][0]',  \n",
      "                                                                     'add_4[0][0]']               \n",
      "                                                                                                  \n",
      " block8_sepconv1_act (Activ  (None, 19, 19, 728)          0         ['add_5[0][0]']               \n",
      " ation)                                                                                           \n",
      "                                                                                                  \n",
      " block8_sepconv1 (Separable  (None, 19, 19, 728)          536536    ['block8_sepconv1_act[0][0]'] \n",
      " Conv2D)                                                                                          \n",
      "                                                                                                  \n",
      " block8_sepconv1_bn (BatchN  (None, 19, 19, 728)          2912      ['block8_sepconv1[0][0]']     \n",
      " ormalization)                                                                                    \n",
      "                                                                                                  \n",
      " block8_sepconv2_act (Activ  (None, 19, 19, 728)          0         ['block8_sepconv1_bn[0][0]']  \n",
      " ation)                                                                                           \n",
      "                                                                                                  \n",
      " block8_sepconv2 (Separable  (None, 19, 19, 728)          536536    ['block8_sepconv2_act[0][0]'] \n",
      " Conv2D)                                                                                          \n",
      "                                                                                                  \n",
      " block8_sepconv2_bn (BatchN  (None, 19, 19, 728)          2912      ['block8_sepconv2[0][0]']     \n",
      " ormalization)                                                                                    \n",
      "                                                                                                  \n",
      " block8_sepconv3_act (Activ  (None, 19, 19, 728)          0         ['block8_sepconv2_bn[0][0]']  \n",
      " ation)                                                                                           \n",
      "                                                                                                  \n",
      " block8_sepconv3 (Separable  (None, 19, 19, 728)          536536    ['block8_sepconv3_act[0][0]'] \n",
      " Conv2D)                                                                                          \n",
      "                                                                                                  \n",
      " block8_sepconv3_bn (BatchN  (None, 19, 19, 728)          2912      ['block8_sepconv3[0][0]']     \n",
      " ormalization)                                                                                    \n",
      "                                                                                                  \n",
      " add_6 (Add)                 (None, 19, 19, 728)          0         ['block8_sepconv3_bn[0][0]',  \n",
      "                                                                     'add_5[0][0]']               \n",
      "                                                                                                  \n",
      " block9_sepconv1_act (Activ  (None, 19, 19, 728)          0         ['add_6[0][0]']               \n",
      " ation)                                                                                           \n",
      "                                                                                                  \n",
      " block9_sepconv1 (Separable  (None, 19, 19, 728)          536536    ['block9_sepconv1_act[0][0]'] \n",
      " Conv2D)                                                                                          \n",
      "                                                                                                  \n",
      " block9_sepconv1_bn (BatchN  (None, 19, 19, 728)          2912      ['block9_sepconv1[0][0]']     \n",
      " ormalization)                                                                                    \n",
      "                                                                                                  \n",
      " block9_sepconv2_act (Activ  (None, 19, 19, 728)          0         ['block9_sepconv1_bn[0][0]']  \n",
      " ation)                                                                                           \n",
      "                                                                                                  \n",
      " block9_sepconv2 (Separable  (None, 19, 19, 728)          536536    ['block9_sepconv2_act[0][0]'] \n",
      " Conv2D)                                                                                          \n",
      "                                                                                                  \n",
      " block9_sepconv2_bn (BatchN  (None, 19, 19, 728)          2912      ['block9_sepconv2[0][0]']     \n",
      " ormalization)                                                                                    \n",
      "                                                                                                  \n",
      " block9_sepconv3_act (Activ  (None, 19, 19, 728)          0         ['block9_sepconv2_bn[0][0]']  \n",
      " ation)                                                                                           \n",
      "                                                                                                  \n",
      " block9_sepconv3 (Separable  (None, 19, 19, 728)          536536    ['block9_sepconv3_act[0][0]'] \n",
      " Conv2D)                                                                                          \n",
      "                                                                                                  \n",
      " block9_sepconv3_bn (BatchN  (None, 19, 19, 728)          2912      ['block9_sepconv3[0][0]']     \n",
      " ormalization)                                                                                    \n",
      "                                                                                                  \n",
      " add_7 (Add)                 (None, 19, 19, 728)          0         ['block9_sepconv3_bn[0][0]',  \n",
      "                                                                     'add_6[0][0]']               \n",
      "                                                                                                  \n",
      " block10_sepconv1_act (Acti  (None, 19, 19, 728)          0         ['add_7[0][0]']               \n",
      " vation)                                                                                          \n",
      "                                                                                                  \n",
      " block10_sepconv1 (Separabl  (None, 19, 19, 728)          536536    ['block10_sepconv1_act[0][0]']\n",
      " eConv2D)                                                                                         \n",
      "                                                                                                  \n",
      " block10_sepconv1_bn (Batch  (None, 19, 19, 728)          2912      ['block10_sepconv1[0][0]']    \n",
      " Normalization)                                                                                   \n",
      "                                                                                                  \n",
      " block10_sepconv2_act (Acti  (None, 19, 19, 728)          0         ['block10_sepconv1_bn[0][0]'] \n",
      " vation)                                                                                          \n",
      "                                                                                                  \n",
      " block10_sepconv2 (Separabl  (None, 19, 19, 728)          536536    ['block10_sepconv2_act[0][0]']\n",
      " eConv2D)                                                                                         \n",
      "                                                                                                  \n",
      " block10_sepconv2_bn (Batch  (None, 19, 19, 728)          2912      ['block10_sepconv2[0][0]']    \n",
      " Normalization)                                                                                   \n",
      "                                                                                                  \n",
      " block10_sepconv3_act (Acti  (None, 19, 19, 728)          0         ['block10_sepconv2_bn[0][0]'] \n",
      " vation)                                                                                          \n",
      "                                                                                                  \n",
      " block10_sepconv3 (Separabl  (None, 19, 19, 728)          536536    ['block10_sepconv3_act[0][0]']\n",
      " eConv2D)                                                                                         \n",
      "                                                                                                  \n",
      " block10_sepconv3_bn (Batch  (None, 19, 19, 728)          2912      ['block10_sepconv3[0][0]']    \n",
      " Normalization)                                                                                   \n",
      "                                                                                                  \n",
      " add_8 (Add)                 (None, 19, 19, 728)          0         ['block10_sepconv3_bn[0][0]', \n",
      "                                                                     'add_7[0][0]']               \n",
      "                                                                                                  \n",
      " block11_sepconv1_act (Acti  (None, 19, 19, 728)          0         ['add_8[0][0]']               \n",
      " vation)                                                                                          \n",
      "                                                                                                  \n",
      " block11_sepconv1 (Separabl  (None, 19, 19, 728)          536536    ['block11_sepconv1_act[0][0]']\n",
      " eConv2D)                                                                                         \n",
      "                                                                                                  \n",
      " block11_sepconv1_bn (Batch  (None, 19, 19, 728)          2912      ['block11_sepconv1[0][0]']    \n",
      " Normalization)                                                                                   \n",
      "                                                                                                  \n",
      " block11_sepconv2_act (Acti  (None, 19, 19, 728)          0         ['block11_sepconv1_bn[0][0]'] \n",
      " vation)                                                                                          \n",
      "                                                                                                  \n",
      " block11_sepconv2 (Separabl  (None, 19, 19, 728)          536536    ['block11_sepconv2_act[0][0]']\n",
      " eConv2D)                                                                                         \n",
      "                                                                                                  \n",
      " block11_sepconv2_bn (Batch  (None, 19, 19, 728)          2912      ['block11_sepconv2[0][0]']    \n",
      " Normalization)                                                                                   \n",
      "                                                                                                  \n",
      " block11_sepconv3_act (Acti  (None, 19, 19, 728)          0         ['block11_sepconv2_bn[0][0]'] \n",
      " vation)                                                                                          \n",
      "                                                                                                  \n",
      " block11_sepconv3 (Separabl  (None, 19, 19, 728)          536536    ['block11_sepconv3_act[0][0]']\n",
      " eConv2D)                                                                                         \n",
      "                                                                                                  \n",
      " block11_sepconv3_bn (Batch  (None, 19, 19, 728)          2912      ['block11_sepconv3[0][0]']    \n",
      " Normalization)                                                                                   \n",
      "                                                                                                  \n",
      " add_9 (Add)                 (None, 19, 19, 728)          0         ['block11_sepconv3_bn[0][0]', \n",
      "                                                                     'add_8[0][0]']               \n",
      "                                                                                                  \n",
      " block12_sepconv1_act (Acti  (None, 19, 19, 728)          0         ['add_9[0][0]']               \n",
      " vation)                                                                                          \n",
      "                                                                                                  \n",
      " block12_sepconv1 (Separabl  (None, 19, 19, 728)          536536    ['block12_sepconv1_act[0][0]']\n",
      " eConv2D)                                                                                         \n",
      "                                                                                                  \n",
      " block12_sepconv1_bn (Batch  (None, 19, 19, 728)          2912      ['block12_sepconv1[0][0]']    \n",
      " Normalization)                                                                                   \n",
      "                                                                                                  \n",
      " block12_sepconv2_act (Acti  (None, 19, 19, 728)          0         ['block12_sepconv1_bn[0][0]'] \n",
      " vation)                                                                                          \n",
      "                                                                                                  \n",
      " block12_sepconv2 (Separabl  (None, 19, 19, 728)          536536    ['block12_sepconv2_act[0][0]']\n",
      " eConv2D)                                                                                         \n",
      "                                                                                                  \n",
      " block12_sepconv2_bn (Batch  (None, 19, 19, 728)          2912      ['block12_sepconv2[0][0]']    \n",
      " Normalization)                                                                                   \n",
      "                                                                                                  \n",
      " block12_sepconv3_act (Acti  (None, 19, 19, 728)          0         ['block12_sepconv2_bn[0][0]'] \n",
      " vation)                                                                                          \n",
      "                                                                                                  \n",
      " block12_sepconv3 (Separabl  (None, 19, 19, 728)          536536    ['block12_sepconv3_act[0][0]']\n",
      " eConv2D)                                                                                         \n",
      "                                                                                                  \n",
      " block12_sepconv3_bn (Batch  (None, 19, 19, 728)          2912      ['block12_sepconv3[0][0]']    \n",
      " Normalization)                                                                                   \n",
      "                                                                                                  \n",
      " add_10 (Add)                (None, 19, 19, 728)          0         ['block12_sepconv3_bn[0][0]', \n",
      "                                                                     'add_9[0][0]']               \n",
      "                                                                                                  \n",
      " block13_sepconv1_act (Acti  (None, 19, 19, 728)          0         ['add_10[0][0]']              \n",
      " vation)                                                                                          \n",
      "                                                                                                  \n",
      " block13_sepconv1 (Separabl  (None, 19, 19, 728)          536536    ['block13_sepconv1_act[0][0]']\n",
      " eConv2D)                                                                                         \n",
      "                                                                                                  \n",
      " block13_sepconv1_bn (Batch  (None, 19, 19, 728)          2912      ['block13_sepconv1[0][0]']    \n",
      " Normalization)                                                                                   \n",
      "                                                                                                  \n",
      " block13_sepconv2_act (Acti  (None, 19, 19, 728)          0         ['block13_sepconv1_bn[0][0]'] \n",
      " vation)                                                                                          \n",
      "                                                                                                  \n",
      " block13_sepconv2 (Separabl  (None, 19, 19, 1024)         752024    ['block13_sepconv2_act[0][0]']\n",
      " eConv2D)                                                                                         \n",
      "                                                                                                  \n",
      " block13_sepconv2_bn (Batch  (None, 19, 19, 1024)         4096      ['block13_sepconv2[0][0]']    \n",
      " Normalization)                                                                                   \n",
      "                                                                                                  \n",
      " conv2d_3 (Conv2D)           (None, 10, 10, 1024)         745472    ['add_10[0][0]']              \n",
      "                                                                                                  \n",
      " block13_pool (MaxPooling2D  (None, 10, 10, 1024)         0         ['block13_sepconv2_bn[0][0]'] \n",
      " )                                                                                                \n",
      "                                                                                                  \n",
      " batch_normalization_3 (Bat  (None, 10, 10, 1024)         4096      ['conv2d_3[0][0]']            \n",
      " chNormalization)                                                                                 \n",
      "                                                                                                  \n",
      " add_11 (Add)                (None, 10, 10, 1024)         0         ['block13_pool[0][0]',        \n",
      "                                                                     'batch_normalization_3[0][0]'\n",
      "                                                                    ]                             \n",
      "                                                                                                  \n",
      " block14_sepconv1 (Separabl  (None, 10, 10, 1536)         1582080   ['add_11[0][0]']              \n",
      " eConv2D)                                                                                         \n",
      "                                                                                                  \n",
      " block14_sepconv1_bn (Batch  (None, 10, 10, 1536)         6144      ['block14_sepconv1[0][0]']    \n",
      " Normalization)                                                                                   \n",
      "                                                                                                  \n",
      " block14_sepconv1_act (Acti  (None, 10, 10, 1536)         0         ['block14_sepconv1_bn[0][0]'] \n",
      " vation)                                                                                          \n",
      "                                                                                                  \n",
      " block14_sepconv2 (Separabl  (None, 10, 10, 2048)         3159552   ['block14_sepconv1_act[0][0]']\n",
      " eConv2D)                                                                                         \n",
      "                                                                                                  \n",
      " block14_sepconv2_bn (Batch  (None, 10, 10, 2048)         8192      ['block14_sepconv2[0][0]']    \n",
      " Normalization)                                                                                   \n",
      "                                                                                                  \n",
      " block14_sepconv2_act (Acti  (None, 10, 10, 2048)         0         ['block14_sepconv2_bn[0][0]'] \n",
      " vation)                                                                                          \n",
      "                                                                                                  \n",
      "==================================================================================================\n",
      "Total params: 20861480 (79.58 MB)\n",
      "Trainable params: 20806952 (79.37 MB)\n",
      "Non-trainable params: 54528 (213.00 KB)\n",
      "__________________________________________________________________________________________________\n"
     ]
    }
   ],
   "source": [
    "conv_base.summary()"
   ]
  },
  {
   "cell_type": "code",
   "execution_count": 7,
   "metadata": {
    "id": "ScpYLjrarz3q"
   },
   "outputs": [],
   "source": [
    "from keras import models\n",
    "from keras import layers\n",
    "from keras import regularizers"
   ]
  },
  {
   "cell_type": "code",
   "execution_count": 8,
   "metadata": {
    "id": "AadpFeaNoSDC"
   },
   "outputs": [],
   "source": [
    "#add convolutional layer on top of conv base\n",
    "\n",
    "model = models.Sequential()\n",
    "model.add(conv_base)\n",
    "model.add(layers.Flatten())\n",
    "model.add(layers.Dense(256, activation='relu'))\n",
    "model.add(layers.Dense(1, activation='sigmoid'))"
   ]
  },
  {
   "cell_type": "code",
   "execution_count": 9,
   "metadata": {
    "id": "SyEjLWWxoSH9"
   },
   "outputs": [],
   "source": [
    "#freeze base\n",
    "conv_base.trainable = False"
   ]
  },
  {
   "cell_type": "code",
   "execution_count": 10,
   "metadata": {
    "colab": {
     "base_uri": "https://localhost:8080/"
    },
    "id": "6zuYzkdQoSLj",
    "outputId": "1dfbbcd3-9d47-4a7b-90c4-ced566adc185"
   },
   "outputs": [
    {
     "name": "stdout",
     "output_type": "stream",
     "text": [
      "This is the number of trainable weights after freezing the conv base: 4\n"
     ]
    }
   ],
   "source": [
    "print('This is the number of trainable weights '\n",
    "      'after freezing the conv base:', len(model.trainable_weights))"
   ]
  },
  {
   "cell_type": "code",
   "execution_count": 12,
   "metadata": {
    "colab": {
     "base_uri": "https://localhost:8080/"
    },
    "id": "nYByb8AZsNGP",
    "outputId": "7f885b60-d025-420d-c48e-3f36e7031d48"
   },
   "outputs": [
    {
     "name": "stdout",
     "output_type": "stream",
     "text": [
      "Found 2000 images belonging to 2 classes.\n",
      "Found 1000 images belonging to 2 classes.\n"
     ]
    }
   ],
   "source": [
    "from keras.preprocessing.image import ImageDataGenerator\n",
    "\n",
    "train_datagen = ImageDataGenerator(\n",
    "      rescale=1./255,\n",
    "      rotation_range=40,\n",
    "      width_shift_range=0.2,\n",
    "      height_shift_range=0.2,\n",
    "      shear_range=0.2,\n",
    "      zoom_range=0.2,\n",
    "      horizontal_flip=True,\n",
    "      fill_mode='nearest')\n",
    "\n",
    "# Note that the validation data should not be augmented!\n",
    "test_datagen = ImageDataGenerator(rescale=1./255)\n",
    "\n",
    "train_generator = train_datagen.flow_from_directory(\n",
    "        # This is the target directory\n",
    "        train_dir,\n",
    "        # All images will be resized to 299x299\n",
    "        target_size=(299, 299),\n",
    "        batch_size=20,\n",
    "        # Since we use binary_crossentropy loss, we need binary labels\n",
    "        class_mode='binary')\n",
    "\n",
    "validation_generator = test_datagen.flow_from_directory(\n",
    "        validation_dir,\n",
    "        target_size=(299, 299),\n",
    "        batch_size=20,\n",
    "        class_mode='binary')\n",
    "\n",
    "model.compile(loss='binary_crossentropy',\n",
    "              optimizer=optimizers.RMSprop(learning_rate=2e-5),\n",
    "              metrics=['acc'])\n",
    "\n"
   ]
  },
  {
   "cell_type": "code",
   "execution_count": 13,
   "metadata": {
    "colab": {
     "base_uri": "https://localhost:8080/"
    },
    "id": "9rYr0_-vsNO3",
    "outputId": "f72d31ee-05a1-48a4-dab6-85199b4bec46"
   },
   "outputs": [
    {
     "name": "stdout",
     "output_type": "stream",
     "text": [
      "Epoch 1/30\n",
      "100/100 [==============================] - 443s 4s/step - loss: 0.1011 - acc: 0.9645 - val_loss: 0.0131 - val_acc: 0.9960\n",
      "Epoch 2/30\n",
      "100/100 [==============================] - 57s 568ms/step - loss: 0.0502 - acc: 0.9860 - val_loss: 0.0159 - val_acc: 0.9950\n",
      "Epoch 3/30\n",
      "100/100 [==============================] - 56s 562ms/step - loss: 0.0601 - acc: 0.9825 - val_loss: 0.0104 - val_acc: 0.9950\n",
      "Epoch 4/30\n",
      "100/100 [==============================] - 56s 559ms/step - loss: 0.0377 - acc: 0.9895 - val_loss: 0.0194 - val_acc: 0.9950\n",
      "Epoch 5/30\n",
      "100/100 [==============================] - 57s 567ms/step - loss: 0.0251 - acc: 0.9910 - val_loss: 0.0119 - val_acc: 0.9940\n",
      "Epoch 6/30\n",
      "100/100 [==============================] - 57s 567ms/step - loss: 0.0313 - acc: 0.9875 - val_loss: 0.0126 - val_acc: 0.9950\n",
      "Epoch 7/30\n",
      "100/100 [==============================] - 57s 567ms/step - loss: 0.0347 - acc: 0.9910 - val_loss: 0.0086 - val_acc: 0.9970\n",
      "Epoch 8/30\n",
      "100/100 [==============================] - 57s 570ms/step - loss: 0.0324 - acc: 0.9905 - val_loss: 0.0103 - val_acc: 0.9960\n",
      "Epoch 9/30\n",
      "100/100 [==============================] - 58s 579ms/step - loss: 0.0350 - acc: 0.9875 - val_loss: 0.0072 - val_acc: 0.9970\n",
      "Epoch 10/30\n",
      "100/100 [==============================] - 65s 652ms/step - loss: 0.0308 - acc: 0.9885 - val_loss: 0.0109 - val_acc: 0.9950\n",
      "Epoch 11/30\n",
      "100/100 [==============================] - 58s 585ms/step - loss: 0.0283 - acc: 0.9910 - val_loss: 0.0061 - val_acc: 0.9960\n",
      "Epoch 12/30\n",
      "100/100 [==============================] - 57s 575ms/step - loss: 0.0125 - acc: 0.9960 - val_loss: 0.0125 - val_acc: 0.9970\n",
      "Epoch 13/30\n",
      "100/100 [==============================] - 61s 616ms/step - loss: 0.0171 - acc: 0.9940 - val_loss: 0.0077 - val_acc: 0.9970\n",
      "Epoch 14/30\n",
      "100/100 [==============================] - 63s 632ms/step - loss: 0.0169 - acc: 0.9955 - val_loss: 0.0109 - val_acc: 0.9970\n",
      "Epoch 15/30\n",
      "100/100 [==============================] - 58s 576ms/step - loss: 0.0263 - acc: 0.9935 - val_loss: 0.0145 - val_acc: 0.9960\n",
      "Epoch 16/30\n",
      "100/100 [==============================] - 64s 636ms/step - loss: 0.0136 - acc: 0.9975 - val_loss: 0.0082 - val_acc: 0.9970\n",
      "Epoch 17/30\n",
      "100/100 [==============================] - 63s 624ms/step - loss: 0.0177 - acc: 0.9940 - val_loss: 0.0123 - val_acc: 0.9950\n",
      "Epoch 18/30\n",
      "100/100 [==============================] - 69s 695ms/step - loss: 0.0189 - acc: 0.9960 - val_loss: 0.0067 - val_acc: 0.9980\n",
      "Epoch 19/30\n",
      "100/100 [==============================] - 58s 585ms/step - loss: 0.0158 - acc: 0.9950 - val_loss: 0.0156 - val_acc: 0.9970\n",
      "Epoch 20/30\n",
      "100/100 [==============================] - 67s 670ms/step - loss: 0.0215 - acc: 0.9945 - val_loss: 0.0103 - val_acc: 0.9960\n",
      "Epoch 21/30\n",
      "100/100 [==============================] - 57s 575ms/step - loss: 0.0147 - acc: 0.9945 - val_loss: 0.0102 - val_acc: 0.9950\n",
      "Epoch 22/30\n",
      "100/100 [==============================] - 56s 563ms/step - loss: 0.0120 - acc: 0.9955 - val_loss: 0.0094 - val_acc: 0.9960\n",
      "Epoch 23/30\n",
      "100/100 [==============================] - 57s 570ms/step - loss: 0.0180 - acc: 0.9950 - val_loss: 0.0090 - val_acc: 0.9980\n",
      "Epoch 24/30\n",
      "100/100 [==============================] - 57s 567ms/step - loss: 0.0233 - acc: 0.9940 - val_loss: 0.0067 - val_acc: 0.9980\n",
      "Epoch 25/30\n",
      "100/100 [==============================] - 57s 570ms/step - loss: 0.0183 - acc: 0.9945 - val_loss: 0.0076 - val_acc: 0.9960\n",
      "Epoch 26/30\n",
      "100/100 [==============================] - 57s 571ms/step - loss: 0.0070 - acc: 0.9975 - val_loss: 0.0078 - val_acc: 0.9970\n",
      "Epoch 27/30\n",
      "100/100 [==============================] - 65s 648ms/step - loss: 0.0077 - acc: 0.9970 - val_loss: 0.0055 - val_acc: 0.9980\n",
      "Epoch 28/30\n",
      "100/100 [==============================] - 70s 695ms/step - loss: 0.0099 - acc: 0.9955 - val_loss: 0.0115 - val_acc: 0.9960\n",
      "Epoch 29/30\n",
      "100/100 [==============================] - 65s 651ms/step - loss: 0.0168 - acc: 0.9955 - val_loss: 0.0067 - val_acc: 0.9970\n",
      "Epoch 30/30\n",
      "100/100 [==============================] - 57s 573ms/step - loss: 0.0072 - acc: 0.9970 - val_loss: 0.0073 - val_acc: 0.9960\n"
     ]
    }
   ],
   "source": [
    "history = model.fit(\n",
    "      train_generator,\n",
    "      steps_per_epoch=100,\n",
    "      epochs=30,\n",
    "      validation_data=validation_generator,\n",
    "      validation_steps=50,\n",
    "      verbose=1)"
   ]
  },
  {
   "cell_type": "code",
   "execution_count": 26,
   "metadata": {
    "id": "UsfbR9cYsNSh"
   },
   "outputs": [],
   "source": [
    "# unfreeze last two separable convolution layers (block14_sepconv1, block14_sepconv2)\n",
    "\n",
    "unfreeze =['block14_sepconv1','block14_sepconv2']\n",
    "\n",
    "conv_base.trainable = True\n",
    "\n",
    "set_trainable = False\n",
    "for layer in conv_base.layers:\n",
    "    if layer.name in unfreeze:\n",
    "        set_trainable = True\n",
    "    if set_trainable:\n",
    "        layer.trainable = True\n",
    "    else:\n",
    "        layer.trainable = False"
   ]
  },
  {
   "cell_type": "code",
   "execution_count": 27,
   "metadata": {
    "colab": {
     "base_uri": "https://localhost:8080/"
    },
    "id": "74pLN3CdsNVO",
    "outputId": "c66c1679-663f-4ca2-d4df-a5cfa139593d"
   },
   "outputs": [
    {
     "name": "stdout",
     "output_type": "stream",
     "text": [
      "This is the number of trainable weights after freezing the conv base: 8\n"
     ]
    }
   ],
   "source": [
    "print('This is the number of trainable weights '\n",
    "      'after unfreeze last two conv layers:', len(conv_base.trainable_weights))"
   ]
  },
  {
   "cell_type": "code",
   "execution_count": 28,
   "metadata": {
    "id": "FyMwSMuvyQBg"
   },
   "outputs": [],
   "source": [
    "model.compile(loss='binary_crossentropy',\n",
    "              optimizer=optimizers.RMSprop(learning_rate=2e-5),\n",
    "              metrics=['acc'])"
   ]
  },
  {
   "cell_type": "code",
   "execution_count": 29,
   "metadata": {
    "id": "sMiyqR9jyo-M"
   },
   "outputs": [],
   "source": [
    "# add early stopping callback for computational efficiency\n",
    "from tensorflow.keras import callbacks\n",
    "checkpoint_cb = callbacks.ModelCheckpoint(\"HW06_Xception.h5\", save_best_only=True, monitor='val_acc')"
   ]
  },
  {
   "cell_type": "code",
   "execution_count": 30,
   "metadata": {
    "colab": {
     "base_uri": "https://localhost:8080/"
    },
    "id": "3uPJ05FOyQKM",
    "outputId": "5a2bb5b9-6164-49e1-d422-f8c6643cb2e0"
   },
   "outputs": [
    {
     "name": "stdout",
     "output_type": "stream",
     "text": [
      "Epoch 1/30\n",
      "100/100 [==============================] - ETA: 0s - loss: 0.0479 - acc: 0.9880"
     ]
    },
    {
     "name": "stderr",
     "output_type": "stream",
     "text": [
      "/usr/local/lib/python3.10/dist-packages/keras/src/engine/training.py:3000: UserWarning: You are saving your model as an HDF5 file via `model.save()`. This file format is considered legacy. We recommend using instead the native Keras format, e.g. `model.save('my_model.keras')`.\n",
      "  saving_api.save_model(\n"
     ]
    },
    {
     "name": "stdout",
     "output_type": "stream",
     "text": [
      "\b\b\b\b\b\b\b\b\b\b\b\b\b\b\b\b\b\b\b\b\b\b\b\b\b\b\b\b\b\b\b\b\b\b\b\b\b\b\b\b\b\b\b\b\b\b\b\b\b\b\b\b\b\b\b\b\b\b\b\b\b\b\b\b\b\b\b\b\b\b\b\b\b\b\b\b\b\b\b\r",
      "100/100 [==============================] - 66s 590ms/step - loss: 0.0479 - acc: 0.9880 - val_loss: 0.0104 - val_acc: 0.9970\n",
      "Epoch 2/30\n",
      "100/100 [==============================] - 64s 645ms/step - loss: 0.0718 - acc: 0.9820 - val_loss: 0.0065 - val_acc: 0.9970\n",
      "Epoch 3/30\n",
      "100/100 [==============================] - 61s 609ms/step - loss: 0.0292 - acc: 0.9920 - val_loss: 0.0142 - val_acc: 0.9980\n",
      "Epoch 4/30\n",
      "100/100 [==============================] - 56s 563ms/step - loss: 0.0292 - acc: 0.9930 - val_loss: 0.0111 - val_acc: 0.9960\n",
      "Epoch 5/30\n",
      "100/100 [==============================] - 56s 562ms/step - loss: 0.0371 - acc: 0.9895 - val_loss: 0.0109 - val_acc: 0.9960\n",
      "Epoch 6/30\n",
      "100/100 [==============================] - 56s 561ms/step - loss: 0.0276 - acc: 0.9935 - val_loss: 0.0133 - val_acc: 0.9940\n",
      "Epoch 7/30\n",
      "100/100 [==============================] - 56s 562ms/step - loss: 0.0454 - acc: 0.9865 - val_loss: 0.0087 - val_acc: 0.9960\n"
     ]
    }
   ],
   "source": [
    "#fine tune the model including last two conv layers\n",
    "history = model.fit(\n",
    "      train_generator,\n",
    "      steps_per_epoch=100,\n",
    "      epochs=30,\n",
    "      validation_data=validation_generator,\n",
    "      validation_steps=50,\n",
    "      verbose=1, callbacks=[checkpoint_cb, early_stopping_cb])\n",
    "\n",
    "model = models.load_model(\"HW06_Xception.h5\") # roll back to best model\n",
    "\n",
    "model.save('HW06_Xception.h5')"
   ]
  },
  {
   "cell_type": "code",
   "execution_count": 34,
   "metadata": {
    "colab": {
     "base_uri": "https://localhost:8080/"
    },
    "id": "v-H1z3g07eik",
    "outputId": "5c361660-af3b-466c-a5d3-5d7f250a81f8"
   },
   "outputs": [
    {
     "name": "stdout",
     "output_type": "stream",
     "text": [
      "Found 1000 images belonging to 2 classes.\n"
     ]
    },
    {
     "name": "stderr",
     "output_type": "stream",
     "text": [
      "<ipython-input-34-1a4d34cbe021>:7: UserWarning: `Model.evaluate_generator` is deprecated and will be removed in a future version. Please use `Model.evaluate`, which supports generators.\n",
      "  test_loss, test_acc = model.evaluate_generator(test_generator, steps=50)\n"
     ]
    },
    {
     "name": "stdout",
     "output_type": "stream",
     "text": [
      "test acc: 0.9929999709129333\n"
     ]
    }
   ],
   "source": [
    "test_generator = test_datagen.flow_from_directory(\n",
    "        test_dir,\n",
    "        target_size=(299, 299),\n",
    "        batch_size=20,\n",
    "        class_mode='binary')\n",
    "\n",
    "test_loss, test_acc = model.evaluate(test_generator, steps=50)\n",
    "print('test acc:', test_acc)"
   ]
  },
  {
   "cell_type": "markdown",
   "metadata": {
    "id": "EWpnvIRo7OT7"
   },
   "source": [
    "## Compared to Chollet's fine tuned model, which obtained a test accuracy of ~97%, using our fine tuned Xception model with, we obtained an improved test accuracy of ~99.3%.  "
   ]
  }
 ],
 "metadata": {
  "accelerator": "GPU",
  "colab": {
   "gpuType": "V100",
   "provenance": []
  },
  "kernelspec": {
   "display_name": "Python 3 (ipykernel)",
   "language": "python",
   "name": "python3"
  },
  "language_info": {
   "codemirror_mode": {
    "name": "ipython",
    "version": 3
   },
   "file_extension": ".py",
   "mimetype": "text/x-python",
   "name": "python",
   "nbconvert_exporter": "python",
   "pygments_lexer": "ipython3",
   "version": "3.10.13"
  }
 },
 "nbformat": 4,
 "nbformat_minor": 1
}
