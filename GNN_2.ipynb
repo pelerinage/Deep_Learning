{
 "cells": [
  {
   "cell_type": "markdown",
   "id": "bb31f042-5cbf-4bf4-826f-2f6c47298600",
   "metadata": {},
   "source": [
    "# Problem 1. \n",
    "\n",
    "- Build undirected graph node by node and edge by edge, using NetworkX API.\n",
    "- Determine and print the adjacency matrix of the graph using NetworkX API.\n",
    "- Assign a different color to every node. Treat node color as its feature.\n",
    "- Create node label (features) matrix as one hot encoded representations of node colors.\n",
    "- Plot resulting graph, including node (numerical) labels and colors with the help of NetworkX API. "
   ]
  },
  {
   "cell_type": "code",
   "execution_count": 1,
   "id": "9826e74f-e24b-4144-ad63-b54ad069fe92",
   "metadata": {},
   "outputs": [
    {
     "name": "stdout",
     "output_type": "stream",
     "text": [
      "3.2.1\n"
     ]
    }
   ],
   "source": [
    "import networkx as nx\n",
    "import numpy as np\n",
    "dir(nx)\n",
    "print(nx.__version__)"
   ]
  },
  {
   "cell_type": "code",
   "execution_count": 51,
   "id": "a417b988-647f-4e81-aab6-47b67383ecf3",
   "metadata": {},
   "outputs": [
    {
     "name": "stdout",
     "output_type": "stream",
     "text": [
      "[[0 0 0 1]\n",
      " [1 0 0 0]\n",
      " [0 0 0 0]\n",
      " [0 1 1 0]]\n"
     ]
    }
   ],
   "source": [
    "#create directed graph and add nodes and edges\n",
    "G = nx.DiGraph()\n",
    "\n",
    "#Hex codes for colors if we draw graph\n",
    "blue, orange, green, red = \"#1f77b4\", \"#ff7f0e\",\"#2ca02c\", \"#FF0000\"\n",
    "\n",
    "G.add_nodes_from([(1, {\"color\": blue}),\n",
    "                  (2, {\"color\": orange}),\n",
    "                  (3, {\"color\": red}),\n",
    "                  (4, {\"color\": green})])\n",
    "\n",
    "G.add_edges_from([(2, 1),(1, 4),(4, 2),(4, 3)])\n",
    "A = np.asarray(nx.adjacency_matrix(G).todense())\n",
    "print(A)"
   ]
  },
  {
   "cell_type": "code",
   "execution_count": 52,
   "id": "a6c6fbf5-0da3-44cb-ae7d-7af90d516ecd",
   "metadata": {},
   "outputs": [],
   "source": [
    "mapping_dict = {green: 0, blue: 1, orange: 2, red:3}"
   ]
  },
  {
   "cell_type": "code",
   "execution_count": 53,
   "id": "9beba177-5b3e-45e2-ad48-29de81d3d880",
   "metadata": {},
   "outputs": [
    {
     "name": "stdout",
     "output_type": "stream",
     "text": [
      "[1 2 3 0]\n",
      "[[0. 1. 0. 0.]\n",
      " [0. 0. 1. 0.]\n",
      " [0. 0. 0. 1.]\n",
      " [1. 0. 0. 0.]]\n"
     ]
    }
   ],
   "source": [
    "#generate one hot encoding of node colors\n",
    "def build_graph_color_label_representation(G,mapping_dict):\n",
    "    one_hot_idxs = np.array([mapping_dict[v] for v in \n",
    "                             nx.get_node_attributes(G, 'color').values()])\n",
    "    print(one_hot_idxs);\n",
    "    one_hot_encoding = np.zeros((one_hot_idxs.size,len(mapping_dict)))\n",
    "    one_hot_encoding[np.arange(one_hot_idxs.size),one_hot_idxs] = 1\n",
    "    return one_hot_encoding\n",
    "\n",
    "X = build_graph_color_label_representation(G, mapping_dict)\n",
    "print(X)"
   ]
  },
  {
   "cell_type": "code",
   "execution_count": 54,
   "id": "61750765-354b-4bd5-9617-e68481852d68",
   "metadata": {},
   "outputs": [
    {
     "name": "stdout",
     "output_type": "stream",
     "text": [
      "node attrbutes:  {1: '#1f77b4', 2: '#ff7f0e', 3: '#FF0000', 4: '#2ca02c'}\n",
      "color_map:  dict_values(['#1f77b4', '#ff7f0e', '#FF0000', '#2ca02c'])\n"
     ]
    }
   ],
   "source": [
    "color_map = nx.get_node_attributes(G, 'color').values()\n",
    "print(\"node attrbutes: \",nx.get_node_attributes(G, 'color'))\n",
    "print(\"color_map: \", color_map)"
   ]
  },
  {
   "cell_type": "code",
   "execution_count": 82,
   "id": "d6543450-2f08-4864-9df8-7bbd9b21606e",
   "metadata": {},
   "outputs": [
    {
     "data": {
      "image/png": "[encoded data removed]",
      "text/plain": [
       "<Figure size 640x480 with 1 Axes>"
      ]
     },
     "metadata": {},
     "output_type": "display_data"
    }
   ],
   "source": [
    "#draw the graph\n",
    "nx.draw(G, with_labels=True, node_color=color_map)"
   ]
  },
  {
   "cell_type": "markdown",
   "id": "8f3f1639-a048-4edc-9af6-c0626887d8b7",
   "metadata": {},
   "source": [
    "# Problem 2\n",
    "\n",
    "- Create a permutation matrix P that will permute nodes of the graph in Problem 1 from (1,2,3,4) to (3,2,4,1).\n",
    "- That matrix is relabeling nodes.\n",
    "- Express adjacency matrix for the permuted graph over the adjacency matrix for the original graph and the permutation matrix.\n",
    "- Perform various matrix multiplications using torch API.\n",
    "- Is the adjacency matrix of the permuted graph identical to the one in problem 1"
   ]
  },
  {
   "cell_type": "code",
   "execution_count": 24,
   "id": "5eb3340c-d55b-4ee2-9fcf-e507402f7fb2",
   "metadata": {},
   "outputs": [],
   "source": [
    "import torch\n",
    "import numpy as np"
   ]
  },
  {
   "cell_type": "code",
   "execution_count": 35,
   "id": "798ea06f-08d9-4859-9e2a-d6f4306315ac",
   "metadata": {},
   "outputs": [],
   "source": [
    "p = np.array([[0,0,1,0],\n",
    "               [0,1,0,0],\n",
    "               [0,0,0,1],\n",
    "               [1,0,0,0]])"
   ]
  },
  {
   "cell_type": "code",
   "execution_count": 36,
   "id": "01c00e14-9071-4d38-b18e-0db0b86024fb",
   "metadata": {},
   "outputs": [
    {
     "data": {
      "text/plain": [
       "tensor([[0., 0., 1., 0.],\n",
       "        [0., 1., 0., 0.],\n",
       "        [0., 0., 0., 1.],\n",
       "        [1., 0., 0., 0.]])"
      ]
     },
     "execution_count": 36,
     "metadata": {},
     "output_type": "execute_result"
    }
   ],
   "source": [
    "#create permutation matrix\n",
    "P = torch.Tensor(a)\n",
    "P"
   ]
  },
  {
   "cell_type": "code",
   "execution_count": 37,
   "id": "e27c0375-d512-4733-862b-278bcf829f8f",
   "metadata": {},
   "outputs": [
    {
     "data": {
      "text/plain": [
       "tensor([[0., 0., 0., 1.],\n",
       "        [1., 0., 0., 0.],\n",
       "        [0., 0., 0., 0.],\n",
       "        [0., 1., 1., 0.]])"
      ]
     },
     "execution_count": 37,
     "metadata": {},
     "output_type": "execute_result"
    }
   ],
   "source": [
    "#convert adjacency matrix to Torch tensor\n",
    "\n",
    "a = torch.Tensor(A)\n",
    "a"
   ]
  },
  {
   "cell_type": "code",
   "execution_count": 38,
   "id": "bf63ff70-00f6-4282-a7b3-d9dc1ac9528e",
   "metadata": {},
   "outputs": [
    {
     "data": {
      "text/plain": [
       "tensor([[0., 0., 0., 0.],\n",
       "        [1., 0., 0., 0.],\n",
       "        [0., 1., 1., 0.],\n",
       "        [0., 0., 0., 1.]])"
      ]
     },
     "execution_count": 38,
     "metadata": {},
     "output_type": "execute_result"
    }
   ],
   "source": [
    "#compute permuted adjacency matrix\n",
    "B = torch.matmul(P,a)\n",
    "B"
   ]
  },
  {
   "cell_type": "code",
   "execution_count": 44,
   "id": "d0bb34cf-5b28-40e4-8e33-22faeb8cc336",
   "metadata": {},
   "outputs": [
    {
     "data": {
      "text/plain": [
       "tensor([[0., 0., 0., 1.],\n",
       "        [0., 0., 1., 0.],\n",
       "        [1., 0., 0., 0.],\n",
       "        [0., 1., 0., 0.]])"
      ]
     },
     "execution_count": 44,
     "metadata": {},
     "output_type": "execute_result"
    }
   ],
   "source": [
    "#permute the one hot encoding matrix for node labels\n",
    "x = torch.Tensor(X)\n",
    "\n",
    "x = torch.matmul(P,x)\n",
    "x"
   ]
  },
  {
   "cell_type": "code",
   "execution_count": 48,
   "id": "853eea89-99d7-480b-8efe-a80b6bfcbc47",
   "metadata": {},
   "outputs": [
    {
     "name": "stdout",
     "output_type": "stream",
     "text": [
      "[[0 0 0 1]\n",
      " [1 0 0 0]\n",
      " [0 0 0 0]\n",
      " [0 1 1 0]]\n"
     ]
    }
   ],
   "source": [
    "#create permuted graph\n",
    "\n",
    "G1 = nx.DiGraph()\n",
    "\n",
    "#Hex codes for colors if we draw graph\n",
    "blue, orange, green, red = \"#1f77b4\", \"#ff7f0e\",\"#2ca02c\", \"#FF0000\"\n",
    "\n",
    "G1.add_nodes_from([(3, {\"color\": blue}),\n",
    "                  (2, {\"color\": orange}),\n",
    "                  (4, {\"color\": red}),\n",
    "                  (1, {\"color\": green})])\n",
    "\n",
    "G1.add_edges_from([(2, 3),(3, 1),(1, 2),(1, 4)])\n",
    "A1 = np.asarray(nx.adjacency_matrix(G).todense())\n",
    "print(A1)"
   ]
  },
  {
   "cell_type": "markdown",
   "id": "3b22ed9f-8c83-4e8d-8368-ad91e05d8c18",
   "metadata": {},
   "source": [
    "## We see above that the adjacency matrix is permutation invariant, as the adjacency matrix on the permuted graph is the same as the original graph"
   ]
  },
  {
   "cell_type": "markdown",
   "id": "b3e7d5b7-cc9c-4b5a-8db0-208e01f4710f",
   "metadata": {},
   "source": [
    "# Problem 3\n",
    "\n",
    "- Assign weights {w_i= 〖(i-j)〗^2} to all edges {i,j} of the graph in Problem 1.\n",
    "- Make that assignment using NetworkX API.\n",
    "- Write function f() which calculates the average weight of nodes in the graph.\n",
    "- Apply that function through NetworkX API.\n",
    "- Record the average weight.\n",
    "- Calculate the average weight of the permuted graph of Problem 2.\n",
    "- What is the result?\n",
    "- Is function f() permutation invariant or permutation equivariant."
   ]
  },
  {
   "cell_type": "code",
   "execution_count": 71,
   "id": "bf73ffbf-0ee6-4eb5-ba7c-411d79db498a",
   "metadata": {},
   "outputs": [
    {
     "name": "stdout",
     "output_type": "stream",
     "text": [
      "(1, 4)\n",
      "(2, 1)\n",
      "(4, 2)\n",
      "(4, 3)\n"
     ]
    }
   ],
   "source": [
    "#assign weights to edges of the graph G\n",
    "\n",
    "for (u, v) in G.edges:\n",
    "    G.edges[u,v]['weight'] = ((u-v)**2)\n",
    "    print(f\"({u}, {v})\")"
   ]
  },
  {
   "cell_type": "code",
   "execution_count": 70,
   "id": "439134d1-407a-4635-87e0-a7128a2d5fd2",
   "metadata": {},
   "outputs": [
    {
     "name": "stdout",
     "output_type": "stream",
     "text": [
      "(1, 4, 9)\n",
      "(2, 1, 1)\n",
      "(4, 2, 4)\n",
      "(4, 3, 1)\n"
     ]
    }
   ],
   "source": [
    "#show weights of edges of the graph G\n",
    "\n",
    "for (u, v, w) in G.edges.data('weight'):\n",
    "    print(f\"({u}, {v}, {w})\")"
   ]
  },
  {
   "cell_type": "code",
   "execution_count": 72,
   "id": "60ab9054-0acc-469f-a849-39dcf3e44c2d",
   "metadata": {},
   "outputs": [],
   "source": [
    "def f(G): #where G is a graph\n",
    "    sum = 0\n",
    "    count = 0\n",
    "    for (u,v,w) in G.edges.data('weight'):\n",
    "        sum += w\n",
    "        count += 1\n",
    "    avg = sum/count\n",
    "    return avg"
   ]
  },
  {
   "cell_type": "code",
   "execution_count": 73,
   "id": "058a5c0c-b9df-4fbb-a27b-061ec4d85f56",
   "metadata": {},
   "outputs": [
    {
     "name": "stdout",
     "output_type": "stream",
     "text": [
      "3.75\n"
     ]
    }
   ],
   "source": [
    "#calculate the average of the weights\n",
    "avg = f(G)\n",
    "print(avg)"
   ]
  },
  {
   "cell_type": "code",
   "execution_count": 77,
   "id": "4605f47f-a604-49c0-ab42-20677260e91a",
   "metadata": {},
   "outputs": [
    {
     "name": "stdout",
     "output_type": "stream",
     "text": [
      "(3, 1, 4)\n",
      "(2, 3, 1)\n",
      "(1, 2, 1)\n",
      "(1, 4, 9)\n"
     ]
    }
   ],
   "source": [
    "#calculate avg weight for permuted graph\n",
    "\n",
    "for (u, v) in G1.edges:\n",
    "    G1.edges[u,v]['weight'] = ((u-v)**2)\n",
    "\n",
    "for (u, v, w) in G1.edges.data('weight'):\n",
    "    print(f\"({u}, {v}, {w})\")"
   ]
  },
  {
   "cell_type": "code",
   "execution_count": 78,
   "id": "3f1d3b43-6b3a-445c-a206-d5fe0c033b48",
   "metadata": {},
   "outputs": [
    {
     "name": "stdout",
     "output_type": "stream",
     "text": [
      "3.75\n"
     ]
    }
   ],
   "source": [
    "#calculate avg weight of permuted graph\n",
    "perm_avg = f(G1)\n",
    "print(perm_avg)"
   ]
  },
  {
   "cell_type": "markdown",
   "id": "db2a628a-b55d-483a-a944-d0155fe1ad83",
   "metadata": {},
   "source": [
    "## As we see above, the average edge weight is permutation invariant. Function f() is permutation invariant"
   ]
  },
  {
   "cell_type": "markdown",
   "id": "774f8f9b-0f27-41a0-805f-124a69b8f1c6",
   "metadata": {},
   "source": [
    "# Problem 4\n",
    "\n",
    "- Create six small graphs with 4,4,5, 6, and 6 nodes respectively.\n",
    "- If you have any Chemistry training, assign different atoms to nodes in your graphs in some chemically meaningful manner.\n",
    "- Possible atoms to use are C-carbon, O-Oxygen and N-Nitrogen. If you have no Chemistry training, just assign those letters to the nodes randomly.\n",
    "- Do not use SMILES or the QM9 dataset presented in lecture. This is not meant to be that complicated, just an extension of the first example with colors.\n",
    "- Develop a function that will create one-hot encoding for the identity of all atoms.\n",
    "- Based on that function create node label matrices for all graphs. We treat the identity of every atom as the feature of that node.\n",
    "- Generate adjacency matrices for all generated graphs.\n",
    "- Instantiate simple Graph Convolutional Network model NodeNetwork as defined in the original notebook.\n",
    "- Collate those graphs as a list into a single batch.\n",
    "- As the target value (labels) `y` use 1 if a graph contains a Nitrogen and 0 if it does not.\n",
    "- Our main objective is to organize those six graphs as a single torch.utils.data.Dataset and then pass that dataset to a loader of type torch.utils.data.DataLoader.\n",
    "- When instantiating a  DataLoader use batch_size=2.\n",
    "- Finally, you want to create a loop which will feed mini-batches from the loader into an instance of NodeNetwork.\n",
    "- Please analyze the output of the forward pass through the network.\n",
    "- You are not asked to train the network. You are demonstrating that you can feed a GNN with batches of graphs."
   ]
  },
  {
   "cell_type": "markdown",
   "id": "953a99f9-3d0d-40c9-8bd5-9f6e682a1aca",
   "metadata": {},
   "source": [
    "## See separate notebook for Problem 4"
   ]
  },
  {
   "cell_type": "code",
   "execution_count": null,
   "id": "0a16d791-c879-41c1-aa60-40e1dafe89bf",
   "metadata": {},
   "outputs": [],
   "source": []
  }
 ],
 "metadata": {
  "kernelspec": {
   "display_name": "Python 3 (ipykernel)",
   "language": "python",
   "name": "python3"
  },
  "language_info": {
   "codemirror_mode": {
    "name": "ipython",
    "version": 3
   },
   "file_extension": ".py",
   "mimetype": "text/x-python",
   "name": "python",
   "nbconvert_exporter": "python",
   "pygments_lexer": "ipython3",
   "version": "3.10.13"
  }
 },
 "nbformat": 4,
 "nbformat_minor": 5
}
